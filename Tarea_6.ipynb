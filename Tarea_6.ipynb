{
 "cells": [
  {
   "cell_type": "markdown",
   "metadata": {},
   "source": [
    "## Tarea 6"
   ]
  },
  {
   "cell_type": "markdown",
   "metadata": {},
   "source": [
    "## Metodo de integración de Riemman\n",
    "\n",
    "Para definir la integral de Riemann primero se parte un intervalo $[a,b]$ en k partes $a=x_0,x_1,...,x_k=b$ definiendo los siguientes sub intervalos $[x_{k-1},x_k]$. Luego si tenemos $f$ una función definida en el intervalo $[a,b]$ podemos definir tambien las sumas superiores de Darboux como: $$S=\\sum_{i=0}^{k} {f(x_i)(x_i-x_{i-1})}$$\n",
    "donde $f(x_i)$ es el supremo de las f(x) tal que x pertenece al intervalo $[x_{i-1},x_i]$, mientras que las sumas inferiores de Darboux se definen como $$S^{*}=\\sum_{i=0}^{k} {f(x_i)(x_i-x_{i-1})}$$ donde $f(x_i)$ es el ínfimo de las f(x) tal que x pertenece al intervalo $[x_{i-1},x_i]$, el área bajo la curva f se define entonces como A tal que\n",
    " $S^{*}\\leq A \\leq S$ recordando que esta definición formalmente requiere de tomar particiones cada vez más pequeñas y definir la integral superior como el infimo de las sumas superiores, y la integral inferior como el supremo de las sumas inferiores. De tal suerte que cuando la integral inferior y la superior son iguales se dice que la función es Riemman integrable y se llama integral de f(x) a  $$inf[S]=\\int_{*} f(x)=\\int^{*} f(x)=sup[S^{*}]$$\n",
    "                                          \n",
    "                                          \n",
    "                                         \n",
    "              "
   ]
  },
  {
   "cell_type": "markdown",
   "metadata": {},
   "source": [
    "## Regla del trapecio \n",
    "\n",
    "\n",
    "La regla del trapecio es muy simple, primero debemos tener una función f definida en un intervalo $[a,b]$ y partiremos este intervalo en n intervalos de longitud igual, es decir, se tiene un ancho para cada intervalo de $h=(b-a)/{n}$, luego en cada intervalo tomamos el punto inicial y final y usamos la aproximación lineal para calcular el área bajo el trapecio definido en cada sub intervalo, notemos que el área de un trapecio está dado por la formula:\n",
    "\n",
    "$$altura(base1+base2)/2$$ \n",
    "\n",
    "por lo tanto el área de cada trapecio que tenemos es: $$ h(f(x_k)+f(x_{k+1}))/2$$ \n",
    "\n",
    "\n",
    "pero podemos notar que $x0=a,x1=a+h,x2=a+2h,...,xn=b$\n",
    "\n",
    "así aproximamos la integral como la suma de las áreas así:\n",
    "\n",
    "$$\\int_{a}^{b} f(x)\\approx \\frac{h}{2}[f(a)+2f(a+2h)+...+f(b)]$$\n",
    "\n",
    "agrupando el término f(a) y f(b), y luego todos los demás términos que se repiten al tomar cada intervalo y que contienen dependencia de n en el argumento de f obtenemos la siguiente suma:\n",
    "\n",
    "$$ h[\\frac{f(a)+f(b)}{2}+\\sum_{k=1}^{n-1} f(a+\\frac{b-a}{n}k)]$$\n",
    "\n",
    "\n",
    "Este método es muy intuitivo pues podemos construirlo fácilmente sólo sabiendo como calcular el área de un trapecio y luego sumando. \n",
    "\n",
    "\n"
   ]
  },
  {
   "cell_type": "markdown",
   "metadata": {},
   "source": [
    "## Regla de Simpson de orden 2 \n",
    "\n",
    "La regla de simpson usa una aproximación parecida a la del trapecio sin embargo para usar esta regla se utiliza la mejor aproximación a un polinomio de grado 2 entre los puntos iniciales y finales en los que partiremos el intervalo, este polinomio es el polinomio de interpolación de Lagrange. \n",
    "\n",
    "$$ \\lambda = f(a)\\frac{(x-\\delta)(x-b)}{(a-m)(a-b)}+f(\\delta)\\frac{(x-a)(x-b)}{(\\delta-a)(\\delta-b)}+f(b)\\frac{(x-\\delta)(x-a)}{(b-\\delta)(b-a)}$$\n",
    "\n",
    "Nuevamente tomamos una partición del intervalo en n partes, es decir, tomando el ancho como  $\\delta=\\frac{b-a}{n}$ \n",
    "así usando el polinomio interpolador de lagrange obtenemos $$\\int_{x_k-1}^{x_{k+1}}f(x)=\\frac{x_{k+1}-x_{k-1}}{3}[f(x_{k-1}+4f(x_k)+f(x_{k+1}))]$$\n",
    "\n",
    "\n",
    "Si tenemos esta aproximación para cada intervalo podemos ahora sumar las integrles y obtener el valor aproximado de la integral real, notemos que el método es más preciso mientras el valor de n es más grande. \n",
    "\n",
    "\n",
    "La integral real al resolver la suma es entonces:\n",
    "\n",
    "$$\\int_{a}^{b} f(x)= \\frac{h}{3}[f(x_0)+f(x_n)+2\\sum_{k=1}^{\\frac{n}{2}-1} f(x_{2k})+4\\sum_{k=1}^{\\frac{n}{2}} f(x_{2k-1})]$$\n",
    "\n",
    "Esto puede reescribirse como sigue:\n",
    "$$\\int_{a}^{b} f(x)= \\frac{h}{3}\\sum_{k=1}^{\\frac{n}{2}} [ f(x_{2k-2})+4f(x_{2k-1})+f(x_{2k})]$$\n"
   ]
  },
  {
   "cell_type": "markdown",
   "metadata": {
    "collapsed": true
   },
   "source": [
    "## Implementacion de métodos de integración"
   ]
  },
  {
   "cell_type": "markdown",
   "metadata": {},
   "source": [
    "## Método del trapecio"
   ]
  },
  {
   "cell_type": "code",
   "execution_count": 115,
   "metadata": {},
   "outputs": [
    {
     "data": {
      "text/plain": [
       "IntegracionTrapecio (generic function with 1 method)"
      ]
     },
     "execution_count": 115,
     "metadata": {},
     "output_type": "execute_result"
    }
   ],
   "source": [
    "function IntegracionTrapecio(f,a,b,n)\n",
    "h=(b-a)/n\n",
    "IT=h*(f(a)+f(b))/2   \n",
    "    for i in 1:n\n",
    "      IT=IT+f(a+((b-a)*i/n))*h\n",
    "    end\n",
    "    IT\n",
    "end"
   ]
  },
  {
   "cell_type": "code",
   "execution_count": 116,
   "metadata": {},
   "outputs": [
    {
     "data": {
      "text/plain": [
       "f (generic function with 1 method)"
      ]
     },
     "execution_count": 116,
     "metadata": {},
     "output_type": "execute_result"
    }
   ],
   "source": [
    "f(x)=x^2\n"
   ]
  },
  {
   "cell_type": "code",
   "execution_count": 117,
   "metadata": {},
   "outputs": [
    {
     "data": {
      "text/plain": [
       "0.3334333349999995"
      ]
     },
     "execution_count": 117,
     "metadata": {},
     "output_type": "execute_result"
    }
   ],
   "source": [
    "IntegracionTrapecio(f,0,1,1e4)"
   ]
  },
  {
   "cell_type": "markdown",
   "metadata": {},
   "source": [
    "## Integración con regla de Simpson a segundo orden"
   ]
  },
  {
   "cell_type": "code",
   "execution_count": 118,
   "metadata": {},
   "outputs": [
    {
     "data": {
      "text/plain": [
       "IntegracionSimpson (generic function with 2 methods)"
      ]
     },
     "execution_count": 118,
     "metadata": {},
     "output_type": "execute_result"
    }
   ],
   "source": [
    "function IntegracionSimpson(f,a,b,n)\n",
    "h=(b-a)/n\n",
    "P=linspace(a,b,n+1)    \n",
    "#IS=(h/3)*(f(a)+f(b))\n",
    "s=convert(Int64,n/2) #necesitamos que n/2 sea detectado como entero para que el indice i pueda correr en 1:n/2   \n",
    "IS=0    \n",
    "    for i in 1:s\n",
    "        IS=IS+(f(P[2i-1])+4f(P[2i])+f(P[2i+1]))*(h/3)\n",
    "    end\n",
    "    IS\n",
    "end "
   ]
  },
  {
   "cell_type": "code",
   "execution_count": 119,
   "metadata": {},
   "outputs": [
    {
     "data": {
      "text/plain": [
       "0.3333333333333331"
      ]
     },
     "execution_count": 119,
     "metadata": {},
     "output_type": "execute_result"
    }
   ],
   "source": [
    "IntegracionSimpson(f,0,1,1e4)"
   ]
  },
  {
   "cell_type": "markdown",
   "metadata": {},
   "source": [
    "## Método de Riemman"
   ]
  },
  {
   "cell_type": "code",
   "execution_count": 120,
   "metadata": {},
   "outputs": [
    {
     "data": {
      "text/plain": [
       "IntegracionRiemann (generic function with 1 method)"
      ]
     },
     "execution_count": 120,
     "metadata": {},
     "output_type": "execute_result"
    }
   ],
   "source": [
    "function IntegracionRiemann(f,a,b,n)\n",
    "xk=linspace(a,b,n)\n",
    "IR=0\n",
    "s=convert(Int64,n-1)    \n",
    "    for i in 1:s\n",
    "        IR=IR+f(xk[i+1])*(xk[i+1]-xk[i])\n",
    "    end\n",
    "    IR\n",
    "end"
   ]
  },
  {
   "cell_type": "code",
   "execution_count": 121,
   "metadata": {},
   "outputs": [
    {
     "data": {
      "text/plain": [
       "0.33338334000083414"
      ]
     },
     "execution_count": 121,
     "metadata": {},
     "output_type": "execute_result"
    }
   ],
   "source": [
    "IntegracionRiemann(f,0,1,1e4)"
   ]
  },
  {
   "cell_type": "markdown",
   "metadata": {},
   "source": [
    "En todos los métodos usé como ejemplo la integración de la función x^2 en el intervalo (0,1), se puede notar que el método con mayor precisión es el método de integración con regla de Simpson. En todos los casos la función toma un parametro extra n, esta n determina la precisión del método pues define cuantas iteraciones se tomaran antes de llegar al resultado. "
   ]
  },
  {
   "cell_type": "code",
   "execution_count": null,
   "metadata": {
    "collapsed": true
   },
   "outputs": [],
   "source": []
  }
 ],
 "metadata": {
  "kernelspec": {
   "display_name": "Julia 0.6.0",
   "language": "julia",
   "name": "julia-0.6"
  },
  "language_info": {
   "file_extension": ".jl",
   "mimetype": "application/julia",
   "name": "julia",
   "version": "0.6.0"
  }
 },
 "nbformat": 4,
 "nbformat_minor": 2
}
