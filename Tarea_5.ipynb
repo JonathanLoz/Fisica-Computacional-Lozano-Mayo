{
 "cells": [
  {
   "cell_type": "markdown",
   "metadata": {},
   "source": [
    "## Tarea 5"
   ]
  },
  {
   "cell_type": "markdown",
   "metadata": {},
   "source": [
    "## Metodo de integración de Riemman\n",
    "\n",
    "Para definir la integral de Riemann primero se parte un intervalo $[a,b]$ en k partes $a=x_0,x_1,...,x_k=b$ definiendo los siguientes sub intervalos $[x_{k-1},x_k]$. Luego si tenemos $f$ una función definida en el intervalo $[a,b]$ podemos definir tambien las sumas superiores de Darboux como: $$S=\\sum_{i=0}^{k} {f(x_i)(x_i-x_{i-1})}$$\n",
    "donde $f(x_i)$ es el supremo de las f(x) tal que x pertenece al intervalo $[x_{i-1},x_i]$, mientras que las sumas inferiores de Darboux se definen como $$S^{*}=\\sum_{i=0}^{k} {f(x_i)(x_i-x_{i-1})}$$ donde $f(x_i)$ es el ínfimo de las f(x) tal que x pertenece al intervalo $[x_{i-1},x_i]$, el área bajo la curva f se define entonces como A tal que\n",
    " $S^{*}\\leq A \\leq S$ recordando que esta definición formalmente requiere de tomar particiones cada vez más pequeñas y definir la integral superior como el infimo de las sumas superiores, y la integral inferior como el supremo de las sumas inferiores. De tal suerte que cuando la integral inferior y la superior son iguales se dice que la función es Riemman integrable y se llama integral de f(x) a  $$inf[S]=\\int_{*} f(x)=\\int^{*} f(x)=sup[S^{*}]$$\n",
    "                                          \n",
    "                                          \n",
    "                                         \n",
    "              "
   ]
  },
  {
   "cell_type": "markdown",
   "metadata": {},
   "source": [
    "## Regla del trapecio \n",
    "\n",
    "\n",
    "La regla del trapecio es muy simple, primero debemos tener una función f definida en un intervalo $[a,b]$ y partiremos este intervalo en n intervalos de longitud igual, es decir, se tiene un ancho para cada intervalo de $h=(b-a)/{n}$, luego en cada intervalo tomamos el punto inicial y final y usamos la aproximación lineal para calcular el área bajo el trapecio definido en cada sub intervalo, notemos que el área de un trapecio está dado por la formula:\n",
    "\n",
    "$$altura(base1+base2)/2$$ \n",
    "\n",
    "por lo tanto el área de cada trapecio que tenemos es: $$ h(f(x_k)+f(x_{k+1}))/2$$ \n",
    "\n",
    "\n",
    "pero podemos notar que $x0=a,x1=a+h,x2=a+2h,...,xn=b$\n",
    "\n",
    "así aproximamos la integral como la suma de las áreas así:\n",
    "\n",
    "$$\\int_{a}^{b} f(x)\\approx \\frac{h}{2}[f(a)+2f(a+2h)+...+f(b)]$$\n",
    "\n",
    "agrupando el término f(a) y f(b), y luego todos los demás términos que se repiten al tomar cada intervalo y que contienen dependencia de n en el argumento de f obtenemos la siguiente suma:\n",
    "\n",
    "$$ h[f(a)+f(b)+\\sum_{k=1}^{n-1} f(a+\\frac{b-a}{n}k)]$$\n",
    "\n",
    "\n",
    "Este método es muy intuitivo pues podemos construirlo fácilmente sólo sabiendo como calcular el área de un trapecio y luego sumando. \n",
    "\n",
    "\n"
   ]
  },
  {
   "cell_type": "markdown",
   "metadata": {},
   "source": [
    "## Regla de Simpson de orden 2 \n",
    "\n",
    "La regla de simpson usa una aproximación parecida a la del trapecio sin embargo para usar esta regla se utiliza la mejor aproximación a un polinomio de grado 2 entre los puntos iniciales y finales en los que partiremos el intervalo, este polinomio es el polinomio de interpolación de Lagrange. \n",
    "\n",
    "$$ \\lambda = f(a)\\frac{(x-\\delta)(x-b)}{(a-m)(a-b)}+f(\\delta)\\frac{(x-a)(x-b)}{(\\delta-a)(\\delta-b)}+f(b)\\frac{(x-\\delta)(x-a)}{(b-\\delta)(b-a)}$$\n",
    "\n",
    "Nuevamente tomamos una partición del intervalo en n partes, es decir, tomando el ancho como  $\\delta=\\frac{b-a}{n}$ \n",
    "así usando el polinomio interpolador de lagrange obtenemos $$\\int_{x_k-1}^{x_{k+1}}f(x)=\\frac{x_{k+1}-x_{k-1}}{3}[f(x_{k-1}+4f(x_k)+f(x_{k+1}))]$$\n",
    "\n",
    "\n",
    "Si tenemos esta aproximación para cada intervalo podemos ahora sumar las integrles y obtener el valor aproximado de la integral real, notemos que el método es más preciso mientras el valor de n es más grande. \n",
    "\n",
    "\n",
    "La integral real al resolver la suma es entonces:\n",
    "\n",
    "$$\\int_{a}^{b} f(x)= \\frac{h}{3}[f(x_0)+f(x_n)+2\\sum_{k=1}^{\\frac{n}{2}-1} f(x_{2k})+4\\sum_{k=1}^{\\frac{n}{2}} f(x_{2k-1})]$$"
   ]
  },
  {
   "cell_type": "code",
   "execution_count": null,
   "metadata": {
    "collapsed": true
   },
   "outputs": [],
   "source": []
  }
 ],
 "metadata": {
  "kernelspec": {
   "display_name": "Julia 0.6.0",
   "language": "julia",
   "name": "julia-0.6"
  },
  "language_info": {
   "file_extension": ".jl",
   "mimetype": "application/julia",
   "name": "julia",
   "version": "0.6.0"
  }
 },
 "nbformat": 4,
 "nbformat_minor": 2
}
