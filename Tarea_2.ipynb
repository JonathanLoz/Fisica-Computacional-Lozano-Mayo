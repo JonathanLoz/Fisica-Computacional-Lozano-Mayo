{
 "cells": [
  {
   "cell_type": "code",
   "execution_count": 146,
   "metadata": {},
   "outputs": [
    {
     "name": "stderr",
     "output_type": "stream",
     "text": [
      "WARNING: Method definition df(Any, Any) in module Main at In[142]:3 overwritten at In[146]:3.\n",
      "WARNING: Method definition f(Any, Any) in module Main at In[142]:4 overwritten at In[146]:4.\n",
      "WARNING: Method definition Newtonwhile(Any, Any, Any, Any, Any) in module Main at In[142]:8 overwritten at In[146]:8.\n"
     ]
    },
    {
     "data": {
      "text/plain": [
       "Newtonwhile (generic function with 1 method)"
      ]
     },
     "execution_count": 146,
     "metadata": {},
     "output_type": "execute_result"
    }
   ],
   "source": [
    "#Tarea 2 y 3\n",
    "\n",
    "df(x,y0)=tan(x)+x*sec(x)^2+x/sqrt(y0-x^2)\n",
    "f(x,y0)=x*tan(x)-sqrt(y0-x^2)\n",
    "Aprox=[]\n",
    "\n",
    "function Newtonwhile(y0,x,f,df,tolerancia)\n",
    "    while abs(f(x,y0))>tolerancia\n",
    "        x=x-f(x,y0)/df(x,y0)\n",
    "        push!(Aprox,x)\n",
    "        end\n",
    "    Aprox,x,f(x,y0) \n",
    "    x\n",
    "end        "
   ]
  },
  {
   "cell_type": "code",
   "execution_count": 147,
   "metadata": {},
   "outputs": [
    {
     "data": {
      "text/plain": [
       "3.8913897228883787"
      ]
     },
     "execution_count": 147,
     "metadata": {},
     "output_type": "execute_result"
    }
   ],
   "source": [
    "Newtonwhile(9*pi,1,f,df,1e-5)"
   ]
  },
  {
   "cell_type": "code",
   "execution_count": 148,
   "metadata": {},
   "outputs": [
    {
     "name": "stderr",
     "output_type": "stream",
     "text": [
      "WARNING: Method definition Newtonfor(Any, Any, Any, Any) in module Main at In[144]:3 overwritten at In[148]:3.\n"
     ]
    },
    {
     "data": {
      "text/plain": [
       "Newtonfor (generic function with 1 method)"
      ]
     },
     "execution_count": 148,
     "metadata": {},
     "output_type": "execute_result"
    }
   ],
   "source": [
    "Aprox1=[]\n",
    "function Newtonfor(y0,x,f,df)\n",
    "    for i in 1:100\n",
    "        x=x-f(x,y0)/df(x,y0)\n",
    "        push!(Aprox1,x)\n",
    "    end\n",
    "     Aprox1,x,f(x,y0)\n",
    "     x\n",
    "end"
   ]
  },
  {
   "cell_type": "code",
   "execution_count": 149,
   "metadata": {},
   "outputs": [
    {
     "data": {
      "text/plain": [
       "3.8913897192611815"
      ]
     },
     "execution_count": 149,
     "metadata": {},
     "output_type": "execute_result"
    }
   ],
   "source": [
    "Newtonfor(9*pi,1,f,df)\n"
   ]
  },
  {
   "cell_type": "code",
   "execution_count": null,
   "metadata": {},
   "outputs": [],
   "source": []
  },
  {
   "cell_type": "code",
   "execution_count": null,
   "metadata": {
    "collapsed": true
   },
   "outputs": [],
   "source": []
  }
 ],
 "metadata": {
  "kernelspec": {
   "display_name": "Julia 0.5.2",
   "language": "julia",
   "name": "julia-0.5"
  },
  "language_info": {
   "file_extension": ".jl",
   "mimetype": "application/julia",
   "name": "julia",
   "version": "0.5.2"
  }
 },
 "nbformat": 4,
 "nbformat_minor": 2
}
