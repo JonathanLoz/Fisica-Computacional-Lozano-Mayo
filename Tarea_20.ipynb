{
 "cells": [
  {
   "cell_type": "markdown",
   "metadata": {},
   "source": [
    "## Formación del sistema de ecuaciones\n",
    "\n",
    "Como recuerda, su tarea básicamente consistió en encontrar el sistema de ecuaciones proveniente de la discretización de una ecuación de Laplace, con problemas a la frontera de Dirichlet y von Neumann. El siguiente ejemplo es lo mismo, pero en esta ocasión para un sistema bidimensional. \n",
    "\n",
    "### Ejemplo \n",
    "\n",
    "Para una malla de 5 por 6 resolver la ecuación de Laplace utilizando las condiciones  a la frontera siguiente: en la parte superior, toma los valores\n",
    "$\\{0, 70.7107, 100., 70.7107, 0\\}$ y en el resto de bordes es cero. El sistema\n",
    "de ecuaciones es el siguiente\n",
    "\n",
    "\n",
    "\\begin{align*}\n",
    "-4 f_{2,2}+f_{2,3}+f_{3,2}=0,\\\\f_{2,2}-4 f_{2,3}+f_{2,4}+f_{3,3}=0,\\\\f_{2,3}-4 f_{2,4}+f_{2,5}+f_{3,4}=0,\\\\f_{2,4}-4\n",
    "   f_{2,5}+f_{2,6}+f_{3,5}=0,\\\\f_{2,5}-4 f_{2,6}+f_{3,6}+70.7107=0,\\\\f_{2,2}-4 f_{3,2}+f_{3,3}+f_{4,2}=0,\\\\f_{2,3}+f_{3,2}-4\n",
    "   f_{3,3}+f_{3,4}+f_{4,3}=0,\\\\f_{2,4}+f_{3,3}-4 f_{3,4}+f_{3,5}+f_{4,4}=0,\\\\f_{2,5}+f_{3,4}-4 f_{3,5}+f_{3,6}+f_{4,5}=0,\\\\f_{2,6}+f_{3,5}-4\n",
    "   f_{3,6}+f_{4,6}+100.=0,\\\\f_{3,2}-4 f_{4,2}+f_{4,3}=0,\\\\f_{3,3}+f_{4,2}-4 f_{4,3}+f_{4,4}=0,\\\\f_{3,4}+f_{4,3}-4 f_{4,4}+f_{4,5}=0,\\\\f_{3,5}+f_{4,4}-4\n",
    "   f_{4,5}+f_{4,6}=0,\\\\f_{3,6}+f_{4,5}-4 f_{4,6}+70.7107=0.\n",
    "\\end{align*}\n",
    "\n",
    "El sistema de ecuaciones resultante es $A \\vec f +\\vec b= \\vec 0$ con $A$ igual a la siguiente matriz\n",
    "\n",
    "$$\n",
    "\\left(\n",
    "\\begin{array}{ccccccccccccccc}\n",
    " -4. & 1. & 0 & 0 & 0 & 1. & 0 & 0 & 0 & 0 & 0 & 0 & 0 & 0 & 0 \\\\\n",
    " 1. & -4. & 1. & 0 & 0 & 0 & 1. & 0 & 0 & 0 & 0 & 0 & 0 & 0 & 0 \\\\\n",
    " 0 & 1. & -4. & 1. & 0 & 0 & 0 & 1. & 0 & 0 & 0 & 0 & 0 & 0 & 0 \\\\\n",
    " 0 & 0 & 1. & -4. & 1. & 0 & 0 & 0 & 1. & 0 & 0 & 0 & 0 & 0 & 0 \\\\\n",
    " 0 & 0 & 0 & 1. & -4. & 0 & 0 & 0 & 0 & 1. & 0 & 0 & 0 & 0 & 0 \\\\\n",
    " 1. & 0 & 0 & 0 & 0 & -4. & 1. & 0 & 0 & 0 & 1. & 0 & 0 & 0 & 0 \\\\\n",
    " 0 & 1. & 0 & 0 & 0 & 1. & -4. & 1. & 0 & 0 & 0 & 1. & 0 & 0 & 0 \\\\\n",
    " 0 & 0 & 1. & 0 & 0 & 0 & 1. & -4. & 1. & 0 & 0 & 0 & 1. & 0 & 0 \\\\\n",
    " 0 & 0 & 0 & 1. & 0 & 0 & 0 & 1. & -4. & 1. & 0 & 0 & 0 & 1. & 0 \\\\\n",
    " 0 & 0 & 0 & 0 & 1. & 0 & 0 & 0 & 1. & -4. & 0 & 0 & 0 & 0 & 1. \\\\\n",
    " 0 & 0 & 0 & 0 & 0 & 1. & 0 & 0 & 0 & 0 & -4. & 1. & 0 & 0 & 0 \\\\\n",
    " 0 & 0 & 0 & 0 & 0 & 0 & 1. & 0 & 0 & 0 & 1. & -4. & 1. & 0 & 0 \\\\\n",
    " 0 & 0 & 0 & 0 & 0 & 0 & 0 & 1. & 0 & 0 & 0 & 1. & -4. & 1. & 0 \\\\\n",
    " 0 & 0 & 0 & 0 & 0 & 0 & 0 & 0 & 1. & 0 & 0 & 0 & 1. & -4. & 1. \\\\\n",
    " 0 & 0 & 0 & 0 & 0 & 0 & 0 & 0 & 0 & 1. & 0 & 0 & 0 & 1. & -4. \\\\\n",
    "\\end{array}\n",
    "\\right)\n",
    "$$\n",
    "y $b$ de la forma\n",
    "\n",
    "$$\n",
    "(0.,0.,0.,0.,70.7107,0.,0.,0.,0.,100.,0.,0.,0.,0.,70.7107)^T.\n",
    "$$\n",
    "\n",
    "La solución a este sistema es $\\vec f=-A^{-1}\\vec b$.\n",
    "\n",
    "\n",
    "__Tarea 20: Ejercicio 1 (Jueves 9 de Noviembre):__ Crear una rutina que construya $A$ y $\\vec b$ para este sistema. Resuelvalo utilizando la función `inv` y grafique $\\vec f$ utilizando la funcion `pcolormesh`. Recuerde que aqui $\\vec f$ es un vector, para volverlo de nuevo una matriz con entradas $f_{i,j}$ pueden usar la función `reshape`.\n",
    "\n",
    "\n",
    "\n",
    "tenemos \n",
    "$$\\nabla^2=\\frac{f_{i+1,j}+f_{i-1,j}-2f_{i,j}}{h_x^2}+\\frac{f_{i,j+1}+f_{i,j-1}-2f_{i,j}}{h_y^2}=0\n",
    "$$\n",
    "\n",
    "asumiré que los dominios son tales que $h_x=h_y$ y entonces tenemos \n",
    "\n",
    "$$\\nabla^2=f_{i+1,j}+f_{i-1,j}+f_{i,j+1}+f_{i,j-1}-4f_{i,j}$$"
   ]
  },
  {
   "cell_type": "code",
   "execution_count": 31,
   "metadata": {},
   "outputs": [
    {
     "name": "stderr",
     "output_type": "stream",
     "text": [
      "\u001b[1m\u001b[36mINFO: \u001b[39m\u001b[22m\u001b[36mRecompiling stale cache file /Users/jonathanlozano/.julia/lib/v0.6/SymPy.ji for module SymPy.\n",
      "\u001b[39m"
     ]
    }
   ],
   "source": [
    "using Plots\n",
    "using SymPy"
   ]
  },
  {
   "cell_type": "markdown",
   "metadata": {},
   "source": [
    "__ Primero defino la malla donde vamos a trabajar__"
   ]
  },
  {
   "cell_type": "code",
   "execution_count": 32,
   "metadata": {},
   "outputs": [
    {
     "data": {
      "text/latex": [
       "\\begin{bmatrix}0&70.7107&100.0&70.7107&0\\\\0&f_{1}&f_{5}&f_{9}&0\\\\0&f_{2}&f_{6}&f_{10}&0\\\\0&f_{3}&f_{7}&f_{11}&0\\\\0&f_{4}&f_{8}&f_{12}&0\\\\0&0&0&0&0\\end{bmatrix}"
      ],
      "text/plain": [
       "6×5 Array{SymPy.Sym,2}:\n",
       " 0  70.7107000000000  100.000000000000  70.7107000000000  0\n",
       " 0               f_1               f_5               f_9  0\n",
       " 0               f_2               f_6              f_10  0\n",
       " 0               f_3               f_7              f_11  0\n",
       " 0               f_4               f_8              f_12  0\n",
       " 0                 0                 0                 0  0"
      ]
     },
     "execution_count": 32,
     "metadata": {},
     "output_type": "execute_result"
    }
   ],
   "source": [
    "f=[0 70.7107 100.0 70.7107  0  ; 0 Sym(\"f_1\") Sym(\"f_5\") Sym(\"f_9\") 0  ; 0 Sym(\"f_2\") Sym(\"f_6\") Sym(\"f_10\") 0;0 Sym(\"f_3\") Sym(\"f_7\") Sym(\"f_11\") 0 ;0 Sym(\"f_4\") Sym(\"f_8\") Sym(\"f_12\") 0 ;0 0 0 0 0]"
   ]
  },
  {
   "cell_type": "markdown",
   "metadata": {},
   "source": [
    "__ Ahora uso mi función que reduce un par de indices i,j a uno k.__\n",
    "\n",
    "__ Luego implemento una rutina que calcula el sistema de ecuaciones __"
   ]
  },
  {
   "cell_type": "code",
   "execution_count": 33,
   "metadata": {
    "collapsed": true
   },
   "outputs": [],
   "source": [
    "Mvar=[]\n",
    "M=[]\n",
    "K=[]\n",
    "b=[]\n",
    "f_1,f_2,f_3,f_4,f_5,f_6,f_7,f_8,f_9,f_10,f_11,f_12=Sym(\"f_1,f_2,f_3,f_4,f_5,f_6,f_7,f_8,f_9,f_10,f_11,f_12\")\n",
    "function phi(i,j,n) #n es la dimension de los renglones\n",
    "k=i+n*(j-1)\n",
    "end    \n",
    "\n",
    "for i in 2:5\n",
    "        for j in 2:4\n",
    "            \n",
    "        push!(K,phi(i,j,6))\n",
    "        end\n",
    "    end                  #convertiré los puntos i,j en un sólo índice\n",
    "    \n",
    "for k in sort(K)                         #aquí se crea el sistema de ecuaciones\n",
    "    d=f[k+6]+f[k+1]-4f[k]+f[k-1]+f[k-6]\n",
    "     push!(Mvar,d)\n",
    "end\n",
    "#aquí definimos\n",
    "for i in 1:12                         \n",
    "    bb=Mvar[i](f_1=>0,f_2=>0,f_3=>0,f_4=>0,f_5=>0,f_6=>0,f_7=>0,f_8=>0,f_9=>0,f_10=>0,f_11=>0,f_12=>0)\n",
    "    \n",
    "     push!(b,bb)\n",
    "end"
   ]
  },
  {
   "cell_type": "code",
   "execution_count": 34,
   "metadata": {},
   "outputs": [
    {
     "data": {
      "text/plain": [
       "12-element Array{Any,1}:\n",
       "    -4*f_1 + f_2 + f_5 + 70.7107\n",
       "         f_1 - 4*f_2 + f_3 + f_6\n",
       "         f_2 - 4*f_3 + f_4 + f_7\n",
       "               f_3 - 4*f_4 + f_8\n",
       " f_1 - 4*f_5 + f_6 + f_9 + 100.0\n",
       "  f_10 + f_2 + f_5 - 4*f_6 + f_7\n",
       "  f_11 + f_3 + f_6 - 4*f_7 + f_8\n",
       "        f_12 + f_4 + f_7 - 4*f_8\n",
       "    f_10 + f_5 - 4*f_9 + 70.7107\n",
       "      -4*f_10 + f_11 + f_6 + f_9\n",
       "      f_10 - 4*f_11 + f_12 + f_7\n",
       "             f_11 - 4*f_12 + f_8"
      ]
     },
     "execution_count": 34,
     "metadata": {},
     "output_type": "execute_result"
    }
   ],
   "source": [
    "Mvar"
   ]
  },
  {
   "cell_type": "code",
   "execution_count": 35,
   "metadata": {},
   "outputs": [
    {
     "data": {
      "text/plain": [
       "12-element Array{Any,1}:\n",
       " 70.7107000000000\n",
       "                0\n",
       "                0\n",
       "                0\n",
       " 100.000000000000\n",
       "                0\n",
       "                0\n",
       "                0\n",
       " 70.7107000000000\n",
       "                0\n",
       "                0\n",
       "                0"
      ]
     },
     "execution_count": 35,
     "metadata": {},
     "output_type": "execute_result"
    }
   ],
   "source": [
    "b"
   ]
  },
  {
   "cell_type": "markdown",
   "metadata": {},
   "source": [
    "__ Para facilitar la obtencion de la matriz A, creo una función que saque el jacobiano de una funcion vectorial de $R^n \\rightarrow R^m $__"
   ]
  },
  {
   "cell_type": "code",
   "execution_count": 36,
   "metadata": {},
   "outputs": [
    {
     "data": {
      "text/plain": [
       "Jacobiano (generic function with 1 method)"
      ]
     },
     "execution_count": 36,
     "metadata": {},
     "output_type": "execute_result"
    }
   ],
   "source": [
    "function Jacobiano(f,var,n,m)\n",
    "J=zeros(n,m)\n",
    "    \n",
    "    for i in 1:n\n",
    "        for j in 1:m\n",
    "        J[i,j]=diff(f[i],var[j])\n",
    "        end\n",
    "    end\n",
    "    J\n",
    "end"
   ]
  },
  {
   "cell_type": "markdown",
   "metadata": {},
   "source": [
    "__ MATRIZ A__"
   ]
  },
  {
   "cell_type": "code",
   "execution_count": 37,
   "metadata": {
    "scrolled": true
   },
   "outputs": [
    {
     "data": {
      "text/plain": [
       "12×12 Array{Float64,2}:\n",
       " -4.0   1.0   0.0   0.0   1.0   0.0   0.0   0.0   0.0   0.0   0.0   0.0\n",
       "  1.0  -4.0   1.0   0.0   0.0   1.0   0.0   0.0   0.0   0.0   0.0   0.0\n",
       "  0.0   1.0  -4.0   1.0   0.0   0.0   1.0   0.0   0.0   0.0   0.0   0.0\n",
       "  0.0   0.0   1.0  -4.0   0.0   0.0   0.0   1.0   0.0   0.0   0.0   0.0\n",
       "  1.0   0.0   0.0   0.0  -4.0   1.0   0.0   0.0   1.0   0.0   0.0   0.0\n",
       "  0.0   1.0   0.0   0.0   1.0  -4.0   1.0   0.0   0.0   1.0   0.0   0.0\n",
       "  0.0   0.0   1.0   0.0   0.0   1.0  -4.0   1.0   0.0   0.0   1.0   0.0\n",
       "  0.0   0.0   0.0   1.0   0.0   0.0   1.0  -4.0   0.0   0.0   0.0   1.0\n",
       "  0.0   0.0   0.0   0.0   1.0   0.0   0.0   0.0  -4.0   1.0   0.0   0.0\n",
       "  0.0   0.0   0.0   0.0   0.0   1.0   0.0   0.0   1.0  -4.0   1.0   0.0\n",
       "  0.0   0.0   0.0   0.0   0.0   0.0   1.0   0.0   0.0   1.0  -4.0   1.0\n",
       "  0.0   0.0   0.0   0.0   0.0   0.0   0.0   1.0   0.0   0.0   1.0  -4.0"
      ]
     },
     "execution_count": 37,
     "metadata": {},
     "output_type": "execute_result"
    }
   ],
   "source": [
    "var=[f_1,f_2,f_3,f_4,f_5,f_6,f_7,f_8,f_9,f_10,f_11,f_12]\n",
    "A=Jacobiano(Mvar,var,12,12)"
   ]
  },
  {
   "cell_type": "code",
   "execution_count": 38,
   "metadata": {},
   "outputs": [
    {
     "data": {
      "text/plain": [
       "12×12 Array{Float64,2}:\n",
       " -0.299956    -0.100477   -0.0365268  …  -0.0287067  -0.0173881  -0.00767884\n",
       " -0.100477    -0.336483   -0.112941      -0.0494019  -0.0363855  -0.0173881 \n",
       " -0.0365268   -0.112941   -0.336483      -0.0363855  -0.0494019  -0.0287067 \n",
       " -0.0124635   -0.0365268  -0.100477      -0.0173881  -0.0287067  -0.0320139 \n",
       " -0.0993488   -0.0654248  -0.0331667     -0.0654248  -0.0331667  -0.0133273 \n",
       " -0.0654248   -0.132516   -0.0787521  …  -0.132516   -0.0787521  -0.0331667 \n",
       " -0.0331667   -0.0787521  -0.132516      -0.0787521  -0.132516   -0.0654248 \n",
       " -0.0133273   -0.0331667  -0.0654248     -0.0331667  -0.0654248  -0.0993488 \n",
       " -0.0320139   -0.0287067  -0.0173881     -0.100477   -0.0365268  -0.0124635 \n",
       " -0.0287067   -0.0494019  -0.0363855     -0.336483   -0.112941   -0.0365268 \n",
       " -0.0173881   -0.0363855  -0.0494019  …  -0.112941   -0.336483   -0.100477  \n",
       " -0.00767884  -0.0173881  -0.0287067     -0.0365268  -0.100477   -0.299956  "
      ]
     },
     "execution_count": 38,
     "metadata": {},
     "output_type": "execute_result"
    }
   ],
   "source": [
    "#Matriz inversa de A\n",
    "AI=inv(A)"
   ]
  },
  {
   "cell_type": "markdown",
   "metadata": {},
   "source": [
    "__ Solución del sistema de ecuaciones __"
   ]
  },
  {
   "cell_type": "code",
   "execution_count": 39,
   "metadata": {},
   "outputs": [
    {
     "data": {
      "text/plain": [
       "12-element Array{Float64,1}:\n",
       " 33.4087 \n",
       " 15.6772 \n",
       "  7.12903\n",
       "  2.75701\n",
       " 47.2471 \n",
       " 22.1708 \n",
       " 10.082  \n",
       "  3.899  \n",
       " 33.4087 \n",
       " 15.6772 \n",
       "  7.12903\n",
       "  2.75701"
      ]
     },
     "execution_count": 39,
     "metadata": {},
     "output_type": "execute_result"
    }
   ],
   "source": [
    "Sol=Float64.(-AI*b)"
   ]
  },
  {
   "cell_type": "code",
   "execution_count": 40,
   "metadata": {},
   "outputs": [
    {
     "data": {
      "text/plain": [
       "4×3 Array{Float64,2}:\n",
       " 33.4087   47.2471  33.4087 \n",
       " 15.6772   22.1708  15.6772 \n",
       "  7.12903  10.082    7.12903\n",
       "  2.75701   3.899    2.75701"
      ]
     },
     "execution_count": 40,
     "metadata": {},
     "output_type": "execute_result"
    }
   ],
   "source": [
    "Solucionf=reshape(Sol,(4,3))"
   ]
  },
  {
   "cell_type": "code",
   "execution_count": 41,
   "metadata": {},
   "outputs": [
    {
     "data": {
      "text/html": [
       "<img src=\"data:image/png;base64,iVBORw0KGgoAAAANSUhEUgAAASwAAADICAYAAABS39xVAAAABHNCSVQICAgIfAhkiAAAAAlwSFlzAAAPYQAAD2EBqD+naQAAGRVJREFUeJzt3X9MVFfaB/DvHXwZRsRx/cEME6wdBGmsUlvTV01ZY1cqQzctbG0TmmaVjYYusdsl3QbTxl9Yt7bGGGV3g6bZqCRb3WZ3ZTfdVlJZB/UtUutW0d3ECIGupAx9wxuYgo449573j2FuO1Vg7hmZYYbvpzkJ3DtHThp9OOfcc59HEUIIEBHFAVOsB0BEFC4GLCKKG5M+YAkh4PV6wZUx0cQ3JdYDiLVvvvkGVqsVQBIAJdbDCUuSKTXWQzBM1QZjPQTDhLgT6yHQ90z6GRYRxQ8GLCKKG5N+SUg02fl8PgwNDUn3T05ORkpKyn0c0cgYsIgmMZ/PB6fTDo+nX/rPsNvt6OjoiErQYsAimsSGhobg8fSj48t9mD7dYri/13sLznmvYWhoiAGLiKIjLS0ZaWnJhvsJoY7DaEbGgEVE0DQfNM34sR5N843DaEbGgEVE0DQVmuaX6hdNPNZARMMzLLkWiXfeeQeKoqCyslK/VlZWBkVRQprL5QLAGRYRARDCDyGMz7Bk+gRduHABhw4dQl5e3l33XC4XDh8+rH9vNpsBcIZFRACE5pduMgYGBvDSSy/hvffeww9+8IO77pvNZtjtdr0FP8OARUSA6gPUWxItsCT0er0h7fbt26P+uE2bNuHHP/4xCgoK7nnf7XYjPT0dubm5qKioQG9vLwAuCYkIADQ/oCXJ9QMwd+7ckMvbt2/Hjh077tnl+PHj+Oc//4kLFy7c877L5cJzzz0Hp9OJ9vZ2vPnmmygqKkJzczMDFhEB0G4DqkSKJS3wSs+NGzcwffp0/XJwz+n7bty4gV/+8pf45JNPRjxoWlpaqn+9ePFi5OXlYf78+XC73QxYRIThGZbEDtHwDGv69OkhAWskFy9exNdff43HHntMv6aqKs6cOYPf/va3uH37NpKSQmd6WVlZmD17Ntra2hiwiAhQND8UiYClGNx0X716Na5cuRJy7Wc/+xkeeughbN68+a5gBQBdXV3o7e1FRkYGAxYRYXjTXZPoZyzLQ1paGhYtWhRyLTU1FbNmzcKiRYswMDCA6upqrF27Fna7He3t7aiqqkJ2djYKCwsT/ynh4cOHoSgK6uvrYz0UoolL0wBNlWgSQW4USUlJaG1txbPPPosFCxZgw4YNWLp0Kc6ePQuz2ZzYM6zOzk689957WL58eayHQjShKeoQFIlNd0WNPI202+3Wv7ZYLGhoaBjxswk7w9I0DRs3bsRvfvObEZ9YEFGAoqnSLZoSdoa1b98+PPHEE1i6dGmsh0I08Wmq5FNCBqyIXb16FX/+859x5syZWA+FKC4o2h25JaHkqzmyEjJgnT17Fp2dncjJyQEAeDwelJeXo7u7GxUVFTEeHdEEpKmARD4szrDug4qKipDAtGrVKlRWVqKkpCSGoyKauAL7UcYDFvewiCj6/EOAX+KIgp9Lwvvuu49NiehuiqZBkThTJdMnEpMiYBHR6BT/HSgSMyzFzyUhEUWbUAGZyVKUq+Yk7MFRIjJA0+RbBO6V010IgW3btiEjIwMWiwUFBQW4fv06AAYsIkJwSSjXZI2U033Pnj2oqanBwYMH0dLSgtTUVBQWFsLn8zFgEREkX3xWpc9hjZTTXQiB/fv3Y8uWLSguLkZeXh7q6urw1Vdfob6+ngGLiAKb54rfL9HkAtZIOd07Ojrg8XhCrlutVixbtowpkolomKYCmkyK5MAeltfrDblsNptHTDowWk53j8cDALDZbCHXbTYbPB4PZ1hEhIg33efOnQur1aq33bt33/PHBHO6/+EPfxgxp/toOMMiIiiqH4pfIkXycJbScItQjJXT/dq1awCAnp4eZGRk6J/p6enBkiVLGLCICBEvCcMtQjFWTvesrCzY7XY0NjZiyZIlAALLzZaWFlRUVDBgEREAvwr4JQKWwdPxY+V0B4DKykrs2rULOTk5cDqd2Lp1KxwOB0pKShiwiAiB2ZXMIVCZWdkYqqqqMDg4iPLycvT19SE/Px8nT55ESkoKFCHE/f+JccTr9cJqtQJIAiCRDygGkkypsR6CYao2GOshGCZE5PnKJ7rg3///O2LF9KnG//57bwrMLOtHf39/WEvCSHGGRUSBNDF+iV/YMsvICDBgEdHwklCyXxQxYBERIDS5FMlR3lFiwCIiCL+AkEgeKrgkJKKoE8NNpl8UMWANmz31MZiU+PjfkSmyYz0Ew7qUtlgPgUbjH24y/aIoPv6FEtH40iC56X6/BzI6BiwigtACTaZfNDFgERGgQm55F92U7gxYRIS4WRIyHxYRQahJ0s2I2tpa5OXl6dkdVqxYgY8//li/X1ZWBkVRQprL5dLvc4ZFRIFDozIHRw3OsDIzM/HOO+8gJycHQggcPXoUxcXF+OKLL/Dwww8DAFwuFw4fPqz3+W5uLQYsIoIQCoQwHrCMHnR/5plnQr7/9a9/jdraWpw/f14PWGazGXa7/Z79uSQkIkA1yTfZH6mqOH78OAYHB7FixQr9utvtRnp6OnJzc1FRUYHe3l79HmdYRAShKRASS8LgsQYjRSiuXLmCFStWwOfzYdq0aThx4gQWLlwIILAcfO655+B0OtHe3o4333wTRUVFaG5uRlJSEgMWEQFCNUGoEgFLDawJ586dG3J9+/bt2LFjxz375Obm4tKlS+jv78ef/vQnrF+/Hk1NTVi4cCFKS0v1zy1evBh5eXmYP38+3G43Vq9ezYBFRACEAmgSyzthrAgFACQnJyM7O/B62dKlS3HhwgUcOHAAhw4duuuzWVlZmD17Ntra2hiwiChAfkkY6BNuEYp70TQNt2/fvue9rq4u9Pb26hV0GLCIaPhMlfEZltFl5BtvvIGioiI88MAD+Oabb/D+++/D7XajoaEBAwMDqK6uxtq1a2G329He3o6qqipkZ2ejsLAQAAMWESHyGVa4vv76a6xbtw7d3d2wWq3Iy8tDQ0MDnnrqKdy6dQutra04evQo+vr64HA4sGbNGrz11lv6EpMBi4gC+1cye1gGD47+/ve/H/GexWJBQ0PDqP0ZsIho+CmhzJJwHAYzCgYsIoLQTBASMyyml7lP1qxZA4/HA5PJhLS0NNTU1ODRRx+N9bCIJiRNNUGTmGFpnGHdHx988AFmzJgBADhx4gTKyspw+fLlGI+KaGISQnLTXeL9w0gkbMAKBisA6O/vh6LER1VnopgQpkAz3O/+D2U0CRuwAGDdunU4ffo0AOCjjz6K8WiIJi7hV6CZJPawWObr/qmrqwMAHD16FJs3b2bQIhqBECYIiRmWiHIh1UmRXmb9+vU4ffp0SJoKIvpW8FiDTIumhJxh9fX14ebNm3A4HACA+vp6zJo1CzNnzozxyIgmpmiddI9UQgas/v5+vPDCC7h16xZMJhPmzJmDDz/8kBvvRCPgkjCG5s2bh88++wxXrlzB5cuXcerUKSxZsiTWwyKasILnsGSaEWMVoRBCYNu2bcjIyIDFYkFBQQGuX7+u30/IgEVExgTPYRluBs9hBYtQXLx4EZ9//jl+9KMfobi4GP/6178AAHv27EFNTQ0OHjyIlpYWpKamorCwED6fD0CCLgmJyBhNTYJmMlayK9DP2OdHK0KxcOFC7N+/H1u2bEFxcTGAwJN+m82G+vp6lJaWcoZFRN9WzZFpQCCn+3fbSAn5vuv7RSg6Ojrg8XhQUFCgf8ZqtWLZsmVobm4GwCUhESHygDV37lxYrVa97d69e8SfdeXKFUybNg1msxk///nP9SIUHo8HAGCz2UI+b7PZ9HtcEhIRVNUEVWJJqA4XoTCS032kIhThYMAioggKqRrP6T5SEYrNmzcDAHp6evQc7sHvg0/5uSQkIrknhJKHTb8vWITC6XTCbrejsbFRv+f1etHS0qIXWuUMi4ggNBM0qQR+xvqMVoRCURRUVlZi165dyMnJgdPpxNatW+FwOFBSUgKAAYuIEMlJd2N9RitCAQBVVVUYHBxEeXk5+vr6kJ+fj5MnTyIlJQUAoIhon62fYLxeL6xWK2ZPfRwmJT7id6bIjvUQDOtS2mI9BMN6Bj6N9RDGXfDv/2dP5WPafxn/+z9wx4///uQc+vv7pesSGhEf/0KJaFxFuukeLQxYRAQByYAFBiwiijJNctNdpk8kGLCICJpQoEnMsGT6RIIBi4g4wyKi+MFNdyKKG5qQW95pLPNFRNHGJWGceWbqY0g2jfyG+UTyxJyBWA/BsP/538djPQQahZDcdOeSkIiiTtVMUCVmSzJ9IsFsDUQUcQK/cO3evRuPP/440tLSkJ6ejpKSEly7di3kM2VlZVAUJaS5XC4ADFhEhOGT7pLNiKamJmzatAnnz5/HJ598gjt37mDNmjUYHBwM+ZzL5UJ3d7fejh07BoBLQiJC9JaEJ0+eDPn+yJEjSE9Px8WLF7Fy5Ur9utlsht1uv6s/Z1hEpJ90l2mAXBEKIFD0GMBdVdndbjfS09ORm5uLiooK9Pb2AmDAIiIAqjDpsyxDbTgflpEiFEGapqGyshJPPPEEFi1apF93uVyoq6tDY2Mj3n33XTQ1NaGoqAiqqnJJSESQ2o8K9gOMFaEI2rRpE65evYpz586FXC8tLdW/Xrx4MfLy8jB//ny43W4GLCKK/OVnI0UoAOCVV17Bhx9+iDNnziAzM3PUz2ZlZWH27Nloa2tjwCKiwIl1VRn/k+5CCPziF7/AiRMn4Ha74XQ6x+zT1dWF3t5eZGRkMGARUfTSy2zatAnvv/8+/vrXvyItLU0vkGq1WmGxWDAwMIDq6mqsXbsWdrsd7e3tqKqqQnZ2NgoLC7npTkSAiKAZUVtbi/7+fqxatQoZGRl6++Mf/wgASEpKQmtrK5599lksWLAAGzZswNKlS3H27FmYzWbOsIgIUDVFakmoGqxLOFbNG4vFgoaGhhHvM2ARETQo0CSeEsr0iQQDFhENz7CMBx+jM6xIMWAREXO6E1H8iPTgaLQwYBERNKFAjYMZVkIea/D5fCgpKcGCBQvwyCOP4KmnnkJbW/yVSieKlmjlw4pUQgYsACgvL8e1a9dw+fJlFBcXY+PGjbEeEtGEpQ7PsGRaNCVkwEpJScHTTz8NZfipx/Lly9HZ2RnbQRFNYIGqOXItmibFHtaBAwdQXFwc62EQTVjxsumekDOs73r77bfR1tYWVn4eoskqWkvCcHK6CyGwbds2ZGRkwGKxoKCgANevXweQ4AFr7969+Mtf/oKPP/4YU6dOjfVwiCasSDOOhiucnO579uxBTU0NDh48iJaWFqSmpqKwsBA+ny9xl4T79u3DsWPHcOrUKcyYMSPWwyGa0GQ30I32GSunuxAC+/fvx5YtW/RtnLq6OthsNtTX1ydmwOrq6sKvfvUrZGVl4cknnwQQyIDY0tIS45ERTUyyG+iRbrp/P6d7R0cHPB4PCgoK9M9YrVYsW7YMzc3NiRmwMjMzx3wrnIi+S27THfi2CMV3mc3mMdMk3yunezA/ls1mC/mszWaDx+NJ7D0sIgqPCslN9+GAJVOEIpjT/fjx42GPMyFnWERkTKRLQqNFKEbK6R6sRdjT04OMjAz9ek9PD5YsWcIZFhF9mw9LpgHfFqEItpEClhACr7zyCk6cOIF//OMfd+V0dzqdsNvtaGxs1K95vV60tLRgxYoVnGEREaBqgCrZz4ixcrorioLKykrs2rULOTk5cDqd2Lp1KxwOB0pKShiwiCh6GUdra2sBAKtWrQq5fvjwYZSVlQEAqqqqMDg4iPLycvT19SE/Px8nT55ESkoKAxYRAaoINJl+RoTz9F5RFOzcuRM7d+686x4DFhFJp4qJdnoZBiwigpB8Shjt444MWEQUtVdzIsWARUTQhptMv2hiwCKiqG26R4oBi4hi9vKzUQxYRAQh5J74cdOdiKLOL4AkieDjZ8AiomgTw02mXzQxYBERVA3wS/aLJmZrICJ9hiXTjDhz5gyeeeYZOBwOKIqC+vr6kPtlZWVQFCWkuVwu/T4DFhFFrS7h4OAgHnnkEfzud78b8TMulwvd3d16O3bsmH6PS8Jhb5V+iOnm+IjfU/fGX8myktffiPUQJByI9QCiJlrnsIqKilBUVDTqZ8xms57I7/vi418oEY2rSGdYXq83pN2+fVt6LG63G+np6cjNzUVFRQV6e3v1ewxYRBTxHpZMTvd7cblcqKurQ2NjI9599100NTWhqKgIqhpIL8glIRFFvCQ0mtN9JKWlpfrXixcvRl5eHubPnw+3243Vq1dzhkVEwy8/yywJh/uHm9PdqKysLMyePRttbW0AOMMiIgSCj0xO9/F+l7Crqwu9vb16BR0GLCKK2kn3gYEBfbYEBCo9X7p0CTNnzsTMmTNRXV2NtWvXwm63o729HVVVVcjOzkZhYSEABiwiQnB5ZzxkGZ1hff7553jyySf171977TUAwPr161FbW4vW1lYcPXoUfX19cDgcWLNmDd566y19icmARUQh+1FG+xmxatWqUQtRNDQ0jNqfAYuIohawIsWARURQhYBJYkmoRjkhFgMWEUGDkNvDinKCGQYsImIRCiKKH1wSElHcEJKb7szpTkRRpwoNikTIUkV0F4UMWETETXciih/xErASNlvDq6++igcffBCKouDSpUuxHg7RhKZCk27RlLAB6/nnn8e5c+cwb968WA+FaMILzrBkmhFjFaEQQmDbtm3IyMiAxWJBQUEBrl+/rt9P2IC1cuVKZGZmxnoYRHFBi6AZMVYRij179qCmpgYHDx5ES0sLUlNTUVhYCJ/PB4B7WEQEQBNyyzvN4FPC0YpQCCGwf/9+bNmyBcXFxQCAuro62Gw21NfXo7S0NHFnWEQUPk3RpBtwf4pQdHR0wOPxoKCgQL9mtVqxbNkyNDc3A0jgJSERhc8PFX6p/wJ5Su9HEQqPxwMAsNlsIddtNpt+j0tCItK30GX6AfevCMVYEnaG9fLLLyMzMxNdXV0oLCxEdnZ2rIdENGFpipBuwP0pQhEsntrT0xNyvaenR7+XsDOsQ4cOxXoIRHHDDz8EFMP9VPjv2xicTifsdjsaGxuxZMkSAIG9sZaWFlRUVABI4IBFROGLdEkYrtGKUDzwwAOorKzErl27kJOTA6fTia1bt8LhcKCkpAQAAxYRAVAVP4RifIalGZxhjVaE4siRI6iqqsLg4CDKy8vR19eH/Px8nDx5EikpKQAYsIgIgCaZwk8z2GesIhSKomDnzp3YuXPnPe8zYBERBFQIiWdwQqr8qjwGLCKCCr9U3gWjS8JIMWARUdSWhJFiwCIiqLgDIZUPizMsIoqywEvM4//yc6QYsIgoauewIsWARUTQhB+QWRIKPiUkoigT0KBJvJrDGRYRRV0g8Ez8gJWw2RqIKHya8Es3I3bs2AFFUULaQw89FHZ/zrCICEJIzrAknhI+/PDDOHXqlP79lCnhhyEGLCKCJu5IVX4WEpvuU6ZM0fNbGcUlIRFBQEgW+TL+ZPH69etwOBzIysrCSy+9hP/85z9h9530M6zgm+PfDEV38zASfu/NWA/BsJu34+f/b5DwepGWlgZFIu1KvAnMlIwHn+CS0Ov1hlw3m833zDq6bNkyHDlyBLm5ueju7kZ1dTV++MMf4urVq0hLSxvz5ylitFwPk0BXVxfmzp0b62HQBNXf3x+SqzzReL1eWK1WJE9xQFEksjUIDUP+r+66vn37duzYsWPM/n19fZg3bx727duHDRs2jPn5ST/DcjgcuHHjxqT5TUrGhPNbPxHIHk+ItAjFjBkzsGDBgpAspKOZ9AHLZDKxQjRNepp2R3qGBXxbhMKoYMrkn/70p2F9npvuRIRoFat//fXX0dTUhM7OTnz66af4yU9+gilTpuDFF18Mq/+kn2EREYaf9sm8/GxsC7yrqwsvvvgient7MWfOHOTn5+P8+fOYM2dOWP0n/ab7eHj11Vfxt7/9DV9++SW++OILvWTRROXz+VBaWop///vfsFgsSE9PR21t7YSv5bhmzRp4PB6YTCakpaWhpqYGjz76aKyHFVeCm+4mZZrUHq4QApoYiNrDCS4Jx8Hzzz+Pc+fOYd68ebEeStjKy8tx7do1XL58GcXFxdi4cWOshzSmDz74AK2trbh06RJee+01lJWVxXpIcUvuDJZcSppIMGCNg5UrV8bVRn5KSgqefvpp/Tfs8uXL0dnZGdtBhWHGjBn61/39/XzKGwEh/NItmriHRXc5cOAAiouLYz2MsKxbtw6nT58GAHz00UcxHk080xAPm0MMWBTi7bffRltbGxobG2M9lLDU1dUBAI4ePYrNmzczaBmUnJwMu90Oj8cj/WfY7XYkJyffx1GNjJvu4+jBBx9EfX39hN90D9q7dy+OHz+OU6dOhSy34oXFYkFXVxdmzZoV66HEFZ/Ph6GhIen+ycnJemXm8cYZFgEA9u3bh2PHjsVNsOrr68PNmzfhcDgAAPX19Zg1axZmzpwZ45HFn5SUlKgFnEhxhjUOXn75Zfz973+Hx+PBrFmzkJaWFvarB7EQfJ8yKytLfxXFbDajpaUlxiMb2ZdffokXXngBt27dgslkwpw5c7B37964mc2SHAYsIoobPNZARHGDAYuI4gYDFhHFjf8H44/OehQiWS0AAAAASUVORK5CYII=\" />"
      ]
     },
     "execution_count": 41,
     "metadata": {},
     "output_type": "execute_result"
    }
   ],
   "source": [
    "x=[\"1\",\"2\",\"3\"]\n",
    "y=[\"1\",\"2\",\"3\",\"4\"]\n",
    "heatmap(x,y,Solucionf,c=:black,aspect_ratio=1)"
   ]
  },
  {
   "cell_type": "markdown",
   "metadata": {},
   "source": [
    "__ Ejercicio 2 (Tarea 20):__ Resolver ecuación de Poisson unidimensional con $\\rho (x)=\\cos(x)$, en el dominio $[0,2 \\pi]$, utilizando una malla con 12 puntos. Aquí nuevamente hay 10 incognitas, sin embargo note que para el método es mas conveniente definir $\\vec f$ incluyendo las condiciones de frontera."
   ]
  },
  {
   "cell_type": "code",
   "execution_count": 42,
   "metadata": {},
   "outputs": [
    {
     "data": {
      "text/latex": [
       "\\begin{bmatrix}0&f_{1}&f_{2}&f_{3}&f_{4}&f_{5}&f_{6}&f_{7}&f_{8}&f_{9}&f_{10}&0\\end{bmatrix}"
      ],
      "text/plain": [
       "1×12 Array{SymPy.Sym,2}:\n",
       " 0  f_1  f_2  f_3  f_4  f_5  f_6  f_7  f_8  f_9  f_10  0"
      ]
     },
     "execution_count": 42,
     "metadata": {},
     "output_type": "execute_result"
    }
   ],
   "source": [
    "f=[0 f_1 f_2 f_3 f_4 f_5 f_6 f_7 f_8 f_9 f_10 0]"
   ]
  },
  {
   "cell_type": "markdown",
   "metadata": {},
   "source": [
    "De manera discreta tendrémos que \n",
    "\n",
    "\n",
    "$$f_{i+1}+f_{i-1}-2f_i-h_x\\rho_i=0$$\n",
    "\n",
    "si queremos una malla de 12 puntos entonces $h_x=\\frac{2\\pi}{11}$"
   ]
  },
  {
   "cell_type": "code",
   "execution_count": 43,
   "metadata": {
    "collapsed": true
   },
   "outputs": [],
   "source": [
    "h=2*pi/11\n",
    "malla=linspace(0,2pi,12)\n",
    "PM=[]\n",
    "b=[]\n",
    "for i in 2:11\n",
    "    r=f[i+1]+f[i-1]-2f[i]-h*cos(malla[i])\n",
    "    push!(PM,r)\n",
    "end\n",
    "\n",
    "for i in 1:10\n",
    "    bP=PM[i](f_1=>0,f_2=>0,f_3=>0,f_4=>0,f_5=>0,f_6=>0,f_7=>0,f_8=>0,f_9=>0,f_10=>0)\n",
    "    push!(b,bP)\n",
    "end\n"
   ]
  },
  {
   "cell_type": "code",
   "execution_count": 44,
   "metadata": {},
   "outputs": [
    {
     "data": {
      "text/plain": [
       "10-element Array{Any,1}:\n",
       "       -2*f_1 + f_2 - 0.480522894281618\n",
       "  f_1 - 2*f_2 + f_3 - 0.237284500552297\n",
       "  f_2 - 2*f_3 + f_4 + 0.081290045530213\n",
       "  f_3 - 2*f_4 + f_5 + 0.374055576524896\n",
       "  f_4 - 2*f_5 + f_6 + 0.548061104923333\n",
       "  f_5 - 2*f_6 + f_7 + 0.548061104923333\n",
       "  f_6 - 2*f_7 + f_8 + 0.374055576524896\n",
       " f_7 - 2*f_8 + f_9 + 0.0812900455302132\n",
       " f_10 + f_8 - 2*f_9 - 0.237284500552297\n",
       "      -2*f_10 + f_9 - 0.480522894281618"
      ]
     },
     "execution_count": 44,
     "metadata": {},
     "output_type": "execute_result"
    }
   ],
   "source": [
    "PM"
   ]
  },
  {
   "cell_type": "code",
   "execution_count": 45,
   "metadata": {},
   "outputs": [
    {
     "data": {
      "text/plain": [
       "10×10 Array{Float64,2}:\n",
       " -2.0   1.0   0.0   0.0   0.0   0.0   0.0   0.0   0.0   0.0\n",
       "  1.0  -2.0   1.0   0.0   0.0   0.0   0.0   0.0   0.0   0.0\n",
       "  0.0   1.0  -2.0   1.0   0.0   0.0   0.0   0.0   0.0   0.0\n",
       "  0.0   0.0   1.0  -2.0   1.0   0.0   0.0   0.0   0.0   0.0\n",
       "  0.0   0.0   0.0   1.0  -2.0   1.0   0.0   0.0   0.0   0.0\n",
       "  0.0   0.0   0.0   0.0   1.0  -2.0   1.0   0.0   0.0   0.0\n",
       "  0.0   0.0   0.0   0.0   0.0   1.0  -2.0   1.0   0.0   0.0\n",
       "  0.0   0.0   0.0   0.0   0.0   0.0   1.0  -2.0   1.0   0.0\n",
       "  0.0   0.0   0.0   0.0   0.0   0.0   0.0   1.0  -2.0   1.0\n",
       "  0.0   0.0   0.0   0.0   0.0   0.0   0.0   0.0   1.0  -2.0"
      ]
     },
     "execution_count": 45,
     "metadata": {},
     "output_type": "execute_result"
    }
   ],
   "source": [
    "varP=[f_1,f_2,f_3,f_4,f_5,f_6,f_7,f_8,f_9,f_10]\n",
    "A=Jacobiano(PM,varP,10,10)"
   ]
  },
  {
   "cell_type": "code",
   "execution_count": 46,
   "metadata": {},
   "outputs": [
    {
     "data": {
      "text/plain": [
       "10-element Array{Any,1}:\n",
       " -0.480522894281618\n",
       " -0.237284500552297\n",
       " 0.0812900455302130\n",
       "  0.374055576524896\n",
       "  0.548061104923333\n",
       "  0.548061104923333\n",
       "  0.374055576524896\n",
       " 0.0812900455302132\n",
       " -0.237284500552297\n",
       " -0.480522894281618"
      ]
     },
     "execution_count": 46,
     "metadata": {},
     "output_type": "execute_result"
    }
   ],
   "source": [
    "b"
   ]
  },
  {
   "cell_type": "code",
   "execution_count": 47,
   "metadata": {},
   "outputs": [
    {
     "data": {
      "text/plain": [
       "10×10 Array{Float64,2}:\n",
       " -0.909091   -0.818182  -0.727273  …  -0.272727  -0.181818  -0.0909091\n",
       " -0.818182   -1.63636   -1.45455      -0.545455  -0.363636  -0.181818 \n",
       " -0.727273   -1.45455   -2.18182      -0.818182  -0.545455  -0.272727 \n",
       " -0.636364   -1.27273   -1.90909      -1.09091   -0.727273  -0.363636 \n",
       " -0.545455   -1.09091   -1.63636      -1.36364   -0.909091  -0.454545 \n",
       " -0.454545   -0.909091  -1.36364   …  -1.63636   -1.09091   -0.545455 \n",
       " -0.363636   -0.727273  -1.09091      -1.90909   -1.27273   -0.636364 \n",
       " -0.272727   -0.545455  -0.818182     -2.18182   -1.45455   -0.727273 \n",
       " -0.181818   -0.363636  -0.545455     -1.45455   -1.63636   -0.818182 \n",
       " -0.0909091  -0.181818  -0.272727     -0.727273  -0.818182  -0.909091 "
      ]
     },
     "execution_count": 47,
     "metadata": {},
     "output_type": "execute_result"
    }
   ],
   "source": [
    "AIP=inv(A)"
   ]
  },
  {
   "cell_type": "code",
   "execution_count": 48,
   "metadata": {},
   "outputs": [
    {
     "data": {
      "text/plain": [
       "10-element Array{Float64,1}:\n",
       " 0.285599\n",
       " 1.05172 \n",
       " 2.05513 \n",
       " 2.97724 \n",
       " 3.52531 \n",
       " 3.52531 \n",
       " 2.97724 \n",
       " 2.05513 \n",
       " 1.05172 \n",
       " 0.285599"
      ]
     },
     "execution_count": 48,
     "metadata": {},
     "output_type": "execute_result"
    }
   ],
   "source": [
    "Sol=Float64.(-AIP*b)"
   ]
  },
  {
   "cell_type": "code",
   "execution_count": 49,
   "metadata": {},
   "outputs": [
    {
     "data": {
      "text/plain": [
       "1×10 Array{Float64,2}:\n",
       " 0.285599  1.05172  2.05513  2.97724  …  2.97724  2.05513  1.05172  0.285599"
      ]
     },
     "execution_count": 49,
     "metadata": {},
     "output_type": "execute_result"
    }
   ],
   "source": [
    "Poisson=reshape(Sol,(1,10))\n",
    "\n",
    "P=zeros(3,10)\n",
    "P[1,:]=Poisson"
   ]
  },
  {
   "cell_type": "markdown",
   "metadata": {},
   "source": [
    "__ Aquí no era necesario hacer el mapeo, sin embargo podemos definir una matriz con el primer reglon igual a la solucion de f y todos las demás entradas iguales a 0 para poder visualizar la barra de valores de f en la malla__"
   ]
  },
  {
   "cell_type": "code",
   "execution_count": 50,
   "metadata": {},
   "outputs": [
    {
     "data": {
      "text/html": [
       "<img src=\"data:image/png;base64,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\" />"
      ]
     },
     "execution_count": 50,
     "metadata": {},
     "output_type": "execute_result"
    }
   ],
   "source": [
    "heatmap(P,aspect_ratio=1)   \n"
   ]
  },
  {
   "cell_type": "code",
   "execution_count": 51,
   "metadata": {},
   "outputs": [
    {
     "data": {
      "text/html": [
       "<img src=\"data:image/png;base64,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\" />"
      ]
     },
     "execution_count": 51,
     "metadata": {},
     "output_type": "execute_result"
    }
   ],
   "source": [
    "plot(Sol,label=\"\")"
   ]
  },
  {
   "cell_type": "markdown",
   "metadata": {},
   "source": [
    "__Ejercicio 3 (Subir mínimo un avance el Jueves 9 de Noviembre, dentro de la Tarea 20):__ Resolver ecuación de calor en una dimensión, en el dominio $[0,1]$, con $f(0)=10$, $f(1)=0$, en una malla con 12 puntos. Aqui obviamente habrá 10 incognitas: $f_1, \\dots, f_{10}$. La condición inicial que deberán usar es $\\vec f^{[0]}=(5,4,3,2,1,3,5,7,7,8)^{\\text{T}}$.\n",
    "* Utilizando método de Euler.\n",
    "* Utilizando Runge-Kutta de orden 4.\n",
    "* Puede hacer este ejercicio construyendo $A$ y $\\vec b$, para así utilizar las rutinas que ya tienen de RK4 y Euler, noten que aqui $A\\vec f +\\vec b$ define la función del sistema dinámico de $n=10$ dimensiones.\n",
    "* La otra opción es implementar una rutina que aplique el laplaciano discreto a $\\vec f$, digamos $\\vec r= D_{h_x}[\\vec f]$, de esta forma es facil construir la función que define el sistema dinámico en cada paso.\n",
    "* Graficar en varios tiempos (no en todos en caso de que hagan una partición grande, solo los primeros tiempos y los últimos)."
   ]
  },
  {
   "cell_type": "markdown",
   "metadata": {},
   "source": [
    "Discretizando tenemos que $$f_{i+1}+f_{i-1}-2f_i-h_x\\frac{df_i}{dt}=0$$ \n",
    "\n",
    "\n",
    "todas funciones de t que definen un sistema de ecuaciones differenciales que resolveremos usando el método de Runge Kutta o el de Euler."
   ]
  },
  {
   "cell_type": "code",
   "execution_count": 52,
   "metadata": {
    "collapsed": true
   },
   "outputs": [],
   "source": [
    "h=1/11\n",
    "malla=linspace(0,1,12)\n",
    "PM=[]\n",
    "b=[]\n",
    "df_1,df_2,df_3,df_4,df_5,df_6,df_7,df_8,df_9,df_10=Sym(\"df_1,df_2,df_3,df_4,df_5,df_6,df_7,df_8,df_9,df_10\")\n",
    "#df=[df_1 df_2 df_3 df_4 df_5 df_6 df_7 df_8 df_9 df_10]\n",
    "f=[0 f_1 f_2 f_3 f_4 f_5 f_6 f_7 f_8 f_9 f_10 0]\n",
    "\n",
    "for i in 2:11\n",
    "    r=(f[i+1]+f[i-1]-2f[i])/h\n",
    "    push!(PM,r)\n",
    "end\n",
    "\n",
    "for i in 1:10\n",
    "    bP=PM[i](f_1=>0,f_2=>0,f_3=>0,f_4=>0,f_5=>0,f_6=>0,f_7=>0,f_8=>0,f_9=>0,f_10=>0)\n",
    "    push!(b,bP)\n",
    "end   "
   ]
  },
  {
   "cell_type": "markdown",
   "metadata": {},
   "source": [
    "__ Primero obtenemos el sistema de ecuaciones diferenciales para despues usar Runge Kutta__"
   ]
  },
  {
   "cell_type": "code",
   "execution_count": 53,
   "metadata": {},
   "outputs": [
    {
     "data": {
      "text/plain": [
       "10-element Array{Any,1}:\n",
       "            -22.0*f_1 + 11.0*f_2\n",
       "  11.0*f_1 - 22.0*f_2 + 11.0*f_3\n",
       "  11.0*f_2 - 22.0*f_3 + 11.0*f_4\n",
       "  11.0*f_3 - 22.0*f_4 + 11.0*f_5\n",
       "  11.0*f_4 - 22.0*f_5 + 11.0*f_6\n",
       "  11.0*f_5 - 22.0*f_6 + 11.0*f_7\n",
       "  11.0*f_6 - 22.0*f_7 + 11.0*f_8\n",
       "  11.0*f_7 - 22.0*f_8 + 11.0*f_9\n",
       " 11.0*f_10 + 11.0*f_8 - 22.0*f_9\n",
       "           -22.0*f_10 + 11.0*f_9"
      ]
     },
     "execution_count": 53,
     "metadata": {},
     "output_type": "execute_result"
    }
   ],
   "source": [
    "varP=[f_1,f_2,f_3,f_4,f_5,f_6,f_7,f_8,f_9,f_10];\n",
    "PM"
   ]
  },
  {
   "cell_type": "code",
   "execution_count": 54,
   "metadata": {},
   "outputs": [
    {
     "data": {
      "text/plain": [
       "S (generic function with 1 method)"
      ]
     },
     "execution_count": 54,
     "metadata": {},
     "output_type": "execute_result"
    }
   ],
   "source": [
    "XI=[5.0,4.0,3.0,2.0,1.0,3.0,5.0,7.0,7.0,8.0]\n",
    "#XI=[0.0,1.0,3.0,4.0,5.0,4.0,3.0,2.0,1.0,0.0]\n",
    "S(x,t)=[-22.0*x[1]+11.0*x[2]+110.0,11.0*x[1]-22.0*x[2]+11.0*x[3],\n",
    "    11.0*x[2] - 22.0*x[3] + 11.0*x[4],11.0*x[3] - 22.0*x[4] + 11.0*x[5],\n",
    "    11.0*x[4] - 22.0*x[5] + 11.0*x[6],11.0*x[5] - 22.0*x[6] + 11.0*x[7],\n",
    "    11.0*x[6] - 22.0*x[7] + 11.0*x[8],11.0*x[7] - 22.0*x[8] + 11.0*x[9],\n",
    "    11.0*x[10] + 11.0*x[8] - 22.0*x[9],-22.0*x[10] + 11.0*x[9]]\n",
    "\n",
    "\n",
    "#S(x,t)=[-22.0*x[1]+11.0*x[2],11.0*x[1]-22.0*x[2]+11.0*x[3],\n",
    "    #11.0*x[2] - 22.0*x[3] + 11.0*x[4],11.0*x[3] - 22.0*x[4] + 11.0*x[5],\n",
    "    #11.0*x[4] - 22.0*x[5] + 11.0*x[6],11.0*x[5] - 22.0*x[6] + 11.0*x[7],\n",
    "    #11.0*x[6] - 22.0*x[7] + 11.0*x[8],11.0*x[7] - 22.0*x[8] + 11.0*x[9],\n",
    "    #11.0*x[10] + 11.0*x[8] - 22.0*x[9],-22.0*x[10] + 11.0*x[9]]"
   ]
  },
  {
   "cell_type": "markdown",
   "metadata": {},
   "source": [
    "__ Una vez definida la funcion e importadas las herramientas aplicamos el método, la salida de datos se puede interpretar como un arreglo de arreglos, la primera salida del arreglo el el intervalo t, la segunda salida es un arreglo de arreglos en el cada arreglo contiene el valor de cada variable a un tiempo dado t. Es decir, el primer arreglo de la segunda salida tiene los valores de cada funcion f al tiempo t=0. Así que a cada arreglo de la segunda salida le corresponde un tiempo dado y un heatmap. :) __"
   ]
  },
  {
   "cell_type": "code",
   "execution_count": 55,
   "metadata": {},
   "outputs": [
    {
     "data": {
      "text/plain": [
       "herramientas"
      ]
     },
     "execution_count": 55,
     "metadata": {},
     "output_type": "execute_result"
    }
   ],
   "source": [
    "include(\"herramientas.jl\")"
   ]
  },
  {
   "cell_type": "code",
   "execution_count": 56,
   "metadata": {
    "collapsed": true
   },
   "outputs": [],
   "source": [
    "CALOR=herramientas.RungeKutta4th(S,XI,0.0,2*pi,0.001);"
   ]
  },
  {
   "cell_type": "code",
   "execution_count": 57,
   "metadata": {},
   "outputs": [
    {
     "data": {
      "text/plain": [
       "10-element Array{Float64,1}:\n",
       " 5.0\n",
       " 4.0\n",
       " 3.0\n",
       " 2.0\n",
       " 1.0\n",
       " 3.0\n",
       " 5.0\n",
       " 7.0\n",
       " 7.0\n",
       " 8.0"
      ]
     },
     "execution_count": 57,
     "metadata": {},
     "output_type": "execute_result"
    }
   ],
   "source": [
    "#por ejemplo, la segunda salida arreglo 1 es naturalmente la condicion inicial para cada variable\n",
    "CALOR[2][1]"
   ]
  },
  {
   "cell_type": "code",
   "execution_count": 58,
   "metadata": {
    "collapsed": true
   },
   "outputs": [],
   "source": [
    "Mapeos=[]\n",
    "for i in 3:10:6000\n",
    "    w=reshape(CALOR[2][i],(1,10))\n",
    "    wM=zeros(3,10)\n",
    "    wM[1,:]=w\n",
    "    push!(Mapeos,wM)\n",
    "end      "
   ]
  },
  {
   "cell_type": "markdown",
   "metadata": {},
   "source": [
    "__ Runge kutta cuarto orden __"
   ]
  },
  {
   "cell_type": "code",
   "execution_count": 59,
   "metadata": {},
   "outputs": [
    {
     "data": {
      "text/html": [
       "<img src=\"data:image/png;base64,iVBORw0KGgoAAAANSUhEUgAAASwAAADICAYAAABS39xVAAAABHNCSVQICAgIfAhkiAAAAAlwSFlzAAAPYQAAD2EBqD+naQAAHApJREFUeJzt3XtQVNcBP/Dv3UXwtfL6QWRVwAeGWuTh2/g2YjQvCY3VjIkak6oVa63pmGlt0Ykt2qk6sW18JKaGTiqaUaCpihmxPn8dKz5wNP1phbggBkrVAkJkce89vz+QbdYFvPewwKLfT+dM3bucu0dHvznn7LnnKEIIASKiDsDU3g0gItLLLbCmTp2K2NhYxMfHY9y4cbhw4YJbJZvNBrPZjPj4eGcpLCxskwYT0ZNLeXhIWFFRgYCAAABAVlYW1qxZg4sXL7pUstlsiI+PR0VFRdu1lIieeG49rIawAoDKykooitKmDSIiaopPYxfnzp2Lo0ePAgAOHjzYaMWamhoMHToUQggkJSVh1apVMJvNbj8nhMCtW7fg6+vrEn5+fn7w8/PzxO+BiJ4QbkPCb0tPT8eePXvcQstut6OyshKhoaG4c+cOZs2ahcTERKxcudLtHlVVVfD39wdgBsDeGpE3EuJ+ezdBl2YDCwC6dOmCkpISBAcHN/kzGRkZ2LVrF/7617+6vcfAIvJ+jwqs2tpa1NXVSd/f19cXnTt3lq7fwGVIWFFRgW+++QZWqxUAkJ2djeDgYAQFBblUKi8vR2BgIDp16gS73Y7MzEwkJCS0uDFE5H1qa2vRt29PlJVVSt+jZ8+euH79eotDyyWwKisrMXPmTNy7dw8mkwkhISHYv38/FEVBamoqrFYrFi9ejFOnTiE1NRVmsxkOhwOTJ0/GqlWrWtQQIvJOdXV1KCurxPWiTejRo4vh+lVV99A3YgXq6upaHFiPHBK2FIeERN6vuSFhw7/hW3f+IB1Y/ydoKSorK9GjR4+WNLPxbwmJiB6mabXQNOOdDk2r9VgbGFhEpIumqdA0h1Q9T2FgEZEu9T0suXqewsAiIl2EcEAI4z0smTpNYWARkS5Cc0BIDAll6jSFgUVE+qi1gCqxqEC1e6wJDCwi0kdzAJr788K66nkIA4uI9NHscj0sTf6RnocxsIhIH80BaBKbFLOHRURtTdEcUCQCS2FgEVGbU2sBVWIhluq5ISEPoSAifTQN0FSJYizkIiMjoSiKW0lJSWEPi4j0UdQ6KBKT7opqbHPAvLw8qOr/Hue5fPkyEhMTMXPmTAYWEemjaKrkHJaxZwlDQkJcXq9fvx79+/fHhAkTGFhEpJOmSn5LKP/wc11dHT799FOsWLECiqIwsIhIH0W7LzckfPAtYVVVlct1PQfRZGdno6KiAvPnzwfASXci0ktqwl119rD69OkDf39/Z1m3bt0jP/Ljjz/G9OnTndu2s4dFRLrUz2EZ38CvYQ7rxo0bLjuOPqp3VVRUhNzcXGRmZjqvMbCISB9HHeCQWIflqB8S9ujRw9AWyTt37kRoaCheeOEF5zUGFhHpomgaFIkd/GTqaJqGnTt3Yt68efDx+V9Muc1hTZ06FbGxsYiPj8e4ceNw4cKFRm+4f/9+REdHIyoqCsnJyW4TakT0eFEc96E46iSK8UNac3NzUVxcjAULFri24eFTcyoqKhAQEAAAyMrKwpo1a3Dx4kWXStXV1ejfvz+OHz+O6OhoLF26FF26dMFvf/tbtw/mqTlE3k/PqTn/OTIYPboZ316mqkZFyLOXPHJqjlsPqyGsgPpzChXFPWRycnKQkJCA6OhoAMCSJUuQkZHRooYQkZfTNPniIY3OYc2dOxdHjx4FABw8eNDt/eLiYkRERDhfR0ZGorS0FA6Hw2W8SUSPj/ohocQclqOVT83505/+BABIT0/Hu+++22hoEdETRlMBmc6SB4/5anbh6Lx583D06FHcvn3b5Xp4eDiKioqcr202G8LCwti7InqMKQ4VisMhUVopsCoqKvD11187X2dnZyM4OBhBQUEulaZNm4bz58/jypUrAIAtW7Zg9uzZHmsUEXmhFq509wSXLlFlZSVmzpyJe/fuwWQyISQkBPv374eiKEhNTYXVasXixYthsViwY8cOJCUlweFwICYmBunp6R5rFBF5IU2THBJ6btLdbVmDp3FZA5H307Os4c5nT6FHV+OPH1d9oyHo+//2yLIGTjoRkT6aCmgyp+a08rIGIiI3DhVwSASWzPOHTWBgEZE+mpDrLcn0yprAwCIifTQhOenOwCKituZwAA6JL85khpFNYGARkT5e0MPiFslEpI+QfPBZGE+5mzdv4vXXX0dwcDC6dOmCwYMH4+zZs+xhEZE+wiEgJE6dFwaHhP/9738xZswYTJo0CTk5OQgJCcG1a9cQGBjIwCIincSDIlPPgN/85jfo06cPdu7c6bzWt29fABwSEpFejhYUAz7//HMMGzYMM2fORGhoKBISEvDRRx8B4KQ7EemlQXLSvf7/9J5L+NVXX2Hr1q1YsWIFfv7znyMvLw/Lli2Dr68vA4uI9BFy8+fOOn369HG5vnr1aqxZs8bt5zVNw7Bhw5CWlgYASEhIwOXLl7Ft2zYGFhHppMLw8M5ZD/rPJQwLC8OgQYNcrn3nO9/Bvn37GFhEpFMLh4R6zyUcM2YMrl696nLtX//6FyIiIhhYRKSPUM0QqvGV7kI19jXhT37yEzzzzDNIS0vD97//fZw5cwYffvghPvzwQ35LSEQ6aYp8MWD48OHIyspCRkYGYmJisHbtWrz//vuYM2cOe1hEpI8QCoSQ6GFJrN168cUX8eKLL7pdZ2ARkT6qCZAYEsLgkLA5DCwi0kVoCoTB4V19Pc+1gYFFRLoI1dQmk+7NYWARkT5CATSJ7+k82MVy+fTa2lokJSVh4MCBiIuLQ2JiIgoKCtwq2Ww2mM1mxMfHO0thYaHHGkVE3qdhSChTPMWth7Vw4UJMnz4diqLgD3/4A95++20cO3bMraLFYkF+fr7HGkJE3q1+HZbxHpbMMLIpLp/euXNnPP/881CU+g8YNWoUbDabxz6MiDoub+hhNRuXmzdvxowZMxp9r6amBkOHDsWQIUPw3nvvQVU9dxw1EXkhzSRfPKTJSfe0tDQUFBTgyJEjbu+FhYXh5s2bCA0NxZ07dzBr1ixs3LgRK1eu9FjDiMi71H9LKDMk9FwbGv30DRs2IDMzEzk5Oejatavb+35+fggNDQUABAUFYcGCBTh58qTnWkVEXkdoJuniKW49rE2bNiEjIwO5ubkICAhotFJ5eTkCAwPRqVMn2O12ZGZmIiEhwWONIiLvo6kmaBI9LK21elglJSV45513UFFRgUmTJiE+Ph4jR44EAKSmpmLbtm0AgFOnTiEhIQFxcXEYMmQIevbsiVWrVnmuVUTkdYSQnHSXeP6wKYoQMo8m6ldVVQV/f38AZgCeazgReY4Q95t8r+HfsO0H/dDD13gPq6pOQ+RHX6GyslLXfljN4fYyRKSLcCjQHCbDRRg8LXrNmjVQFMWlREdHA+CjOUSkkxAmCCHxLaHEIO673/0ucnNzna99fOqjioFFRLrIL2swHlg+Pj7o2bOn23UOCYlIl5audK+qqnIpdru9yc+6du0arFYr+vXrhzlz5qC4uBgAA4uIdGoYEsoUoP6YL39/f2dZt25do58zcuRIfPLJJzh06BC2bt2K69evY9y4cbh79y6HhESkj/w6rPohod5jvqZPn+78dWxsLEaOHImIiAh89tlnDCwi0qdhHZZMPUD/MV8PCwgIwMCBA1FQUMAhIRHpo6lm6dIS1dXVKCgoQFhYGAOLiPRpODVHphjx05/+FMePH4fNZsPf//53vPLKK/Dx8cFrr73GISER6SN/zJexOiUlJXjttddw+/ZthISEYOzYsTh9+jRCQkIYWESkj6qaoJqMD+9Ug+uwdu/e3eR7DCwi0qWteljNYWARkS7y5xIysIiojQnNBE1iM75W3cCPiKgx8g8/M7CIqI3VT7obDx9VYnV8UxhYRKQLJ92JqMMQkAwsD+40zMAiIl00yUl3mTpNYWARkS6aUKBJ9LBk6jSFgUVEunhDD8vlTrW1tUhKSsLAgQMRFxeHxMREFBQUNFpx//79iI6ORlRUFJKTk1FVVeWxRhGR92mrh5+b4xZ9CxcuxNWrV3Hx4kXMmDEDb7/9tlul6upqvPXWW8jOznZuZbp27VqPNYqIvI8m/jcsNFY81waXwOrcuTOef/55KEp9Io4aNQo2m82tUk5ODhISEpxH7yxZsgQZGRmeaxUReZ2GIaFMkbV+/XooioLly5cDeMQc1ubNmzFjxgy368XFxYiIiHC+joyMRGlpKRwOh/M4HiJ6vAjJSXfZIWFeXh62b9+O2NhY57Umoy8tLQ0FBQVNbhRPRE8WVTNJF6Oqq6sxZ84cfPTRRwgMDHReb/ROGzZsQGZmJnJyctC1a1e398PDw1FUVOR8bbPZEBYWxt4V0WOsLSfdU1JS8MILL2DKlCku190SZtOmTcjIyEBubi4CAgIavdm0adOQkpKCK1euIDo6Glu2bMHs2bMNN4qIOg4BRWrVekOdh1cS+Pn5NXpyzu7du3H+/Hnk5eW5vecSWCUlJXjnnXfQr18/TJo0yXnTf/zjH0hNTYXVasXixYthsViwY8cOJCUlweFwICYmBunp6YZ/I0TUccgO7xrq9OnTx+X66tWrsWbNGpdrN27cwI9//GMcPnwYnTt3druXImQOvjegqqoK/v7+AMyAB58pIiLPEeJ+k+81/Bv+fNjL6ObTyfC9axz38fLZzxs9l/DhHlZ2djZeeeUVmM3/24pZVVUoigKTycSV7kSkjyoke1gP9sPScy7hs88+i0uXLrlce/PNNxEdHY13332XgUVE+rR0DksPi8WCmJgYl2vdunVDcHAwYmJiGFhEpA8ffiaiDkPTTFCVtn/4+dixY85fM7CISBf2sIiowxAPikw9T2FgEZEuqqZIDQlVnktIRG1NgwJN4ltCmTpNYWARkS71PSzj4cMeFhG1OU66E1GH0RYLRx+FgUVEumhCgcoeFhF1BDz5mYg6DFWyhyVTpykMLCLSpf7UHLl6nsLAIiJdOOlORB2GNwwJPXeGNBE91uQOUTW+dmvr1q2IjY11bvg3evRo5OTkAGAPi4h0aqseVu/evbF+/XpERUVBCIH09HTMmDEDFy5cYGARkT5tNen+0ksvubz+9a9/ja1bt+L06dOuQ8Jly5YhMjISiqIgPz+/0ZvZbDaYzWbEx8c7S2FhobEWEVEHpDgn3o0UfOuYr28Xu93+yE9UVRW7d+9GTU0NRo8e7drDevXVV7Fy5UqMHTu22ZtYLJYmA42IHk8qJIeEDwJLzzFfDS5duoTRo0ejtrYW3bt3R1ZWFgYNGuQaWOPHjzfcGCJ6MrR0SNjYMV9Nefrpp5Gfn4/Kykrs3bsX8+bNw/Hjx+XmsGpqajB06FAIIZCUlIRVq1a5nCNGRI+flu6HpeeYrwa+vr4YMGAAAGDo0KHIy8vD5s2bjS9rCAsLw82bN3Hu3Dnk5ubi5MmT2Lhxo9HbEFEHo2rypaU0TYPdbjfew/Lz80NoaCgAICgoCAsWLMCuXbuwcuXKZusVvjEAFl/P98L++f+e9vg9G5wv79lq9867bfwEXUP3v29rtXsv6dmr1e792jP/t9XuDQABK4Nb7d7Cx7fV7g0Avk+/0ar3f5S22nH0Zz/7GaZPn47w8HDcvXsXu3btwrFjx/DFF18YD6zy8nIEBgaiU6dOsNvtyMzMREJCgtHbEFEHo4r6IlPPiPLycsydOxelpaXw9/dHbGwsvvjiCyQmJroG1qJFi3DgwAGUlZXhueeeg8ViQUFBAVJTU2G1WrF48WKcOnUKqampMJvNcDgcmDx5MlatWmX8d0FEHUpbbS/z8ccfN/meS2Bt37690R967733nL9OTk5GcnKyoQYQUccnJL8lFNytgYjamjc8/MzAIiJdtAdFpp6nMLCISJe2mnRvDgOLiHThjqNE1GEIIXegBCfdiajNOQRglggfBwOLiNqaeFBk6nkKA4uIdFE1wCFZz1MYWESkC3tYRNRh8FtCIuowvGEdFo/5IiJdGnpYMsWIdevWYfjw4bBYLAgNDUVSUhKuXr0KgIFFRDqJFhQjjh8/jpSUFJw+fRqHDx/G/fv3MXXqVNTU1HBISET6tNWQ8NChQy6vP/nkE4SGhuLcuXMMLCLSR4PkpHsLP7eyshJA/Q7HDCwi0kUTgCpZD6g/l/Db/Pz8mj05B6jfy3358uUYM2YMYmJiOIdFRPq0dA6rT58+8Pf3d5Z169Y98jNTUlJw+fJl7N69GwCXNRCRTpoANIlloDLnEgLA0qVLsX//fpw4cQK9e/cGwMAiIp3qA0uuHqD/XEIhBH70ox8hKysLx44dQ9++fZ3vMbCISJeWBpZeKSkp2LVrF/7yl7/AYrGgrKwMAODv78/AIiJ9VCFgkhgSqgY3xNq6dSsAYOLEiS7Xd+7c6TrpvmzZMkRGRkJRFOTn5zd5w/379yM6OhpRUVFITk52m/0nosePBiFdjBBCNFrmz5/vGlivvvoqTp06hYiIiCZvVl1djbfeegvZ2dm4du0arFYr1q5dK/cnQEQdhtaC4ikugTV+/HjnbHxTcnJykJCQgOjoaADAkiVLkJGR4cEmEZE3UoWQLp5ieA6ruLjYpQcWGRmJ0tJSOBwO+PhwSozocSUkJ925pzsRtTlVaFAkIksVnhsUGl7pHh4ejqKiIudrm82GsLAw9q6IHnNtNeneHMOBNW3aNJw/fx5XrlwBAGzZsgWzZ8/2WIOIyDt5XWAtWrQIvXv3RklJCZ577jkMGDAAAJCamopt27YBACwWC3bs2IGkpCQMGDAAJSUl+OUvf+mxBhGRd1KhSRdPcRnHbd++vdEfeu+991xev/zyy3j55Zc91ggi8n6yvSVP9rA48UREusiuqfLkOiwGFhHpogm54Z3mwW8JGVhEpIumaFAUicBqrTksIqKmOKBCSJz9rErtU9o4BhYR6dKwSEGmnqdwi2Qi0kVThHQx4sSJE3jppZdgtVqhKAqys7Od7zGwiEgXRwv+Z0RNTQ3i4uLwwQcfuL3HISER6dJWQ8Lp06dj+vTpjb7HwCIiXVTFAaEohutpEhP1TWFgEZEumuTS0YZlDTLnEj6Mc1hEpIuAKl0AuXMJH8YeFhHposIh9VRgw5DQ6LmEjWFgEZEuLR0S6j2XsDkMLCLSRcV9CKndGoxNuldXV6OgoMD5+vr168jPz0dQUBADi4j0qX+IufUffj579iwmTZrkfL1ixQoAwLx58xhYRKRPW63DmjhxIkQTJ1cwsIhIF004AJkhoeDDz0TUxgQ0aDC+cNSTDz8zsIhIl/rgYWARUQegCQcUiSGh8OCQ0G2l+7Vr1/DMM89g4MCBGD58OL788ku3SjabDWazGfHx8c5SWFjosUYRkfcRQpMunuLWw1q0aBEWLlyI+fPnY+/evZg/fz7y8vLcKlosFuTn53usIUTk3TRxX+rk51brYZWXl+Ps2bN4/fXXAQDf+973cOPGDZdFXET0ZBIQkseottIxXzdu3HA5dl5RFISHh6O4uNh5qGqDmpoaDB06FEIIJCUlYdWqVTCbze6/yQfrKe7WeS5lXdrhuN8q9wWAWq2u1e5934Pd5MZoomP+ubTW35MGpmrPbXXyMOHTunsJ+FZ902r3NqMKFosFSjPbx9T3lGTmsNp50j0sLAw3b95EaGgo7ty5g1mzZmHjxo1YuXKl28/evXsXABC/p7V6aVdb6b7UlJ9/1THvDQDY3cr3b1VHWvHeC1FZWdnss36qcECR2OCl1QKrT58+KC0thcPhgI+PD4QQKC4uRnh4uEslPz8/hIaGAgCCgoKwYMEC7Nq1q9HAslqtKCwsRKdOnVzSW2YvHCJqPRaLpdn3ZZcntNqyhtDQUAwZMgSffvop5s+fj3379qF3795uw8Hy8nIEBgaiU6dOsNvtyMzMREJCQqMfYDKZ0K9fP481mIjah6bdh6K0bw9LEQ89tHP16lXMnz8ft2/fRo8ePbBz504MHjwYqampsFqtWLx4MTIzM5Gamgqz2QyHw4HJkydjw4YN7DERPYaqqqrg7+8PsylQOrBU7b+PHHLq4RZYRETf1hBYJlNAs5PyTRFCQNMqPBJYT8QWybW1tUhKSsLAgQMRFxeHxMTEDrdUY+fOnW5ntHk7u92OpUuXIioqCoMHD3Yul+kIDh48iCFDhiA+Ph4xMTFIT09v7yY1admyZYiMjISiKC5rI8vLyzFt2jRERUUhJiYGJ06caNkHCYd8kfDBBx8gMjISnTt3xsiRI3HmzBlAPAHu3bsnDhw4IDRNE0II8fvf/15MmDChfRtlwPXr18Xo0aPFqFGjRFZWVns3R7fly5eLpUuXOv/cS0tL27lF+miaJgIDA8XFixeFEPV//n5+fqKqqqqdW9a448ePixs3boiIiAhx4cIF5/U333xTrF69WgghxJkzZ0SvXr1EXV2d4ftXVlYKAEJRugqTqZvhoihdBQBRWVmp+zN3794tfH19xR//+Efx5Zdfih/84AciICBAPBGB9bC8vDwRERHR3s3QRVVV8eyzz4qzZ8+KCRMmdJjAqq6uFhaLxdBfUm+haZoICgoSx48fF0IIcfHiRWG1WoXdbm/nljXv4cDq1q2by38khg8fLg4fPmz4vg2BBfgKRfEzXABfw4E1YsQIkZKS4nytqqqwWq3iiRgSPmzz5s2YMWNGezdDl02bNmHMmDEYOnRoezfFkMLCQgQFBSEtLQ3Dhg3DuHHjcORIa64j8hxFUbBnzx4kJycjIiICY8eORXp6Onx9fdu7abrdvn0b9+/fR8+ePZ3XIiMjUVxc3IK7ahBCNVwadimtqqpyKXa7vdFPqaurw7lz5zBlyhTnNZPJhClTpjwZc1jflpaWhoKCAqkjhtra5cuXsW/fPvziF79o76YY5nA4UFRUhEGDBuHs2bP43e9+h1mzZuHf//53ezftkRwOB371q18hMzMTRUVFOHLkCN544w3cunWrvZvWLnx9fR8En0O6dO/eXfcxX7du3YKqqnjqqadcrj/11FNP1vYyGzZsQGZmJnJzc9G1a9f2bs4jnTx5EjabDVFRUQCAsrIyLFy4EKWlpfjhD3/Yzq1rXnh4OEwmE+bMmQMASEhIQN++fXHp0iW3v4jeJj8/H19//TXGjx8PABg+fDh69+6NCxcuIDExsZ1bp09wcDB8fHxQVlbm7GXZbDa3ReB6dO7cGdevX0ddnfwjWUIIt28YpZZBGR7QdlAbN24UQ4YMEXfu3GnvpkjrSHNYQgiRmJgoDhw4IIQQ4quvvhLBwcGipKSknVv1aGVlZaJ79+7in//8pxBCiGvXronAwEBRVFTUzi1r3sNzWPPmzXOZdLdarVKT7m3NbrcLs9ns9nd97ty5T8ak+40bNwQA0a9fPxEXFyfi4uLEiBEj2rtZhnW0wCosLBQTJ04UMTExIjY2Vuzdu7e9m6Tbrl27nO2OiYkRf/7zn9u7SU1auHCh6NWrlzCbzSI0NFT0799fCFEfvImJiWLAgAFi0KBB4m9/+1s7t1S/ESNGiKVLlzpfq6oqevXqJbhwlIi8zp49ezBv3jxs374dI0aMwPvvv4/PPvvsyZrDIqKOYdasWfjPf/6D1NRUlJWVIT4+HocOHeKjOUTUcTxxyxqIqOP6/7YK4VLL8NnEAAAAAElFTkSuQmCC\" />"
      ]
     },
     "execution_count": 59,
     "metadata": {},
     "output_type": "execute_result"
    }
   ],
   "source": [
    "heatmap(Mapeos[1],c=:black)\n"
   ]
  },
  {
   "cell_type": "code",
   "execution_count": 60,
   "metadata": {
    "scrolled": true
   },
   "outputs": [
    {
     "data": {
      "text/html": [
       "<img src=\"data:image/png;base64,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\" />"
      ]
     },
     "execution_count": 60,
     "metadata": {},
     "output_type": "execute_result"
    }
   ],
   "source": [
    "plot(CALOR[2][1])"
   ]
  },
  {
   "cell_type": "code",
   "execution_count": 61,
   "metadata": {},
   "outputs": [
    {
     "data": {
      "text/html": [
       "<img src=\"data:image/png;base64,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\" />"
      ]
     },
     "execution_count": 61,
     "metadata": {},
     "output_type": "execute_result"
    }
   ],
   "source": [
    "heatmap(Mapeos[100],c=:black)"
   ]
  },
  {
   "cell_type": "code",
   "execution_count": 62,
   "metadata": {},
   "outputs": [
    {
     "data": {
      "text/html": [
       "<img src=\"data:image/png;base64,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\" />"
      ]
     },
     "execution_count": 62,
     "metadata": {},
     "output_type": "execute_result"
    }
   ],
   "source": [
    "plot(CALOR[2][100])"
   ]
  },
  {
   "cell_type": "code",
   "execution_count": 63,
   "metadata": {},
   "outputs": [
    {
     "data": {
      "text/html": [
       "<img src=\"data:image/png;base64,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\" />"
      ]
     },
     "execution_count": 63,
     "metadata": {},
     "output_type": "execute_result"
    }
   ],
   "source": [
    "heatmap(Mapeos[200],c=:black)"
   ]
  },
  {
   "cell_type": "code",
   "execution_count": 64,
   "metadata": {},
   "outputs": [
    {
     "data": {
      "text/html": [
       "<img src=\"data:image/png;base64,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\" />"
      ]
     },
     "execution_count": 64,
     "metadata": {},
     "output_type": "execute_result"
    }
   ],
   "source": [
    "plot(CALOR[2][200])"
   ]
  },
  {
   "cell_type": "code",
   "execution_count": 65,
   "metadata": {},
   "outputs": [
    {
     "data": {
      "text/html": [
       "<img src=\"data:image/png;base64,iVBORw0KGgoAAAANSUhEUgAAASwAAADICAYAAABS39xVAAAABHNCSVQICAgIfAhkiAAAAAlwSFlzAAAPYQAAD2EBqD+naQAAGoRJREFUeJzt3X1QVNfdB/Dv3VVWTRYEHoms8mbUoQYVMFqriYlG1Lw0UptUZ0x9TdSotbZptR2bTUZTaGbU0STVmDo19KmgTkTaoqSj1tfpNL5iYzIaIS6igVI17sYXXu695/kD2SfrAt49XJZd/X5mzkz27p67Pxj55XfOPfdcRQghQEQUBiwdHQARkVF+CWvcuHEYNGgQ0tPT8fjjj+PkyZN+nVwuF6xWK9LT072tvLw8KAET0f1LuXNIeO3aNXTv3h0AsGPHDrz55ps4deqUTyeXy4X09HRcu3YteJES0X3Pr8JqSlYA4Ha7oShKUAMiImpJp+YOTps2Dfv27QMA7Nq1q9mON27cwJAhQyCEQHZ2NpYtWwar1er3OSEELl++jIiICJ/kZ7PZYLPZzPgZiOg+4Tck/La8vDxs3brVL2nV1dXB7XYjLi4OV69exeTJk5GVlYUlS5b4ncPj8SAqKgqAFQCrNaJQJERDR4dgSKsJCwC6du2KixcvIjY2tsXPFBQUID8/H3/729/83mPCIgp9d0tYtbW1qK+vlz5/REQEunTpIt2/ic+Q8Nq1a7h58yYcDgcAoKioCLGxsYiJifHpVFNTg+joaHTu3Bl1dXUoLCxERkZGm4MhotBTW1uLlJSeqK52S5+jZ8+eOH/+fJuTlk/CcrvdePHFF3Hr1i1YLBb06NEDxcXFUBQFTqcTDocD8+bNw+HDh+F0OmG1WqGqKsaMGYNly5a1KRAiCk319fWornbjfMVqREZ2Dbi/x3MLKUk/R319fZsT1l2HhG3FISFR6GttSNj0N3z56nvSCet/YhbC7XYjMjKyLWE2f5WQiOhOul4LXQ+86ND1WtNiYMIiIkN0XYOuq1L9zMKERUSGNFZYcv3MwoRFRIYIoUKIwCssmT4tYcIiIkOErkJIDAll+rSECYuIjNFqAU1iUYFWZ1oITFhEZIyuArr//cKG+pmECYuIjNHr5CosXf6WnjsxYRGRMboK6BKbFLPCIqJgU3QVikTCUpiwiCjotFpAk1iIpXFISETBpuuAzKp1mdWmLWDCIiJDFK0eisSku6KZtzkgExYRGaLomuQclnn3EvK5hERkjK7JtwBomobXX38dKSkp6Nq1Kx5++GGsWLECQghWWERkjKI3yA0JA7xK+Pbbb2P9+vXIy8vDI488gmPHjmHmzJmIiopiwiIig3QNkNgPK9AK65///CcmTpyIZ599FgCQnJyMgoICHDlyhENCIjKmcQ5LrgVixIgR2Lt3L7744gsAwKlTp3D48GE8/fTTrLCIyCC1HlAlliiojUNCj8fjc7ilZ5P+6le/gsfjQWpqKqxWKzRNw29/+1tMnTqVCYuIjFF0HYrEmqqmPgkJCT7H33jjDbz55pt+n9+2bRs2b96M/Px8PPLIIygtLcXixYvhcDj8E9a4ceNQXV0Ni8UCu92Od955p9lHeBUXF+MXv/gFNE3DwIED8eGHH7Z5g3kiCl2K2gBFosJS1MYhYWVlpU+OaOnJ77/85S+xdOlSTJkyBQAwcOBAVFRUIDc3138Oa9u2bfj3v/+N0tJS/PznP8eMGTP8Tnj9+nXMnj0bRUVFOHfuHBwOB1asWBHwD0JEYURILmkQjQkrMjLSp7WUsG7evIlOnXxrKavVCl3X/RNW9+7dvf/tdruhKP5XBUpKSpCRkYHU1FQAwPz581FQUCD/iyCi0Kfr8i0A3//+9/HWW29h586dcLlc2LFjB1avXo0f/OAHzc9hTZs2Dfv27QMA7Nq1y+/9CxcuICkpyfs6OTkZVVVVUFXVLzMS0b2hrUNCo9599128/vrrmD9/PmpqauBwODB37lw4nc7mE9af/vQnAEBeXh6WLl3abNIiovuMrgEy9zEHuKzBbrdjzZo1WLNmjd97ra7Dmj59Ovbt24crV674HE9MTERFRYX3tcvlQnx8PKsronuYompQVFWitdO9hNeuXcNXX33lfV1UVITY2FjExMT4dJowYQJOnDiBM2fOAADWrVvnndEnontUkO4lbI1PSeR2u/Hiiy/i1q1bsFgs6NGjB4qLi6EoCpxOJxwOB+bNmwe73Y6NGzciOzsbqqoiLS0NeXl5pgVFRCFI1yWHhObth6UIISR2lTfO4/EgKioKgBWAxH1IRNTuhGh5z6qmv+Gr2x5CZLfA7+bz3NQR86P/wO12t3mtJiediMgYXQN0mafmcMdRIgo2VQNUiYQlc/9hC5iwiMgYXchVSzJVWQuYsIjIGF1ITrozYRFRsKkqoEpcOJMZRraACYuIjGGFRURhQ+hyWySbuHKKCYuIDBGqgJB46rzgkJCIgk7cbjL9TMKERUTGqLebTD+TMGERkTE6JCfdzQuBCYuIDBF6Y5PpZxYmLCIyRoPc8M683WWYsIjIIA4JiShcCM0KoQW+DktoXNZARMGmK3ILR1lhEVGwCaFACIkKi+uwiCjoNAsgMSQEh4REFGxCVyAkhoRc1kBEQSc0CyfdiShMCAXQA38IhZklls+319bWIjs7G/3798fgwYORlZWFsrIyv04ulwtWqxXp6eneVl5eblpQRBR6moaEMs0sfhXWnDlz8PTTT0NRFLz33nt4+eWXsX//fr+OdrsdpaWlpgVCRKGtcR1W4BWWzDCyJT7f3qVLFzzzzDNQlMYvGD58OFwul2lfRkThKxQqrFbT5dq1azFx4sRm37tx4waGDBmCzMxMLF++HJpm4g1DRBR6dIt8M0mLk+45OTkoKyvD3r17/d6Lj4/HpUuXEBcXh6tXr2Ly5MlYtWoVlixZYlpgRBRaGq8SygwJzYuh2W9fuXIlCgsLUVJSgm7duvm9b7PZEBcXBwCIiYnBrFmzcOjQIfOiIqKQI3SLdAvUpUuX8NJLLyE2NhZdu3bFwIEDcezYMf8Ka/Xq1SgoKMCePXvQvXv3Zk9WU1OD6OhodO7cGXV1dSgsLERGRkbgvwEiChu6ZoEuUWHpAVZYX3/9NUaOHInRo0ejpKQEPXr0wLlz5xAdHe2bsC5evIjXXnsNffr0wejRowE0VlOffPIJnE4nHA4H5s2bh8OHD8PpdMJqtUJVVYwZMwbLli0L+AchovAhhORK9wDvP3z77beRkJCATZs2eY+lpKQAABQhzLw10Z/H40FUVBQAKwDzrhYQkXmEaGjxvaa/YdcrfRAZEXiF5anXkfyHL1FZWYnIyEjvcZvNBpvN5vf5AQMGYPz48bh48SIOHDiAXr16Yf78+XjllVdav0pIRNREqAp01RJwE7efFp2QkICoqChvy83NbfZ7vvzyS6xfvx79+vXD3//+d7z66qtYtGgR8vLyeGsOERkjhAVCSFwlvD2Ia67Cao6u63j00UeRk5MDAMjIyMDp06fx/vvvM2ERkTHyyxoaE1ZkZKRPwmpJfHw8BgwY4HPsO9/5DrZv386ERUTGyG8vE1ifkSNH4uzZsz7HvvjiCyQlJTFhEZExbR0SGvWzn/0MI0aMQE5ODn70ox/hyJEj+OCDD/DBBx8wYRGRMfLrsAJLWEOHDsWOHTvw61//GsuXL0dKSgrWrFmDqVOnMmERkTHBWocFAM899xyee+45v+NMWERkiK5ZoVusEv3Mi4EJi4gMkX9qTjtu4EdE1BwmLCIKG5pmgSYxJNT4EAoiCjZWWEQUNoK1cLQ1TFhEZIjQLdAlNuOT2cCvJUxYRGSI/Ep3JiwiCrLGSffAk48msTq+JUxYRGQIJ92JKGwISCYsE3caZsIiIkN0yUl3mT4tYcIiIkN0oUCXqLBk+rSECYuIDAmFCsvnTLW1tcjOzkb//v0xePBgZGVloaysrNmOxcXFSE1NRb9+/TBp0iR4PB7TgiKi0NM06S7TzOKX+ubMmYOzZ8/i1KlTmDhxIl5++WW/TtevX8fs2bNRVFSEc+fOweFwYMWKFaYFRUShRxf/PywMrJkXg0/C6tKlC5555hkoSmNGHD58OFwul1+nkpISZGRkIDU1FQAwf/58FBQUmBcVEYWcpiGhTDNLq3NYa9euxcSJE/2OX7hwAUlJSd7XycnJqKqqgqqq6NSJ02JE9yIhOekelHVYOTk5KCsrw969e037MiIKX5pugSZRLcn0aUmzZ1q5ciUKCwtRUlKCbt26+b2fmJiIiooK72uXy4X4+HhWV0T3sJCcdF+9ejUKCgqwe/dudO/evdlOEyZMwIkTJ3DmzBkAwLp16zBlyhTTgiKi0COgSDez+JREFy9exGuvvYY+ffpg9OjRABofJ/3JJ5/A6XTC4XBg3rx5sNvt2LhxI7Kzs6GqKtLS0pCXl2daUEQUekJhSKiIQJ9yGCCPx4OoqCgAVsDETEtE5hGiocX3mv6G//ro83igU+eAz31DbcDzx/4Kt9tt6FH1reGkExEZognJCov7YRFRsMnOR3G3BiIKOt78TERhQ9ct0BRuL0NEYYAVFhGFDXG7yfQzi3m1GhHd0zRd8a7FCqzJV1i/+93voCgKFi9eDIAVFhEZpEOBLnHFT6YPABw9ehQbNmzAoEGDvMdYYRGRIY0VllwL1PXr1zF16lT84Q9/QHR0tPc4ExYRGSK3eZ/cRP2CBQvw7LPPYuzYsT7HOSQkIkPaunD0zm3UbTYbbDab3+e3bNmCEydO4OjRo37vscIiIkN0oUCTaE0VVkJCAqKiorwtNzfX7zsqKyvx05/+FJs3b0aXLl383meFRUSGtPXJz5WVlT43PzdXXR0/fhw1NTXIzMz0HtM0DQcPHsR7773HhEVExjRVTDL9ACAyMvKuuzU89dRT+PTTT32OzZw5E6mpqVi6dCkTFhEZ0/jUHLl+RtntdqSlpfkce+CBBxAbG4u0tDQmLCIyhrs1EFHYaOuQUNb+/fu9/82ERUSG8OZnIgobHVVhfRsTFhEZEoxJ97vxWTi6aNEiJCcnQ1EUlJaWNtvB5XLBarUiPT3d28rLy82LiIhClOwjvtqpwnrhhRewZMkSPPbYY612stvtLSY0Iro3aZAcErZXwho1apRpJyaie0vIDQmNunHjBoYMGYLMzEwsX74cmqaZFxERhaSm/bBkmlkCTljx8fG4dOkSjh8/jj179uDQoUNYtWqVaQERUWjSdPlmloCvEtpsNsTFxQEAYmJiMGvWLOTn52PJkiWt9rvqXo/IyG5yUbai/uz/mn7OJhHHDrfbuW/9u3u7nRsAqs8mt9u5z1c52u3cZ76OabdzA8AZj/8Nt2b5/Jvadjs3AHyufHr3D7WjYO842pyAK6yamho0NDQ+1rqurg6FhYXIyMgwLSAiCk2akG9m8UlYc+fORe/evXHx4kWMHz8effv2BQA4nU68//77AIDDhw8jIyMDgwcPRmZmJnr27Illy5aZFxERhaSm7WVkmll8hoQbNmxo9kPLly/3/vekSZMwadIk0wIgovAgJK8SChMrLK50JyJDeGsOEYUN/XaT6WcWJiwiMkR2At3MSXcmLCIyJBRWujNhEZEhQkDyIRTmxcCERUSGqAKwSiQflQmLiIJN3G4y/czChEVEhmg6oEr2MwsTFhEZwgqLiMIGrxISUdjgOiwiChussIgobHAOi4jCBoeERBQ2dEgOCU2MgQmLiAzRBSDzuBnOYRFR0HEOi4jChi4AXSL9dPhzCYno/tO0rEGmBSI3NxdDhw6F3W5HXFwcsrOzcfbsWQBMWERkULAS1oEDB7BgwQL861//wu7du9HQ0IBx48bhxo0bHBISkTGaELBIDAm1ADfE+vjjj31ef/jhh4iLi8Px48d9K6xFixYhOTkZiqKgtLS0xRMWFxcjNTUV/fr1w6RJk+DxeAIKiIjCjw4h3drC7XYDaHxws0/CeuGFF3D48GEkJSW12Pn69euYPXs2ioqKcO7cOTgcDqxYsaJNARFR6NPb0ADA4/H4tLq6urt/p65j8eLFGDlyJNLS0nwT1qhRo9C7d+9WT1BSUoKMjAykpqYCAObPn4+CggKjPzMRhSlNCOkGAAkJCYiKivK23Nzcu37nggULcPr0aWzZsgWAxLKGCxcu+FRgycnJqKqqgqqq6NSJU2JE9yoh5FatN01hVVZWIjIy0nvcZrO12m/hwoUoLi7GwYMHvYUUMwwRGaIJHYpEytJEY5/IyEifhNUSIQR+8pOfYMeOHdi/fz9SUlK87wWcsBITE7F7927va5fLhfj4eFZXRPc42Qn0QPssWLAA+fn5+Mtf/gK73Y7q6moAQFRUVODrsCZMmIATJ07gzJkzAIB169ZhypQpgZ6GiMJMsK4Srl+/Hm63G08++STi4+O9bevWrb4V1ty5c7Fz505UV1dj/PjxsNvtKCsrg9PphMPhwLx582C327Fx40ZkZ2dDVVWkpaUhLy/P1F8MEYUeDZJDwgD7iFbWbfkkrA0bNjT7oeXLl/u8fv755/H8888HFAQRhbdgDQlbw4knIjLk22uqAu1nFiYsIjJEF3rAw7umfmZhwiIiQ3RFh6JIJCwTaywmLCIyRIUGIfHsZ01qn9LmMWERkSFNixRk+pmFCYuIDNEVAUXhVUIiCgMqVAgoAffTJIaRLWHCIiJDOCQkorChKSqEEniFpbPCIqJg0yWXjnJZAxEFnYAGIfHcGsFlDUQUbBpUqet9HBISUdBxSEhEYUNDA4TUbg2ssIgoyBpvYubNz0QUBrgOi4jChi5UQGZIKHiVkIiCTECHLnFrDissIgq6xsTDhEVEYUAXKhSJIaEwcUjot2z13LlzGDFiBPr374+hQ4fis88+8+vkcrlgtVqRnp7ubeXl5aYFRUShRwhdupnFr8KaO3cu5syZgxkzZuCjjz7CjBkzcPToUb+OdrsdpaWlpgVCRKFNFw1Sj/lqtwqrpqYGx44dw0svvQQA+OEPf4jKykqUlZWZ9oVEFJ4EhORjVNtpA7/Kykqfx84rioLExERcuHABffv29el448YNDBkyBEIIZGdnY9myZbBarf4/5O2HIno8t0wL+tvqr5u3ivZOETfN+0Xf6VadmQ8/8vdNQ/v9Xm5oDe127ltafbudGwDq2/HXror2jd3MFeN38ng8sNvtUFrZPqaxUpKZw+rgSff4+HhcunQJcXFxuHr1KiZPnoxVq1ZhyZIlfp/95ptvAADJCT9tW6T3nJvtfP6qdj4/3UuioqLgdrsRGRnZ4mc0oUKR2a2hvRJWQkICqqqqoKoqOnXqBCEELly4gMTERJ9ONpsNcXFxAICYmBjMmjUL+fn5zSYsh8OB8vJydO7c2Sd722w22Gw2034QImobu93e6vuyyxPabVlDXFwcMjMz8ec//xkzZszA9u3b0bt3b7/hYE1NDaKjo9G5c2fU1dWhsLAQGRkZzX6BxWJBnz59TAuYiDqGrjdAUTq2wlJE0yTTbWfPnsWMGTNw5coVREZGYtOmTRg4cCCcTiccDgfmzZuHwsJCOJ1OWK1WqKqKMWPGYOXKlayYiO5BHo8HUVFRsFqipROWpn991yGnEX4Ji4jo25oSlsXSvdVJ+ZYIIaDr10xJWIGnyzBUW1uL7Oxs9O/fH4MHD0ZWVlbYLdXYtGkTFEVBUVFRR4diWF1dHRYuXIh+/fph4MCB3uUy4WDXrl3IzMxEeno60tLSkJeX19EhtWjRokVITk6Goig+ayNramowYcIE9OvXD2lpaTh48GDbvkio8k3C73//eyQnJ6NLly747ne/iyNHjgDiPnDr1i2xc+dOoeu6EEKId999VzzxxBMdG1QAzp8/L773ve+J4cOHix07dnR0OIYtXrxYLFy40Pt7r6qq6uCIjNF1XURHR4tTp04JIRp//zabTXg8ng6OrHkHDhwQlZWVIikpSZw8edJ7fObMmeKNN94QQghx5MgR0atXL1FfXx/w+d1utwAgFKWbsFgeCLgpSjcBQLjdbsPfuWXLFhERESH++Mc/is8++0y88soronv37uK+SFh3Onr0qEhKSuroMAzRNE089dRT4tixY+KJJ54Im4R1/fp1YbfbA/pHGip0XRcxMTHiwIEDQgghTp06JRwOh6irq+vgyFp3Z8J64IEHfP4nMXToULF79+6Az9uUsIAIoSi2gBsQEXDCGjZsmFiwYIH3taZpwuFwiPtiSHintWvXYuLEiR0dhiGrV6/GyJEjMWTIkI4OJSDl5eWIiYlBTk4OHn30UTz++OPYu3dvR4dliKIo2Lp1KyZNmoSkpCQ89thjyMvLQ0REREeHZtiVK1fQ0NCAnj17eo8lJyfjwoULbTirDiG0gFvTLqUej8en1dXVNfst9fX1OH78OMaOHes9ZrFYMHbs2PtjDuvbcnJyUFZWhtzc3I4O5a5Onz6N7du34ze/+U1HhxIwVVVRUVGBAQMG4NixY3jnnXcwefJk/Oc//+no0O5KVVW89dZbKCwsREVFBfbu3Ysf//jHuHz5ckeH1iEiIiJuJz5Vuj344INISEhAVFSUt7X0N3j58mVomoaHHnrI5/hDDz10f20vs3LlShQWFmLPnj3o1q1bR4dzV4cOHYLL5UK/fv0AANXV1ZgzZw6qqqrw6quvdnB0rUtMTITFYsHUqVMBABkZGUhJScGnn37q9w8x1JSWluKrr77CqFGjAABDhw5F7969cfLkSWRlZXVwdMbExsaiU6dOqK6u9lZZLpfLbxG4EV26dMH58+dRXy9/65EQwu8Ko9QyqIAHtGFq1apVIjMzU1y9erWjQ5EWTnNYQgiRlZUldu7cKYQQ4ssvvxSxsbHi4sWLHRzV3VVXV4sHH3xQfP7550IIIc6dOyeio6NFRUVFB0fWujvnsKZPn+4z6e5wOKQm3YOtrq5OWK1Wv3/r06ZNuz8m3SsrKwUA0adPHzF48GAxePBgMWzYsI4OK2DhlrDKy8vFk08+KdLS0sSgQYPERx991NEhGZafn++NOy0tTWzevLmjQ2rRnDlzRK9evYTVahVxcXHi4YcfFkI0Jt6srCzRt29fMWDAAPGPf/yjgyM1btiwYWLhwoXe15qmiV69egkuHCWikLN161ZMnz4dGzZswLBhw7BmzRps27bt/prDIqLwMHnyZPz3v/+F0+lEdXU10tPT8fHHH/PWHCIKH/fdsgYiCl//BxV8iuxPQcE2AAAAAElFTkSuQmCC\" />"
      ]
     },
     "execution_count": 65,
     "metadata": {},
     "output_type": "execute_result"
    }
   ],
   "source": [
    "heatmap(Mapeos[400],c=:black)"
   ]
  },
  {
   "cell_type": "code",
   "execution_count": 68,
   "metadata": {},
   "outputs": [
    {
     "data": {
      "text/html": [
       "<img src=\"data:image/png;base64,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\" />"
      ]
     },
     "execution_count": 68,
     "metadata": {},
     "output_type": "execute_result"
    }
   ],
   "source": [
    "plot(CALOR[2][400])"
   ]
  },
  {
   "cell_type": "markdown",
   "metadata": {},
   "source": [
    "__ Metodo de Euler __"
   ]
  },
  {
   "cell_type": "code",
   "execution_count": 69,
   "metadata": {
    "collapsed": true
   },
   "outputs": [],
   "source": [
    "CALOR=herramientas.MetodoEuler(S,XI,0,2pi,0.001);\n",
    "\n",
    "Mapeos=[]\n",
    "for i in 3:10:6000\n",
    "    w=reshape(CALOR[2][i],(1,10))\n",
    "    wM=zeros(3,10)\n",
    "    wM[1,:]=w\n",
    "    push!(Mapeos,wM)\n",
    "end      "
   ]
  },
  {
   "cell_type": "code",
   "execution_count": 70,
   "metadata": {},
   "outputs": [
    {
     "data": {
      "text/html": [
       "<img src=\"data:image/png;base64,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\" />"
      ]
     },
     "execution_count": 70,
     "metadata": {},
     "output_type": "execute_result"
    }
   ],
   "source": [
    "heatmap(Mapeos[1],c=:black)"
   ]
  },
  {
   "cell_type": "code",
   "execution_count": 71,
   "metadata": {},
   "outputs": [
    {
     "data": {
      "text/html": [
       "<img src=\"data:image/png;base64,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\" />"
      ]
     },
     "execution_count": 71,
     "metadata": {},
     "output_type": "execute_result"
    }
   ],
   "source": [
    "plot(CALOR[2][1])"
   ]
  },
  {
   "cell_type": "code",
   "execution_count": 72,
   "metadata": {},
   "outputs": [
    {
     "data": {
      "text/html": [
       "<img src=\"data:image/png;base64,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\" />"
      ]
     },
     "execution_count": 72,
     "metadata": {},
     "output_type": "execute_result"
    }
   ],
   "source": [
    "heatmap(Mapeos[100],c=:black)"
   ]
  },
  {
   "cell_type": "code",
   "execution_count": 73,
   "metadata": {},
   "outputs": [
    {
     "data": {
      "text/html": [
       "<img src=\"data:image/png;base64,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\" />"
      ]
     },
     "execution_count": 73,
     "metadata": {},
     "output_type": "execute_result"
    }
   ],
   "source": [
    "plot(CALOR[2][100])"
   ]
  },
  {
   "cell_type": "code",
   "execution_count": 74,
   "metadata": {},
   "outputs": [
    {
     "data": {
      "text/html": [
       "<img src=\"data:image/png;base64,iVBORw0KGgoAAAANSUhEUgAAASwAAADICAYAAABS39xVAAAABHNCSVQICAgIfAhkiAAAAAlwSFlzAAAPYQAAD2EBqD+naQAAGnpJREFUeJzt3XtQVOf9P/D3YdVFkwWBX4isctGIQwwKi5dYjeYmxlwaKdXqjKnXVK1aY5NWO2OLGUmhmaqjTWo08VtLp4HoRKQpSmbUemP6a71iY/LzAnUBDZSqdbeiLJxznt8fCN+sC3j28bCw+n7NPDPu2X3O+bADHz/Pc55zjiKEECAiCgIhXR0AEZFRPglr0qRJGD58OFJTUzF+/HicOnXKp5PT6YTFYkFqamprq6ioCEjARPTgUu4cEl6/fh19+/YFAOzatQtvv/02Tp8+7dXJ6XQiNTUV169fD1ykRPTA86mwWpIVALhcLiiKEtCAiIja06OtjbNmzcKBAwcAAHv27GmzY319PUaMGAEhBDIyMrBq1SpYLBafzwkhcOXKFfTq1csr+VmtVlitVjN+BiJ6QPgMCb8pLy8P27dv90laHo8HLpcL0dHRuHbtGqZPn4709HSsWLHCZx9utxvh4eEALABYrRF1R0I0dXUIhnSYsACgd+/euHTpEqKiotr9TEFBAfLz8/HnP//Z5z0mLKLu724Jq6GhAY2NjdL779WrF0JDQ6X7t/AaEl6/fh03b96E3W4HABQVFSEqKgqRkZFenerq6hAREYGePXvC4/GgsLAQDofjnoMhou6noaEBAwf2Q22tS3of/fr1w8WLF+85aXklLJfLhWnTpuHWrVsICQnBI488guLiYiiKgqysLNjtdixatAilpaXIysqCxWKBqqp47rnnsGrVqnsKhIi6p8bGRtTWunCxcj3Cwnr73d/tvoWB8W+isbHxnhPWXYeE94pDQqLur6MhYcvf8JVr70snrP8TuRQulwthYWH3EmbbZwmJiO6k6w3Qdf+LDl1vMC0GJiwiMkTXNei6KtXPLExYRGRIc4Ul188sTFhEZIgQKoTwv8KS6dMeJiwiMkToKoTEkFCmT3uYsIjIGK0B0CQWFWge00JgwiIiY3QV0H2vFzbUzyRMWERkjO6Rq7B0+Ut67sSERUTG6CqgS9ykmBUWEQWaoqtQJBKWwoRFRAGnNQCaxEIsjUNCIgo0XQdkVq3LrDZtBxMWERmiaI1QJCbdFc28mwPyMV9EZIiia9LNH5qm4Re/+AUGDhyI3r1747HHHkN2djaEEKywiMggXZM8S+hfwnr33XfxwQcfIC8vD0888QSOHz+OuXPnIjw8nAmLiIxR9Ca5IaGfZwn/+te/YsqUKXj55ZcBAAkJCSgoKMDRo0c5JCQig3RNvvlh7Nix2L9/P86fPw8AOH36NEpLS/Hiiy+ywiIiY5rno/y/gV/LHJbb7fba3t6j/n72s5/B7XYjKSkJFosFmqbhl7/8JWbOnMmERUQGqY2AKrFEQW0eEsbGxnptXr16Nd5++22fj+/YsQMff/wx8vPz8cQTT6CsrAzLly+H3W5nwiIiYxRdhyKxpqqlT3V1tdc93dt7kPJPf/pTrFy5EjNmzAAADBs2DJWVlcjNzfWdw5o0aRKGDx+O1NRUjB8/HqdOnWpzp8XFxUhKSkJiYiIyMzN9yj0iur8oahMUtVGiNa/DCgsL82rtJaybN2+iRw/vWspisUDXdd+EtWPHDvzjH/9AWVkZ3nzzTcyZM8dnhzdu3MD8+fNRVFSECxcuwG63Izs724SvhIi6LSE54S78m3T/9re/jXfeeQe7d++G0+nErl27sH79enznO9/xTVh9+/Zt/bfL5YKi+E6ylZSUwOFwICkpCQCwePFiFBQU+PvjE1Ew0XX55of33nsPU6dOxeLFi/H444/jJz/5CRYuXIjs7Oy257BmzZqFAwcOAAD27Nnj835VVRXi4+NbXyckJKCmpgaqqvqUckR0f2geEkrMYan+VVg2mw0bNmzAhg0bfN5rM7v84Q9/AADk5eVh5cqVbSYtInrA6Bogcx2ziY/56nDh6OzZs3HgwAFcvXrVa3tcXBwqKytbXzudTsTExLC6IrqPKaoGRVUlWiclrOvXr+Prr79ufV1UVISoqChERkZ6dZo8eTJOnjyJs2fPAgA2bdrUegqSiO5TAVrp3hGvksjlcmHatGm4desWQkJC8Mgjj6C4uBiKoiArKwt2ux2LFi2CzWbD1q1bkZGRAVVVkZycjLy8PNOCIqJuSNclh4Tm3Q9LEUJI3FXeOLfbjfDwcAAWAP4v6yeizidE+/esavkbvrbjUYT18f/yY/dNHZHf+xdcLpfXwlEZnHQiImN0DdBlnprDO44SUaCpGqBKJCyZ6w/bwYRFRMboQq5akqnK2sGERUTG6EJy0p0Ji4gCTVUBVeLEmcwwsh1MWERkDCssIgoaQgck7jgKE1dOMWERkSFCFRAST50XHBISUcCJ202mn0mYsIjIGPV2k+lnEiYsIjJGh+Sku3khMGERkSFCb24y/czChEVExmiQG96Zd3cZJiwiMohDQiIKFkKzQGj+r8MSGpc1EFGg6YrcwlFWWEQUaEIoEEKiwuI6LCIKOC0EkBgSgkNCIgo0oSsQEkNCLmsgooATWggn3YkoSAgF0P1/CIWZJZbX0RsaGpCRkYEhQ4YgJSUF6enpKC8v9+nkdDphsViQmpra2ioqKkwLioi6n5YhoUwzi0+FtWDBArz44otQFAXvv/8+Xn/9dRw8eNCno81mQ1lZmWmBEFH31rwOy/8KS2YY2R6vo4eGhuKll16CojQfYMyYMXA6naYdjIiCV3eosDpMlxs3bsSUKVPafK++vh4jRoxAWloa1qxZA00z8YIhIup+9BD5ZpJ295STk4Py8nLk5ub6vBcTE4PLly/jxIkT2LdvH44cOYJ169aZFhQRdT/NZwnlmr8uX76M1157DVFRUejduzeGDRuG48ePt52w1q5di8LCQpSUlKBPnz4+71utVkRHRwMAIiMjMW/ePBw5csTvoIgoeAg9RLr54z//+Q/GjRuHnj17oqSkBF999RXWrVuHiIgI30n39evXo6CgAPv27UPfvn3b3GFdXR0iIiLQs2dPeDweFBYWwuFwyH0LRBQUdC0EukS1pPs5W/Tuu+8iNjYW27Zta902cOBAAHcMCS9duoS33noL169fx7PPPovU1FQ8+eSTAICsrCxs3rwZAFBaWgqHw4GUlBSkpaWhX79+WLVqld8/CBEFDyEkJ939vP7ws88+w8iRIzFt2jRER0fD4XDgo48+AgAoQph5aaIvt9uN8PBwABYA5p0tICLzCNHU7nstf8POHwxCWC//Kyx3o46Ej/6J6upqhIWFtW63Wq2wWq0+nw8NDQUAvPnmm5g2bRqOHTuGN954A5s3b+ZKdyIyRqgK9BCJdVi3H/MVGxvrtX316tV4++23fT6v6zpGjhyJnJwcAIDD4cCZM2eYsIjIOCFCIIREwro9iGurwmpLTEwMhg4d6rXt8ccfx86dO5mwiMgY2SUKLRc/h4WFeSWs9owbNw7nzp3z2nb+/HnEx8czYRGRMfK3l/Gvz49//GOMHTsWOTk5+N73voejR4/iww8/xIcfftjxSnciohYtQ0KZ5o9Ro0Zh165dKCgoQHJyMrKzs7FhwwbMnDmTFRYRGSO/Dsv/hQivvPIKXnnlFZ/tTFhEZEjLOiyZfmZhwiIiQ3TNAj3EItHPvBiYsIjIEPmn5rDCIqIAY8IioqChaSHQJIaEGh9CQUSBxgqLiIJGoBaOdoQJi4gMEXoIdInbHft7A7+OMGERkSHyFz8zYRFRgDVPuvuffDSJ1fHtYcIiIkM46U5EQUNAMmGZeKdhJiwiMkSXnHSX6dMeJiwiMkQXCnSJCkumT3uYsIjIkO5QYXntqaGhARkZGRgyZAhSUlKQnp6O8vLyNjsWFxcjKSkJiYmJyMzMhNvtNi0oIup+WibdZZpZfFLfggULcO7cOZw+fRpTpkzB66+/7tPpxo0bmD9/PoqKinDhwgXY7XZkZ2ebFhQRdT+6+N9hoX/NvBi8ElZoaCheeuklKEpzRhwzZgycTqdPp5KSEjgcDiQlJQEAFi9ejIKCAvOiIqJup2VIKNPM0uEc1saNGzFlyhSf7VVVVYiPj299nZCQgJqaGqiqih49OC1GdD8SkpPuAVmHlZOTg/Lycuzfv9+0gxFR8NL0EGgS1ZJMn/a0uae1a9eisLAQJSUl6NOnj8/7cXFxqKysbH3tdDoRExPD6oroPtYtJ93Xr1+PgoIC7N27F3379m2z0+TJk3Hy5EmcPXsWALBp0ybMmDHDtKCIqPsRUKSbWbxKokuXLuGtt97CoEGD8OyzzwJofpz03//+d2RlZcFut2PRokWw2WzYunUrMjIyoKoqkpOTkZeXZ1pQRNT9dIchoSJaHnzfSdxuN8LDwwFYABMzLRGZR4imdt9r+Rv+bOSreKhHT7/3Xa824dXjn8Hlchl6VH1HOOlERIZoQrLC4v2wiCjQZOejeLcGIgo4XvxMREFD10OgKby9DBEFAVZYRBQ0xO0m088s5tVqRHRf03SldS2Wf02+wvrVr34FRVGwfPlyAKywiMggHQp0iTN+Mn0A4NixY9iyZQuGDx/euo0VFhEZ0lxhyTV/3bhxAzNnzsRHH32EiIiI1u1MWERkiNzN+/53ot7tdns1j8fT7rGWLFmCl19+GRMnTvTazoRFRIbc68XPsbGxCA8Pb225ubltHueTTz7ByZMn23yfc1hEZIguFGj3sKyhurra61pCq9Xq89nq6mq88cYb2Lt3L0JDQ33eZ8IiIkPu9cnPYWFhd734+cSJE6irq0NaWlrrNk3TcPjwYbz//vtMWERkjCZZYfnT5/nnn8cXX3zhtW3u3LlISkrCypUrmbCIyJjmp+bI9TPKZrMhOTnZa9tDDz2EqKgoJCcnM2ERkTG8WwMRBY1ADAnbcvDgwdZ/M2ERkSG8+JmIgkZXVVjfxIRFRIYEYtL9brxWui9btgwJCQlQFAVlZWVtdnA6nbBYLEhNTW1tFRUV5kVERN2U7Cr3Tqqwpk6dihUrVuCpp57qsJPNZms3oRHR/UmD5JCwsxLWhAkTTNsxEd1fut2Q0Kj6+nqMGDECaWlpWLNmDTRNMy8iIuqWWu6HJdPM4nfCiomJweXLl3HixAns27cPR44cwbp160wLiIi6J02Xb2bx+yyh1WpFdHQ0ACAyMhLz5s1Dfn4+VqxY0WG/a64PEBbWRy7KDjR9+T+m77NFj6P/t9P2Xf+Pfp22bwD4+nxCp+27vNbeafs+7wrvtH0DwP9z+f/kYqPO37zZafsGgLPKF3f/UCcK9B1H2+J3hVVXV4empubHWns8HhQWFsLhcJgWEBF1T5qQb2bxSlgLFy7EgAEDcOnSJbzwwgsYPHgwACArKwubN28GAJSWlsLhcCAlJQVpaWno168fVq1aZV5ERNQttdxeRqaZxWtIuGXLljY/tGbNmtZ/Z2ZmIjMz07QAiCg4CMmzhMLECosr3YnIEF6aQ0RBQ7/dZPqZhQmLiAyRnUA3c9KdCYuIDOkOK92ZsIjIECEg+RAK82JgwiIiQ1QBWCSSj8qERUSBJm43mX5mYcIiIkM0HVAl+5mFCYuIDGGFRURBg2cJiShocB0WEQUNVlhEFDQ4h0VEQYNDQiIKGjokh4QmxsCERUSG6AKQedwM57CIKOA4h0VEQUMXgC6Rfrr8uYRE9OBpWdYg0/yRm5uLUaNGwWazITo6GhkZGTh37hwAJiwiMihQCevQoUNYsmQJ/va3v2Hv3r1oamrCpEmTUF9fzyEhERmjCYEQiSGh5ucNsT7//HOv17///e8RHR2NEydOeFdYy5YtQ0JCAhRFQVlZWbs7LC4uRlJSEhITE5GZmQm32+1XQEQUfHQI6QYAbrfbq3k8HkPHdblcAJof3OyVsKZOnYrS0lLEx8e32/nGjRuYP38+ioqKcOHCBdjtdmRnZ8t+B0QUJPR7aAAQGxuL8PDw1pabm3v3Y+o6li9fjnHjxiE5Odl7SDhhwoS77qCkpAQOhwNJSUkAgMWLF2PSpEn49a9/beRnJqIgda9DwurqaoSFhbVut1qtd+27ZMkSnDlzBqWlpQAkljVUVVV5VWAJCQmoqamBqqro0YNTYkT3KyHkVq23TGGFhYV5Jay7Wbp0KYqLi3H48GEMGDAAANdhEZFBmtChSKQsTfjXRwiBH/3oR9i1axcOHjyIgQMHtr7nd8KKi4vD3r17W187nU7ExMSwuiK6z31zAt3ffv5YsmQJ8vPz8ac//Qk2mw21tbUAgPDwcP/XYU2ePBknT57E2bNnAQCbNm3CjBkz/N0NEQWZez1LaNQHH3wAl8uFZ555BjExMa1t+/bt3hXWwoULsXv3btTW1uKFF16AzWZDeXk5srKyYLfbsWjRIthsNmzduhUZGRlQVRXJycnIy8sz9Yshou5Hg+SQ0M8+ooN1W14Ja8uWLW1+aM2aNV6vX331Vbz66qt+BUFEwS1QQ8KOcOKJiAz55poqf/uZhQmLiAzRhe738K6ln1mYsIjIEF3RoSgSCcvEGosJi4gMUaFBSDz7WZO6T2nbmLCIyJCWRQoy/czChEVEhuiKgKLwLCERBQEVKgQUv/tpEsPI9jBhEZEhHBISUdDQFBVC8b/C0llhEVGg6ZJLR7msgYgCTkCDkHhujeCyBiIKNA2q1Pk+DgmJKOA4JCSioKGhCULqbg2ssIgowJovYubFz0QUBLgOi4iChi5UQGZIKHiWkIgCTECHLnFpDissIgq45sTDhEVEQUAXKhSJIaEwcUjos2z1woULGDt2LIYMGYJRo0bhyy+/9OnkdDphsViQmpra2ioqKkwLioi6HyF06WYWnwpr4cKFWLBgAebMmYNPP/0Uc+bMwbFjx3w62mw2lJWVmRYIEXVvumiSesxXp1VYdXV1OH78OF577TUAwHe/+11UV1ejvLzctAMSUXASEJKPUe2kG/hVV1d7PXZeURTExcWhqqoKgwcP9upYX1+PESNGQAiBjIwMrFq1ChaLxfeHvP1QRLf7lmlBf1PTDfNW0d6pxy3zvug71XvMfPiRrxtNnfe93NSaOm3fDXpjp+0bABr1zvveVdG5sZu5YvxObrcbNpsNSge3j2mulGTmsLp40j0mJgaXL19GdHQ0rl27hunTp2PdunVYsWKFz2f/+9//AgASYt+4t0jvO1VBvn+6n4SHh8PlciEsLKzdz2hChSJzt4bOSlixsbGoqamBqqro0aMHhBCoqqpCXFycVyer1Yro6GgAQGRkJObNm4f8/Pw2E5bdbkdFRQV69uzplb2tViusVqtpPwgR3Rubzdbh+7LLEzptWUN0dDTS0tLwxz/+EXPmzMHOnTsxYMAAn+FgXV0dIiIi0LNnT3g8HhQWFsLhcLR5gJCQEAwaNMi0gImoa+h6ExSlayssRbRMMt127tw5zJkzB1evXkVYWBi2bduGYcOGISsrC3a7HYsWLUJhYSGysrJgsVigqiqee+45rF27lhUT0X3I7XYjPDwclpAI6YSl6f+565DTCJ+ERUT0TS0JKySkb4eT8u0RQkDXr5uSsPxPl0GooaEBGRkZGDJkCFJSUpCenh50SzW2bdsGRVFQVFTU1aEY5vF4sHTpUiQmJmLYsGGty2WCwZ49e5CWlobU1FQkJycjLy+vq0Nq17Jly5CQkABFUbzWRtbV1WHy5MlITExEcnIyDh8+fG8HEqp8k/Db3/4WCQkJCA0NxZNPPomjR48C4gFw69YtsXv3bqHruhBCiPfee088/fTTXRuUHy5evCi+9a1viTFjxohdu3Z1dTiGLV++XCxdurT1e6+pqeniiIzRdV1ERESI06dPCyGav3+r1SrcbncXR9a2Q4cOierqahEfHy9OnTrVun3u3Lli9erVQgghjh49Kvr37y8aGxv93r/L5RIAhKL0ESEhD/ndFKWPACBcLpfhY37yySeiV69e4ne/+5348ssvxQ9+8APRt29f8UAkrDsdO3ZMxMfHd3UYhmiaJp5//nlx/Phx8fTTTwdNwrpx44aw2Wx+/ZJ2F7qui8jISHHo0CEhhBCnT58WdrtdeDyeLo6sY3cmrIceesjrP4lRo0aJvXv3+r3floQF9BKKYvW7Ab38TlijR48WS5YsaX2taZqw2+3igRgS3mnjxo2YMmVKV4dhyPr16zFu3DiMGDGiq0PxS0VFBSIjI5GTk4ORI0di/Pjx2L9/f1eHZYiiKNi+fTsyMzMRHx+Pp556Cnl5eejVq1dXh2bY1atX0dTUhH79+rVuS0hIQFXVvazP0yGE5ndruUup2+32ah6Pp82jNDY24sSJE5g4cWLrtpCQEEycOPHBmMP6ppycHJSXlyM3N7erQ7mrM2fOYOfOnfj5z3/e1aH4TVVVVFZWYujQoTh+/Dh+85vfYPr06fjXv/7V1aHdlaqqeOedd1BYWIjKykrs378f3//+93HlypWuDq1L9OrV63biU6Xbww8/jNjYWISHh7e29v4Gr1y5Ak3T8Oijj3ptf/TRRx+s28usXbsWhYWF2LdvH/r06dPV4dzVkSNH4HQ6kZiYCACora3FggULUFNTgx/+8IddHF3H4uLiEBISgpkzZwIAHA4HBg4ciC+++MLnF7G7KSsrw9dff40JEyYAAEaNGoUBAwbg1KlTSE9P7+LojImKikKPHj1QW1vbWmU5nU6fReBGhIaG4uLFi2hslL/0SAjhc4ZRahmU3wPaILVu3TqRlpYmrl271tWhSAumOSwhhEhPTxe7d+8WQgjxz3/+U0RFRYlLly51cVR3V1tbKx5++GHx1VdfCSGEuHDhgoiIiBCVlZVdHFnH7pzDmj17tteku91ul5p0DzSPxyMsFovP7/qsWbMejEn36upqAUAMGjRIpKSkiJSUFDF69OiuDstvwZawKioqxDPPPCOSk5PF8OHDxaefftrVIRmWn5/fGndycrL4+OOPuzqkdi1YsED0799fWCwWER0dLR577DEhRHPiTU9PF4MHDxZDhw4Vf/nLX7o4UuNGjx4tli5d2vpa0zTRv39/wYWjRNTtbN++HbNnz8aWLVswevRobNiwATt27Hiw5rCIKDhMnz4d//73v5GVlYXa2lqkpqbi888/56U5RBQ8HrhlDUQUvP4/EwaiTHoAPRwAAAAASUVORK5CYII=\" />"
      ]
     },
     "execution_count": 74,
     "metadata": {},
     "output_type": "execute_result"
    }
   ],
   "source": [
    "heatmap(Mapeos[200],c=:black)"
   ]
  },
  {
   "cell_type": "code",
   "execution_count": 75,
   "metadata": {},
   "outputs": [
    {
     "data": {
      "text/html": [
       "<img src=\"data:image/png;base64,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\" />"
      ]
     },
     "execution_count": 75,
     "metadata": {},
     "output_type": "execute_result"
    }
   ],
   "source": [
    "plot(CALOR[2][200])"
   ]
  },
  {
   "cell_type": "code",
   "execution_count": 76,
   "metadata": {},
   "outputs": [
    {
     "data": {
      "text/html": [
       "<img src=\"data:image/png;base64,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\" />"
      ]
     },
     "execution_count": 76,
     "metadata": {},
     "output_type": "execute_result"
    }
   ],
   "source": [
    "heatmap(Mapeos[400],c=:black)"
   ]
  },
  {
   "cell_type": "code",
   "execution_count": 85,
   "metadata": {},
   "outputs": [
    {
     "name": "stderr",
     "output_type": "stream",
     "text": [
      "\u001b[1m\u001b[36mINFO: \u001b[39m\u001b[22m\u001b[36mSaved animation to /Users/jonathanlozano/Fisica-Computacional-Lozano-Mayo/Calor.gif\n",
      "\u001b[39m"
     ]
    },
    {
     "data": {
      "text/html": [
       "<img src=\"Calor.gif?0.485575373795885>\" />"
      ],
      "text/plain": [
       "Plots.AnimatedGif(\"/Users/jonathanlozano/Fisica-Computacional-Lozano-Mayo/Calor.gif\")"
      ]
     },
     "execution_count": 85,
     "metadata": {},
     "output_type": "execute_result"
    }
   ],
   "source": [
    "rango=1:50:6000\n",
    "anim= @animate for i=rango\n",
    "\n",
    "  plot(CALOR[2][i]) \n",
    "end\n",
    "gif(anim,\"/Users/jonathanlozano/Fisica-Computacional-Lozano-Mayo/Calor.gif\",fps=2)"
   ]
  },
  {
   "cell_type": "code",
   "execution_count": null,
   "metadata": {},
   "outputs": [],
   "source": []
  },
  {
   "cell_type": "code",
   "execution_count": null,
   "metadata": {
    "scrolled": true
   },
   "outputs": [],
   "source": [
    "\n"
   ]
  },
  {
   "cell_type": "code",
   "execution_count": null,
   "metadata": {},
   "outputs": [],
   "source": []
  },
  {
   "cell_type": "code",
   "execution_count": null,
   "metadata": {},
   "outputs": [],
   "source": []
  },
  {
   "cell_type": "code",
   "execution_count": null,
   "metadata": {},
   "outputs": [],
   "source": []
  },
  {
   "cell_type": "code",
   "execution_count": null,
   "metadata": {},
   "outputs": [],
   "source": []
  },
  {
   "cell_type": "code",
   "execution_count": null,
   "metadata": {},
   "outputs": [],
   "source": []
  },
  {
   "cell_type": "code",
   "execution_count": null,
   "metadata": {
    "collapsed": true
   },
   "outputs": [],
   "source": []
  },
  {
   "cell_type": "code",
   "execution_count": null,
   "metadata": {
    "collapsed": true
   },
   "outputs": [],
   "source": []
  },
  {
   "cell_type": "code",
   "execution_count": null,
   "metadata": {
    "collapsed": true
   },
   "outputs": [],
   "source": []
  }
 ],
 "metadata": {
  "kernelspec": {
   "display_name": "Julia 0.6.0",
   "language": "julia",
   "name": "julia-0.6"
  },
  "language_info": {
   "file_extension": ".jl",
   "mimetype": "application/julia",
   "name": "julia",
   "version": "0.6.0"
  }
 },
 "nbformat": 4,
 "nbformat_minor": 2
}
