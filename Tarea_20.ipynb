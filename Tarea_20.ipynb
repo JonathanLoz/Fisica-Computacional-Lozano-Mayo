{
 "cells": [
  {
   "cell_type": "markdown",
   "metadata": {},
   "source": [
    "## Formación del sistema de ecuaciones\n",
    "\n",
    "Como recuerda, su tarea básicamente consistió en encontrar el sistema de ecuaciones proveniente de la discretización de una ecuación de Laplace, con problemas a la frontera de Dirichlet y von Neumann. El siguiente ejemplo es lo mismo, pero en esta ocasión para un sistema bidimensional. \n",
    "\n",
    "### Ejemplo \n",
    "\n",
    "Para una malla de 5 por 6 resolver la ecuación de Laplace utilizando las condiciones  a la frontera siguiente: en la parte superior, toma los valores\n",
    "$\\{0, 70.7107, 100., 70.7107, 0\\}$ y en el resto de bordes es cero. El sistema\n",
    "de ecuaciones es el siguiente\n",
    "\n",
    "\n",
    "\\begin{align*}\n",
    "-4 f_{2,2}+f_{2,3}+f_{3,2}=0,\\\\f_{2,2}-4 f_{2,3}+f_{2,4}+f_{3,3}=0,\\\\f_{2,3}-4 f_{2,4}+f_{2,5}+f_{3,4}=0,\\\\f_{2,4}-4\n",
    "   f_{2,5}+f_{2,6}+f_{3,5}=0,\\\\f_{2,5}-4 f_{2,6}+f_{3,6}+70.7107=0,\\\\f_{2,2}-4 f_{3,2}+f_{3,3}+f_{4,2}=0,\\\\f_{2,3}+f_{3,2}-4\n",
    "   f_{3,3}+f_{3,4}+f_{4,3}=0,\\\\f_{2,4}+f_{3,3}-4 f_{3,4}+f_{3,5}+f_{4,4}=0,\\\\f_{2,5}+f_{3,4}-4 f_{3,5}+f_{3,6}+f_{4,5}=0,\\\\f_{2,6}+f_{3,5}-4\n",
    "   f_{3,6}+f_{4,6}+100.=0,\\\\f_{3,2}-4 f_{4,2}+f_{4,3}=0,\\\\f_{3,3}+f_{4,2}-4 f_{4,3}+f_{4,4}=0,\\\\f_{3,4}+f_{4,3}-4 f_{4,4}+f_{4,5}=0,\\\\f_{3,5}+f_{4,4}-4\n",
    "   f_{4,5}+f_{4,6}=0,\\\\f_{3,6}+f_{4,5}-4 f_{4,6}+70.7107=0.\n",
    "\\end{align*}\n",
    "\n",
    "El sistema de ecuaciones resultante es $A \\vec f +\\vec b= \\vec 0$ con $A$ igual a la siguiente matriz\n",
    "\n",
    "$$\n",
    "\\left(\n",
    "\\begin{array}{ccccccccccccccc}\n",
    " -4. & 1. & 0 & 0 & 0 & 1. & 0 & 0 & 0 & 0 & 0 & 0 & 0 & 0 & 0 \\\\\n",
    " 1. & -4. & 1. & 0 & 0 & 0 & 1. & 0 & 0 & 0 & 0 & 0 & 0 & 0 & 0 \\\\\n",
    " 0 & 1. & -4. & 1. & 0 & 0 & 0 & 1. & 0 & 0 & 0 & 0 & 0 & 0 & 0 \\\\\n",
    " 0 & 0 & 1. & -4. & 1. & 0 & 0 & 0 & 1. & 0 & 0 & 0 & 0 & 0 & 0 \\\\\n",
    " 0 & 0 & 0 & 1. & -4. & 0 & 0 & 0 & 0 & 1. & 0 & 0 & 0 & 0 & 0 \\\\\n",
    " 1. & 0 & 0 & 0 & 0 & -4. & 1. & 0 & 0 & 0 & 1. & 0 & 0 & 0 & 0 \\\\\n",
    " 0 & 1. & 0 & 0 & 0 & 1. & -4. & 1. & 0 & 0 & 0 & 1. & 0 & 0 & 0 \\\\\n",
    " 0 & 0 & 1. & 0 & 0 & 0 & 1. & -4. & 1. & 0 & 0 & 0 & 1. & 0 & 0 \\\\\n",
    " 0 & 0 & 0 & 1. & 0 & 0 & 0 & 1. & -4. & 1. & 0 & 0 & 0 & 1. & 0 \\\\\n",
    " 0 & 0 & 0 & 0 & 1. & 0 & 0 & 0 & 1. & -4. & 0 & 0 & 0 & 0 & 1. \\\\\n",
    " 0 & 0 & 0 & 0 & 0 & 1. & 0 & 0 & 0 & 0 & -4. & 1. & 0 & 0 & 0 \\\\\n",
    " 0 & 0 & 0 & 0 & 0 & 0 & 1. & 0 & 0 & 0 & 1. & -4. & 1. & 0 & 0 \\\\\n",
    " 0 & 0 & 0 & 0 & 0 & 0 & 0 & 1. & 0 & 0 & 0 & 1. & -4. & 1. & 0 \\\\\n",
    " 0 & 0 & 0 & 0 & 0 & 0 & 0 & 0 & 1. & 0 & 0 & 0 & 1. & -4. & 1. \\\\\n",
    " 0 & 0 & 0 & 0 & 0 & 0 & 0 & 0 & 0 & 1. & 0 & 0 & 0 & 1. & -4. \\\\\n",
    "\\end{array}\n",
    "\\right)\n",
    "$$\n",
    "y $b$ de la forma\n",
    "\n",
    "$$\n",
    "(0.,0.,0.,0.,70.7107,0.,0.,0.,0.,100.,0.,0.,0.,0.,70.7107)^T.\n",
    "$$\n",
    "\n",
    "La solución a este sistema es $\\vec f=-A^{-1}\\vec b$.\n",
    "\n",
    "\n",
    "__Tarea 20: Ejercicio 1 (Jueves 9 de Noviembre):__ Crear una rutina que construya $A$ y $\\vec b$ para este sistema. Resuelvalo utilizando la función `inv` y grafique $\\vec f$ utilizando la funcion `pcolormesh`. Recuerde que aqui $\\vec f$ es un vector, para volverlo de nuevo una matriz con entradas $f_{i,j}$ pueden usar la función `reshape`.\n",
    "\n",
    "\n",
    "\n",
    "tenemos \n",
    "$$\\nabla^2=\\frac{f_{i+1,j}+f_{i-1,j}-2f_{i,j}}{h_x^2}+\\frac{f_{i,j+1}+f_{i,j-1}-2f_{i,j}}{h_y^2}=0\n",
    "$$\n",
    "\n",
    "asumiré que los dominios son tales que $h_x=h_y$ y entonces tenemos \n",
    "\n",
    "$$\\nabla^2=f_{i+1,j}+f_{i-1,j}+f_{i,j+1}+f_{i,j-1}-4f_{i,j}$$"
   ]
  },
  {
   "cell_type": "code",
   "execution_count": 6,
   "metadata": {},
   "outputs": [],
   "source": [
    "using Plots\n",
    "using SymPy"
   ]
  },
  {
   "cell_type": "markdown",
   "metadata": {},
   "source": [
    "__ Primero defino la malla donde vamos a trabajar__"
   ]
  },
  {
   "cell_type": "code",
   "execution_count": 7,
   "metadata": {},
   "outputs": [
    {
     "data": {
      "text/latex": [
       "\\begin{bmatrix}0&70.7107&100.0&70.7107&0\\\\0&f_{1}&f_{5}&f_{9}&0\\\\0&f_{2}&f_{6}&f_{10}&0\\\\0&f_{3}&f_{7}&f_{11}&0\\\\0&f_{4}&f_{8}&f_{12}&0\\\\0&0&0&0&0\\end{bmatrix}"
      ],
      "text/plain": [
       "6×5 Array{SymPy.Sym,2}:\n",
       " 0  70.7107000000000  100.000000000000  70.7107000000000  0\n",
       " 0               f_1               f_5               f_9  0\n",
       " 0               f_2               f_6              f_10  0\n",
       " 0               f_3               f_7              f_11  0\n",
       " 0               f_4               f_8              f_12  0\n",
       " 0                 0                 0                 0  0"
      ]
     },
     "execution_count": 7,
     "metadata": {},
     "output_type": "execute_result"
    },
    {
     "name": "stderr",
     "output_type": "stream",
     "text": [
      "WARNING: Compat.UTF8String is deprecated, use String instead.\n",
      "  likely near /Users/jonathanlozano/.julia/v0.6/IJulia/src/kernel.jl:31\n",
      "WARNING: Compat.UTF8String is deprecated, use String instead.\n",
      "  likely near /Users/jonathanlozano/.julia/v0.6/IJulia/src/kernel.jl:31\n",
      "WARNING: Compat.UTF8String is deprecated, use String instead.\n",
      "  likely near /Users/jonathanlozano/.julia/v0.6/IJulia/src/kernel.jl:31\n",
      "in jprint at /Users/jonathanlozano/.julia/v0.6/SymPy/src/display.jl\n"
     ]
    }
   ],
   "source": [
    "f=[0 70.7107 100.0 70.7107  0  ; 0 Sym(\"f_1\") Sym(\"f_5\") Sym(\"f_9\") 0  ; 0 Sym(\"f_2\") Sym(\"f_6\") Sym(\"f_10\") 0;0 Sym(\"f_3\") Sym(\"f_7\") Sym(\"f_11\") 0 ;0 Sym(\"f_4\") Sym(\"f_8\") Sym(\"f_12\") 0 ;0 0 0 0 0]"
   ]
  },
  {
   "cell_type": "markdown",
   "metadata": {},
   "source": [
    "__ Ahora uso mi función que reduce un par de indices i,j a uno k.__\n",
    "\n",
    "__ Luego implemento una rutina que calcula el sistema de ecuaciones __"
   ]
  },
  {
   "cell_type": "code",
   "execution_count": 11,
   "metadata": {},
   "outputs": [],
   "source": [
    "Mvar=[]\n",
    "M=[]\n",
    "K=[]\n",
    "b=[]\n",
    "f_1,f_2,f_3,f_4,f_5,f_6,f_7,f_8,f_9,f_10,f_11,f_12=Sym(\"f_1,f_2,f_3,f_4,f_5,f_6,f_7,f_8,f_9,f_10,f_11,f_12\")\n",
    "function phi(i,j,n) #n es la dimension de los renglones\n",
    "k=i+n*(j-1)\n",
    "end    \n",
    "\n",
    "for i in 2:5\n",
    "        for j in 2:4\n",
    "            \n",
    "        push!(K,phi(i,j,6))\n",
    "        end\n",
    "    end                  #convertiré los puntos i,j en un sólo índice\n",
    "    \n",
    "for k in sort(K)                         #aquí se crea el sistema de ecuaciones\n",
    "    d=f[k+6]+f[k+1]-4f[k]+f[k-1]+f[k-6]\n",
    "     push!(Mvar,d)\n",
    "end\n",
    "#aquí definimos\n",
    "for i in 1:12                         \n",
    "    bb=Mvar[i](f_1=>0,f_2=>0,f_3=>0,f_4=>0,f_5=>0,f_6=>0,f_7=>0,f_8=>0,f_9=>0,f_10=>0,f_11=>0,f_12=>0)\n",
    "    \n",
    "     push!(b,bb)\n",
    "end"
   ]
  },
  {
   "cell_type": "code",
   "execution_count": 12,
   "metadata": {},
   "outputs": [
    {
     "data": {
      "text/plain": [
       "12-element Array{Any,1}:\n",
       "    -4*f_1 + f_2 + f_5 + 70.7107\n",
       "         f_1 - 4*f_2 + f_3 + f_6\n",
       "         f_2 - 4*f_3 + f_4 + f_7\n",
       "               f_3 - 4*f_4 + f_8\n",
       " f_1 - 4*f_5 + f_6 + f_9 + 100.0\n",
       "  f_10 + f_2 + f_5 - 4*f_6 + f_7\n",
       "  f_11 + f_3 + f_6 - 4*f_7 + f_8\n",
       "        f_12 + f_4 + f_7 - 4*f_8\n",
       "    f_10 + f_5 - 4*f_9 + 70.7107\n",
       "      -4*f_10 + f_11 + f_6 + f_9\n",
       "      f_10 - 4*f_11 + f_12 + f_7\n",
       "             f_11 - 4*f_12 + f_8"
      ]
     },
     "execution_count": 12,
     "metadata": {},
     "output_type": "execute_result"
    }
   ],
   "source": [
    "Mvar"
   ]
  },
  {
   "cell_type": "code",
   "execution_count": 13,
   "metadata": {},
   "outputs": [
    {
     "data": {
      "text/plain": [
       "12-element Array{Any,1}:\n",
       " 70.7107000000000\n",
       "                0\n",
       "                0\n",
       "                0\n",
       " 100.000000000000\n",
       "                0\n",
       "                0\n",
       "                0\n",
       " 70.7107000000000\n",
       "                0\n",
       "                0\n",
       "                0"
      ]
     },
     "execution_count": 13,
     "metadata": {},
     "output_type": "execute_result"
    }
   ],
   "source": [
    "b"
   ]
  },
  {
   "cell_type": "markdown",
   "metadata": {},
   "source": [
    "__ Para facilitar la obtencion de la matriz A, creo una función que saque el jacobiano de una funcion vectorial de $R^n \\rightarrow R^m $__"
   ]
  },
  {
   "cell_type": "code",
   "execution_count": 14,
   "metadata": {},
   "outputs": [
    {
     "data": {
      "text/plain": [
       "Jacobiano (generic function with 1 method)"
      ]
     },
     "execution_count": 14,
     "metadata": {},
     "output_type": "execute_result"
    }
   ],
   "source": [
    "function Jacobiano(f,var,n,m)\n",
    "J=zeros(n,m)\n",
    "    \n",
    "    for i in 1:n\n",
    "        for j in 1:m\n",
    "        J[i,j]=diff(f[i],var[j])\n",
    "        end\n",
    "    end\n",
    "    J\n",
    "end"
   ]
  },
  {
   "cell_type": "markdown",
   "metadata": {},
   "source": [
    "__ MATRIZ A__"
   ]
  },
  {
   "cell_type": "code",
   "execution_count": 15,
   "metadata": {
    "scrolled": true
   },
   "outputs": [
    {
     "data": {
      "text/plain": [
       "12×12 Array{Float64,2}:\n",
       " -4.0   1.0   0.0   0.0   1.0   0.0   0.0   0.0   0.0   0.0   0.0   0.0\n",
       "  1.0  -4.0   1.0   0.0   0.0   1.0   0.0   0.0   0.0   0.0   0.0   0.0\n",
       "  0.0   1.0  -4.0   1.0   0.0   0.0   1.0   0.0   0.0   0.0   0.0   0.0\n",
       "  0.0   0.0   1.0  -4.0   0.0   0.0   0.0   1.0   0.0   0.0   0.0   0.0\n",
       "  1.0   0.0   0.0   0.0  -4.0   1.0   0.0   0.0   1.0   0.0   0.0   0.0\n",
       "  0.0   1.0   0.0   0.0   1.0  -4.0   1.0   0.0   0.0   1.0   0.0   0.0\n",
       "  0.0   0.0   1.0   0.0   0.0   1.0  -4.0   1.0   0.0   0.0   1.0   0.0\n",
       "  0.0   0.0   0.0   1.0   0.0   0.0   1.0  -4.0   0.0   0.0   0.0   1.0\n",
       "  0.0   0.0   0.0   0.0   1.0   0.0   0.0   0.0  -4.0   1.0   0.0   0.0\n",
       "  0.0   0.0   0.0   0.0   0.0   1.0   0.0   0.0   1.0  -4.0   1.0   0.0\n",
       "  0.0   0.0   0.0   0.0   0.0   0.0   1.0   0.0   0.0   1.0  -4.0   1.0\n",
       "  0.0   0.0   0.0   0.0   0.0   0.0   0.0   1.0   0.0   0.0   1.0  -4.0"
      ]
     },
     "execution_count": 15,
     "metadata": {},
     "output_type": "execute_result"
    }
   ],
   "source": [
    "var=[f_1,f_2,f_3,f_4,f_5,f_6,f_7,f_8,f_9,f_10,f_11,f_12]\n",
    "A=Jacobiano(Mvar,var,12,12)"
   ]
  },
  {
   "cell_type": "code",
   "execution_count": 16,
   "metadata": {},
   "outputs": [
    {
     "data": {
      "text/plain": [
       "12×12 Array{Float64,2}:\n",
       " -0.299956    -0.100477   -0.0365268  …  -0.0287067  -0.0173881  -0.00767884\n",
       " -0.100477    -0.336483   -0.112941      -0.0494019  -0.0363855  -0.0173881 \n",
       " -0.0365268   -0.112941   -0.336483      -0.0363855  -0.0494019  -0.0287067 \n",
       " -0.0124635   -0.0365268  -0.100477      -0.0173881  -0.0287067  -0.0320139 \n",
       " -0.0993488   -0.0654248  -0.0331667     -0.0654248  -0.0331667  -0.0133273 \n",
       " -0.0654248   -0.132516   -0.0787521  …  -0.132516   -0.0787521  -0.0331667 \n",
       " -0.0331667   -0.0787521  -0.132516      -0.0787521  -0.132516   -0.0654248 \n",
       " -0.0133273   -0.0331667  -0.0654248     -0.0331667  -0.0654248  -0.0993488 \n",
       " -0.0320139   -0.0287067  -0.0173881     -0.100477   -0.0365268  -0.0124635 \n",
       " -0.0287067   -0.0494019  -0.0363855     -0.336483   -0.112941   -0.0365268 \n",
       " -0.0173881   -0.0363855  -0.0494019  …  -0.112941   -0.336483   -0.100477  \n",
       " -0.00767884  -0.0173881  -0.0287067     -0.0365268  -0.100477   -0.299956  "
      ]
     },
     "execution_count": 16,
     "metadata": {},
     "output_type": "execute_result"
    }
   ],
   "source": [
    "#Matriz inversa de A\n",
    "AI=inv(A)"
   ]
  },
  {
   "cell_type": "markdown",
   "metadata": {},
   "source": [
    "__ Solución del sistema de ecuaciones __"
   ]
  },
  {
   "cell_type": "code",
   "execution_count": 41,
   "metadata": {},
   "outputs": [
    {
     "data": {
      "text/plain": [
       "12-element Array{Float64,1}:\n",
       " 33.4087 \n",
       " 15.6772 \n",
       "  7.12903\n",
       "  2.75701\n",
       " 47.2471 \n",
       " 22.1708 \n",
       " 10.082  \n",
       "  3.899  \n",
       " 33.4087 \n",
       " 15.6772 \n",
       "  7.12903\n",
       "  2.75701"
      ]
     },
     "execution_count": 41,
     "metadata": {},
     "output_type": "execute_result"
    }
   ],
   "source": [
    "Sol=Float64.(-AI*b)"
   ]
  },
  {
   "cell_type": "code",
   "execution_count": 42,
   "metadata": {},
   "outputs": [
    {
     "data": {
      "text/plain": [
       "4×3 Array{Float64,2}:\n",
       " 33.4087   47.2471  33.4087 \n",
       " 15.6772   22.1708  15.6772 \n",
       "  7.12903  10.082    7.12903\n",
       "  2.75701   3.899    2.75701"
      ]
     },
     "execution_count": 42,
     "metadata": {},
     "output_type": "execute_result"
    }
   ],
   "source": [
    "Solucionf=reshape(Sol,(4,3))"
   ]
  },
  {
   "cell_type": "code",
   "execution_count": 78,
   "metadata": {},
   "outputs": [
    {
     "data": {
      "text/html": [
       "<img src=\"data:image/png;base64,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\" />"
      ]
     },
     "execution_count": 78,
     "metadata": {},
     "output_type": "execute_result"
    }
   ],
   "source": [
    "x=[\"1\",\"2\",\"3\"]\n",
    "y=[\"1\",\"2\",\"3\",\"4\"]\n",
    "heatmap(x,y,Solucionf,c=:black,aspect_ratio=1)"
   ]
  },
  {
   "cell_type": "markdown",
   "metadata": {},
   "source": [
    "__ Ejercicio 2 (Tarea 20):__ Resolver ecuación de Poisson unidimensional con $\\rho (x)=\\cos(x)$, en el dominio $[0,2 \\pi]$, utilizando una malla con 12 puntos. Aquí nuevamente hay 10 incognitas, sin embargo note que para el método es mas conveniente definir $\\vec f$ incluyendo las condiciones de frontera."
   ]
  },
  {
   "cell_type": "code",
   "execution_count": 90,
   "metadata": {},
   "outputs": [
    {
     "data": {
      "text/latex": [
       "\\begin{bmatrix}0&f_{1}&f_{2}&f_{3}&f_{4}&f_{5}&f_{6}&f_{7}&f_{8}&f_{9}&f_{10}&0\\end{bmatrix}"
      ],
      "text/plain": [
       "1×12 Array{SymPy.Sym,2}:\n",
       " 0  f_1  f_2  f_3  f_4  f_5  f_6  f_7  f_8  f_9  f_10  0"
      ]
     },
     "execution_count": 90,
     "metadata": {},
     "output_type": "execute_result"
    }
   ],
   "source": [
    "f=[0 f_1 f_2 f_3 f_4 f_5 f_6 f_7 f_8 f_9 f_10 0]"
   ]
  },
  {
   "cell_type": "markdown",
   "metadata": {},
   "source": [
    "De manera discreta tendrémos que \n",
    "\n",
    "\n",
    "$$f_{i+1}+f_{i-1}-2f_i-h_x\\rho_i=0$$\n",
    "\n",
    "si queremos una malla de 12 puntos entonces $h_x=\\frac{2\\pi}{11}$"
   ]
  },
  {
   "cell_type": "code",
   "execution_count": 95,
   "metadata": {},
   "outputs": [],
   "source": [
    "h=2*pi/11\n",
    "malla=linspace(0,2pi,12)\n",
    "PM=[]\n",
    "b=[]\n",
    "for i in 2:11\n",
    "    r=f[i+1]+f[i-1]-2f[i]-h*cos(malla[i])\n",
    "    push!(PM,r)\n",
    "end\n",
    "\n",
    "for i in 1:10\n",
    "    bP=PM[i](f_1=>0,f_2=>0,f_3=>0,f_4=>0,f_5=>0,f_6=>0,f_7=>0,f_8=>0,f_9=>0,f_10=>0)\n",
    "    push!(b,bP)\n",
    "end\n"
   ]
  },
  {
   "cell_type": "code",
   "execution_count": 92,
   "metadata": {},
   "outputs": [
    {
     "data": {
      "text/plain": [
       "10-element Array{Any,1}:\n",
       "       -2*f_1 + f_2 - 0.480522894281618\n",
       "  f_1 - 2*f_2 + f_3 - 0.237284500552297\n",
       "  f_2 - 2*f_3 + f_4 + 0.081290045530213\n",
       "  f_3 - 2*f_4 + f_5 + 0.374055576524896\n",
       "  f_4 - 2*f_5 + f_6 + 0.548061104923333\n",
       "  f_5 - 2*f_6 + f_7 + 0.548061104923333\n",
       "  f_6 - 2*f_7 + f_8 + 0.374055576524896\n",
       " f_7 - 2*f_8 + f_9 + 0.0812900455302132\n",
       " f_10 + f_8 - 2*f_9 - 0.237284500552297\n",
       "      -2*f_10 + f_9 - 0.480522894281618"
      ]
     },
     "execution_count": 92,
     "metadata": {},
     "output_type": "execute_result"
    }
   ],
   "source": [
    "PM"
   ]
  },
  {
   "cell_type": "code",
   "execution_count": 94,
   "metadata": {},
   "outputs": [
    {
     "data": {
      "text/plain": [
       "10×10 Array{Float64,2}:\n",
       " -2.0   1.0   0.0   0.0   0.0   0.0   0.0   0.0   0.0   0.0\n",
       "  1.0  -2.0   1.0   0.0   0.0   0.0   0.0   0.0   0.0   0.0\n",
       "  0.0   1.0  -2.0   1.0   0.0   0.0   0.0   0.0   0.0   0.0\n",
       "  0.0   0.0   1.0  -2.0   1.0   0.0   0.0   0.0   0.0   0.0\n",
       "  0.0   0.0   0.0   1.0  -2.0   1.0   0.0   0.0   0.0   0.0\n",
       "  0.0   0.0   0.0   0.0   1.0  -2.0   1.0   0.0   0.0   0.0\n",
       "  0.0   0.0   0.0   0.0   0.0   1.0  -2.0   1.0   0.0   0.0\n",
       "  0.0   0.0   0.0   0.0   0.0   0.0   1.0  -2.0   1.0   0.0\n",
       "  0.0   0.0   0.0   0.0   0.0   0.0   0.0   1.0  -2.0   1.0\n",
       "  0.0   0.0   0.0   0.0   0.0   0.0   0.0   0.0   1.0  -2.0"
      ]
     },
     "execution_count": 94,
     "metadata": {},
     "output_type": "execute_result"
    }
   ],
   "source": [
    "varP=[f_1,f_2,f_3,f_4,f_5,f_6,f_7,f_8,f_9,f_10]\n",
    "A=Jacobiano(PM,varP,10,10)"
   ]
  },
  {
   "cell_type": "code",
   "execution_count": 96,
   "metadata": {},
   "outputs": [
    {
     "data": {
      "text/plain": [
       "10-element Array{Any,1}:\n",
       " -0.480522894281618\n",
       " -0.237284500552297\n",
       " 0.0812900455302130\n",
       "  0.374055576524896\n",
       "  0.548061104923333\n",
       "  0.548061104923333\n",
       "  0.374055576524896\n",
       " 0.0812900455302132\n",
       " -0.237284500552297\n",
       " -0.480522894281618"
      ]
     },
     "execution_count": 96,
     "metadata": {},
     "output_type": "execute_result"
    }
   ],
   "source": [
    "b"
   ]
  },
  {
   "cell_type": "code",
   "execution_count": 97,
   "metadata": {},
   "outputs": [
    {
     "data": {
      "text/plain": [
       "10×10 Array{Float64,2}:\n",
       " -0.909091   -0.818182  -0.727273  …  -0.272727  -0.181818  -0.0909091\n",
       " -0.818182   -1.63636   -1.45455      -0.545455  -0.363636  -0.181818 \n",
       " -0.727273   -1.45455   -2.18182      -0.818182  -0.545455  -0.272727 \n",
       " -0.636364   -1.27273   -1.90909      -1.09091   -0.727273  -0.363636 \n",
       " -0.545455   -1.09091   -1.63636      -1.36364   -0.909091  -0.454545 \n",
       " -0.454545   -0.909091  -1.36364   …  -1.63636   -1.09091   -0.545455 \n",
       " -0.363636   -0.727273  -1.09091      -1.90909   -1.27273   -0.636364 \n",
       " -0.272727   -0.545455  -0.818182     -2.18182   -1.45455   -0.727273 \n",
       " -0.181818   -0.363636  -0.545455     -1.45455   -1.63636   -0.818182 \n",
       " -0.0909091  -0.181818  -0.272727     -0.727273  -0.818182  -0.909091 "
      ]
     },
     "execution_count": 97,
     "metadata": {},
     "output_type": "execute_result"
    }
   ],
   "source": [
    "AIP=inv(A)"
   ]
  },
  {
   "cell_type": "code",
   "execution_count": 99,
   "metadata": {},
   "outputs": [
    {
     "data": {
      "text/plain": [
       "10-element Array{Float64,1}:\n",
       " 0.285599\n",
       " 1.05172 \n",
       " 2.05513 \n",
       " 2.97724 \n",
       " 3.52531 \n",
       " 3.52531 \n",
       " 2.97724 \n",
       " 2.05513 \n",
       " 1.05172 \n",
       " 0.285599"
      ]
     },
     "execution_count": 99,
     "metadata": {},
     "output_type": "execute_result"
    }
   ],
   "source": [
    "Sol=Float64.(-AIP*b)"
   ]
  },
  {
   "cell_type": "code",
   "execution_count": 118,
   "metadata": {},
   "outputs": [
    {
     "data": {
      "text/plain": [
       "1×10 Array{Float64,2}:\n",
       " 0.285599  1.05172  2.05513  2.97724  …  2.97724  2.05513  1.05172  0.285599"
      ]
     },
     "execution_count": 118,
     "metadata": {},
     "output_type": "execute_result"
    }
   ],
   "source": [
    "Poisson=reshape(Sol,(1,10))\n",
    "\n",
    "P=zeros(3,10)\n",
    "P[1,:]=Poisson"
   ]
  },
  {
   "cell_type": "markdown",
   "metadata": {},
   "source": [
    "__ Aquí no era necesario hacer el mapeo, sin embargo podemos definir una matriz con el primer reglon igual a la solucion de f y todos las demás entradas iguales a 0 para poder visualizar la barra de valores de f en la malla__"
   ]
  },
  {
   "cell_type": "code",
   "execution_count": 119,
   "metadata": {},
   "outputs": [
    {
     "data": {
      "text/html": [
       "<img src=\"data:image/png;base64,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\" />"
      ]
     },
     "execution_count": 119,
     "metadata": {},
     "output_type": "execute_result"
    }
   ],
   "source": [
    "heatmap(P,aspect_ratio=1)   "
   ]
  },
  {
   "cell_type": "code",
   "execution_count": null,
   "metadata": {},
   "outputs": [],
   "source": []
  },
  {
   "cell_type": "code",
   "execution_count": 115,
   "metadata": {},
   "outputs": [
    {
     "data": {
      "text/plain": [
       "5×10 Array{Float64,2}:\n",
       " 0.285599  1.05172  2.05513  2.97724  …  2.97724  2.05513  1.05172  0.285599\n",
       " 0.0       0.0      0.0      0.0         0.0      0.0      0.0      0.0     \n",
       " 0.0       0.0      0.0      0.0         0.0      0.0      0.0      0.0     \n",
       " 0.0       0.0      0.0      0.0         0.0      0.0      0.0      0.0     \n",
       " 0.0       0.0      0.0      0.0         0.0      0.0      0.0      0.0     "
      ]
     },
     "execution_count": 115,
     "metadata": {},
     "output_type": "execute_result"
    }
   ],
   "source": []
  },
  {
   "cell_type": "code",
   "execution_count": null,
   "metadata": {
    "collapsed": true
   },
   "outputs": [],
   "source": []
  }
 ],
 "metadata": {
  "kernelspec": {
   "display_name": "Julia 0.6.0",
   "language": "julia",
   "name": "julia-0.6"
  },
  "language_info": {
   "file_extension": ".jl",
   "mimetype": "application/julia",
   "name": "julia",
   "version": "0.6.0"
  }
 },
 "nbformat": 4,
 "nbformat_minor": 2
}
