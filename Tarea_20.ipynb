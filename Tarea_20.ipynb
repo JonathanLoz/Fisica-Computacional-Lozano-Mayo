{
 "cells": [
  {
   "cell_type": "markdown",
   "metadata": {},
   "source": [
    "## Formación del sistema de ecuaciones\n",
    "\n",
    "Como recuerda, su tarea básicamente consistió en encontrar el sistema de ecuaciones proveniente de la discretización de una ecuación de Laplace, con problemas a la frontera de Dirichlet y von Neumann. El siguiente ejemplo es lo mismo, pero en esta ocasión para un sistema bidimensional. \n",
    "\n",
    "### Ejemplo \n",
    "\n",
    "Para una malla de 5 por 6 resolver la ecuación de Laplace utilizando las condiciones  a la frontera siguiente: en la parte superior, toma los valores\n",
    "$\\{0, 70.7107, 100., 70.7107, 0\\}$ y en el resto de bordes es cero. El sistema\n",
    "de ecuaciones es el siguiente\n",
    "\n",
    "\n",
    "\\begin{align*}\n",
    "-4 f_{2,2}+f_{2,3}+f_{3,2}=0,\\\\f_{2,2}-4 f_{2,3}+f_{2,4}+f_{3,3}=0,\\\\f_{2,3}-4 f_{2,4}+f_{2,5}+f_{3,4}=0,\\\\f_{2,4}-4\n",
    "   f_{2,5}+f_{2,6}+f_{3,5}=0,\\\\f_{2,5}-4 f_{2,6}+f_{3,6}+70.7107=0,\\\\f_{2,2}-4 f_{3,2}+f_{3,3}+f_{4,2}=0,\\\\f_{2,3}+f_{3,2}-4\n",
    "   f_{3,3}+f_{3,4}+f_{4,3}=0,\\\\f_{2,4}+f_{3,3}-4 f_{3,4}+f_{3,5}+f_{4,4}=0,\\\\f_{2,5}+f_{3,4}-4 f_{3,5}+f_{3,6}+f_{4,5}=0,\\\\f_{2,6}+f_{3,5}-4\n",
    "   f_{3,6}+f_{4,6}+100.=0,\\\\f_{3,2}-4 f_{4,2}+f_{4,3}=0,\\\\f_{3,3}+f_{4,2}-4 f_{4,3}+f_{4,4}=0,\\\\f_{3,4}+f_{4,3}-4 f_{4,4}+f_{4,5}=0,\\\\f_{3,5}+f_{4,4}-4\n",
    "   f_{4,5}+f_{4,6}=0,\\\\f_{3,6}+f_{4,5}-4 f_{4,6}+70.7107=0.\n",
    "\\end{align*}\n",
    "\n",
    "El sistema de ecuaciones resultante es $A \\vec f +\\vec b= \\vec 0$ con $A$ igual a la siguiente matriz\n",
    "\n",
    "$$\n",
    "\\left(\n",
    "\\begin{array}{ccccccccccccccc}\n",
    " -4. & 1. & 0 & 0 & 0 & 1. & 0 & 0 & 0 & 0 & 0 & 0 & 0 & 0 & 0 \\\\\n",
    " 1. & -4. & 1. & 0 & 0 & 0 & 1. & 0 & 0 & 0 & 0 & 0 & 0 & 0 & 0 \\\\\n",
    " 0 & 1. & -4. & 1. & 0 & 0 & 0 & 1. & 0 & 0 & 0 & 0 & 0 & 0 & 0 \\\\\n",
    " 0 & 0 & 1. & -4. & 1. & 0 & 0 & 0 & 1. & 0 & 0 & 0 & 0 & 0 & 0 \\\\\n",
    " 0 & 0 & 0 & 1. & -4. & 0 & 0 & 0 & 0 & 1. & 0 & 0 & 0 & 0 & 0 \\\\\n",
    " 1. & 0 & 0 & 0 & 0 & -4. & 1. & 0 & 0 & 0 & 1. & 0 & 0 & 0 & 0 \\\\\n",
    " 0 & 1. & 0 & 0 & 0 & 1. & -4. & 1. & 0 & 0 & 0 & 1. & 0 & 0 & 0 \\\\\n",
    " 0 & 0 & 1. & 0 & 0 & 0 & 1. & -4. & 1. & 0 & 0 & 0 & 1. & 0 & 0 \\\\\n",
    " 0 & 0 & 0 & 1. & 0 & 0 & 0 & 1. & -4. & 1. & 0 & 0 & 0 & 1. & 0 \\\\\n",
    " 0 & 0 & 0 & 0 & 1. & 0 & 0 & 0 & 1. & -4. & 0 & 0 & 0 & 0 & 1. \\\\\n",
    " 0 & 0 & 0 & 0 & 0 & 1. & 0 & 0 & 0 & 0 & -4. & 1. & 0 & 0 & 0 \\\\\n",
    " 0 & 0 & 0 & 0 & 0 & 0 & 1. & 0 & 0 & 0 & 1. & -4. & 1. & 0 & 0 \\\\\n",
    " 0 & 0 & 0 & 0 & 0 & 0 & 0 & 1. & 0 & 0 & 0 & 1. & -4. & 1. & 0 \\\\\n",
    " 0 & 0 & 0 & 0 & 0 & 0 & 0 & 0 & 1. & 0 & 0 & 0 & 1. & -4. & 1. \\\\\n",
    " 0 & 0 & 0 & 0 & 0 & 0 & 0 & 0 & 0 & 1. & 0 & 0 & 0 & 1. & -4. \\\\\n",
    "\\end{array}\n",
    "\\right)\n",
    "$$\n",
    "y $b$ de la forma\n",
    "\n",
    "$$\n",
    "(0.,0.,0.,0.,70.7107,0.,0.,0.,0.,100.,0.,0.,0.,0.,70.7107)^T.\n",
    "$$\n",
    "\n",
    "La solución a este sistema es $\\vec f=-A^{-1}\\vec b$.\n",
    "\n",
    "\n",
    "__Tarea 20: Ejercicio 1 (Jueves 9 de Noviembre):__ Crear una rutina que construya $A$ y $\\vec b$ para este sistema. Resuelvalo utilizando la función `inv` y grafique $\\vec f$ utilizando la funcion `pcolormesh`. Recuerde que aqui $\\vec f$ es un vector, para volverlo de nuevo una matriz con entradas $f_{i,j}$ pueden usar la función `reshape`.\n",
    "\n",
    "\n",
    "\n",
    "tenemos \n",
    "$$\\nabla^2=\\frac{f_{i+1,j}+f_{i-1,j}-2f_{i,j}}{h_x^2}+\\frac{f_{i,j+1}+f_{i,j-1}-2f_{i,j}}{h_y^2}=0\n",
    "$$\n",
    "\n",
    "asumiré que los dominios son tales que $h_x=h_y$ y entonces tenemos \n",
    "\n",
    "$$\\nabla^2=f_{i+1,j}+f_{i-1,j}+f_{i,j+1}+f_{i,j-1}-4f_{i,j}$$"
   ]
  },
  {
   "cell_type": "code",
   "execution_count": 6,
   "metadata": {},
   "outputs": [],
   "source": [
    "using Plots\n",
    "using SymPy"
   ]
  },
  {
   "cell_type": "markdown",
   "metadata": {},
   "source": [
    "__ Primero defino la malla donde vamos a trabajar__"
   ]
  },
  {
   "cell_type": "code",
   "execution_count": 7,
   "metadata": {},
   "outputs": [
    {
     "data": {
      "text/latex": [
       "\\begin{bmatrix}0&70.7107&100.0&70.7107&0\\\\0&f_{1}&f_{5}&f_{9}&0\\\\0&f_{2}&f_{6}&f_{10}&0\\\\0&f_{3}&f_{7}&f_{11}&0\\\\0&f_{4}&f_{8}&f_{12}&0\\\\0&0&0&0&0\\end{bmatrix}"
      ],
      "text/plain": [
       "6×5 Array{SymPy.Sym,2}:\n",
       " 0  70.7107000000000  100.000000000000  70.7107000000000  0\n",
       " 0               f_1               f_5               f_9  0\n",
       " 0               f_2               f_6              f_10  0\n",
       " 0               f_3               f_7              f_11  0\n",
       " 0               f_4               f_8              f_12  0\n",
       " 0                 0                 0                 0  0"
      ]
     },
     "execution_count": 7,
     "metadata": {},
     "output_type": "execute_result"
    },
    {
     "name": "stderr",
     "output_type": "stream",
     "text": [
      "WARNING: Compat.UTF8String is deprecated, use String instead.\n",
      "  likely near /Users/jonathanlozano/.julia/v0.6/IJulia/src/kernel.jl:31\n",
      "WARNING: Compat.UTF8String is deprecated, use String instead.\n",
      "  likely near /Users/jonathanlozano/.julia/v0.6/IJulia/src/kernel.jl:31\n",
      "WARNING: Compat.UTF8String is deprecated, use String instead.\n",
      "  likely near /Users/jonathanlozano/.julia/v0.6/IJulia/src/kernel.jl:31\n",
      "in jprint at /Users/jonathanlozano/.julia/v0.6/SymPy/src/display.jl\n"
     ]
    }
   ],
   "source": [
    "f=[0 70.7107 100.0 70.7107  0  ; 0 Sym(\"f_1\") Sym(\"f_5\") Sym(\"f_9\") 0  ; 0 Sym(\"f_2\") Sym(\"f_6\") Sym(\"f_10\") 0;0 Sym(\"f_3\") Sym(\"f_7\") Sym(\"f_11\") 0 ;0 Sym(\"f_4\") Sym(\"f_8\") Sym(\"f_12\") 0 ;0 0 0 0 0]"
   ]
  },
  {
   "cell_type": "markdown",
   "metadata": {},
   "source": [
    "__ Ahora uso mi función que reduce un par de indices i,j a uno k.__\n",
    "\n",
    "__ Luego implemento una rutina que calcula el sistema de ecuaciones __"
   ]
  },
  {
   "cell_type": "code",
   "execution_count": 11,
   "metadata": {},
   "outputs": [],
   "source": [
    "Mvar=[]\n",
    "M=[]\n",
    "K=[]\n",
    "b=[]\n",
    "f_1,f_2,f_3,f_4,f_5,f_6,f_7,f_8,f_9,f_10,f_11,f_12=Sym(\"f_1,f_2,f_3,f_4,f_5,f_6,f_7,f_8,f_9,f_10,f_11,f_12\")\n",
    "function phi(i,j,n) #n es la dimension de los renglones\n",
    "k=i+n*(j-1)\n",
    "end    \n",
    "\n",
    "for i in 2:5\n",
    "        for j in 2:4\n",
    "            \n",
    "        push!(K,phi(i,j,6))\n",
    "        end\n",
    "    end                  #convertiré los puntos i,j en un sólo índice\n",
    "    \n",
    "for k in sort(K)                         #aquí se crea el sistema de ecuaciones\n",
    "    d=f[k+6]+f[k+1]-4f[k]+f[k-1]+f[k-6]\n",
    "     push!(Mvar,d)\n",
    "end\n",
    "#aquí definimos\n",
    "for i in 1:12                         \n",
    "    bb=Mvar[i](f_1=>0,f_2=>0,f_3=>0,f_4=>0,f_5=>0,f_6=>0,f_7=>0,f_8=>0,f_9=>0,f_10=>0,f_11=>0,f_12=>0)\n",
    "    \n",
    "     push!(b,bb)\n",
    "end"
   ]
  },
  {
   "cell_type": "code",
   "execution_count": 12,
   "metadata": {},
   "outputs": [
    {
     "data": {
      "text/plain": [
       "12-element Array{Any,1}:\n",
       "    -4*f_1 + f_2 + f_5 + 70.7107\n",
       "         f_1 - 4*f_2 + f_3 + f_6\n",
       "         f_2 - 4*f_3 + f_4 + f_7\n",
       "               f_3 - 4*f_4 + f_8\n",
       " f_1 - 4*f_5 + f_6 + f_9 + 100.0\n",
       "  f_10 + f_2 + f_5 - 4*f_6 + f_7\n",
       "  f_11 + f_3 + f_6 - 4*f_7 + f_8\n",
       "        f_12 + f_4 + f_7 - 4*f_8\n",
       "    f_10 + f_5 - 4*f_9 + 70.7107\n",
       "      -4*f_10 + f_11 + f_6 + f_9\n",
       "      f_10 - 4*f_11 + f_12 + f_7\n",
       "             f_11 - 4*f_12 + f_8"
      ]
     },
     "execution_count": 12,
     "metadata": {},
     "output_type": "execute_result"
    }
   ],
   "source": [
    "Mvar"
   ]
  },
  {
   "cell_type": "code",
   "execution_count": 13,
   "metadata": {},
   "outputs": [
    {
     "data": {
      "text/plain": [
       "12-element Array{Any,1}:\n",
       " 70.7107000000000\n",
       "                0\n",
       "                0\n",
       "                0\n",
       " 100.000000000000\n",
       "                0\n",
       "                0\n",
       "                0\n",
       " 70.7107000000000\n",
       "                0\n",
       "                0\n",
       "                0"
      ]
     },
     "execution_count": 13,
     "metadata": {},
     "output_type": "execute_result"
    }
   ],
   "source": [
    "b"
   ]
  },
  {
   "cell_type": "markdown",
   "metadata": {},
   "source": [
    "__ Para facilitar la obtencion de la matriz A, creo una función que saque el jacobiano de una funcion vectorial de $R^n \\rightarrow R^m $__"
   ]
  },
  {
   "cell_type": "code",
   "execution_count": 14,
   "metadata": {},
   "outputs": [
    {
     "data": {
      "text/plain": [
       "Jacobiano (generic function with 1 method)"
      ]
     },
     "execution_count": 14,
     "metadata": {},
     "output_type": "execute_result"
    }
   ],
   "source": [
    "function Jacobiano(f,var,n,m)\n",
    "J=zeros(n,m)\n",
    "    \n",
    "    for i in 1:n\n",
    "        for j in 1:m\n",
    "        J[i,j]=diff(f[i],var[j])\n",
    "        end\n",
    "    end\n",
    "    J\n",
    "end"
   ]
  },
  {
   "cell_type": "markdown",
   "metadata": {},
   "source": [
    "__ MATRIZ A__"
   ]
  },
  {
   "cell_type": "code",
   "execution_count": 15,
   "metadata": {
    "scrolled": true
   },
   "outputs": [
    {
     "data": {
      "text/plain": [
       "12×12 Array{Float64,2}:\n",
       " -4.0   1.0   0.0   0.0   1.0   0.0   0.0   0.0   0.0   0.0   0.0   0.0\n",
       "  1.0  -4.0   1.0   0.0   0.0   1.0   0.0   0.0   0.0   0.0   0.0   0.0\n",
       "  0.0   1.0  -4.0   1.0   0.0   0.0   1.0   0.0   0.0   0.0   0.0   0.0\n",
       "  0.0   0.0   1.0  -4.0   0.0   0.0   0.0   1.0   0.0   0.0   0.0   0.0\n",
       "  1.0   0.0   0.0   0.0  -4.0   1.0   0.0   0.0   1.0   0.0   0.0   0.0\n",
       "  0.0   1.0   0.0   0.0   1.0  -4.0   1.0   0.0   0.0   1.0   0.0   0.0\n",
       "  0.0   0.0   1.0   0.0   0.0   1.0  -4.0   1.0   0.0   0.0   1.0   0.0\n",
       "  0.0   0.0   0.0   1.0   0.0   0.0   1.0  -4.0   0.0   0.0   0.0   1.0\n",
       "  0.0   0.0   0.0   0.0   1.0   0.0   0.0   0.0  -4.0   1.0   0.0   0.0\n",
       "  0.0   0.0   0.0   0.0   0.0   1.0   0.0   0.0   1.0  -4.0   1.0   0.0\n",
       "  0.0   0.0   0.0   0.0   0.0   0.0   1.0   0.0   0.0   1.0  -4.0   1.0\n",
       "  0.0   0.0   0.0   0.0   0.0   0.0   0.0   1.0   0.0   0.0   1.0  -4.0"
      ]
     },
     "execution_count": 15,
     "metadata": {},
     "output_type": "execute_result"
    }
   ],
   "source": [
    "var=[f_1,f_2,f_3,f_4,f_5,f_6,f_7,f_8,f_9,f_10,f_11,f_12]\n",
    "A=Jacobiano(Mvar,var,12,12)"
   ]
  },
  {
   "cell_type": "code",
   "execution_count": 16,
   "metadata": {},
   "outputs": [
    {
     "data": {
      "text/plain": [
       "12×12 Array{Float64,2}:\n",
       " -0.299956    -0.100477   -0.0365268  …  -0.0287067  -0.0173881  -0.00767884\n",
       " -0.100477    -0.336483   -0.112941      -0.0494019  -0.0363855  -0.0173881 \n",
       " -0.0365268   -0.112941   -0.336483      -0.0363855  -0.0494019  -0.0287067 \n",
       " -0.0124635   -0.0365268  -0.100477      -0.0173881  -0.0287067  -0.0320139 \n",
       " -0.0993488   -0.0654248  -0.0331667     -0.0654248  -0.0331667  -0.0133273 \n",
       " -0.0654248   -0.132516   -0.0787521  …  -0.132516   -0.0787521  -0.0331667 \n",
       " -0.0331667   -0.0787521  -0.132516      -0.0787521  -0.132516   -0.0654248 \n",
       " -0.0133273   -0.0331667  -0.0654248     -0.0331667  -0.0654248  -0.0993488 \n",
       " -0.0320139   -0.0287067  -0.0173881     -0.100477   -0.0365268  -0.0124635 \n",
       " -0.0287067   -0.0494019  -0.0363855     -0.336483   -0.112941   -0.0365268 \n",
       " -0.0173881   -0.0363855  -0.0494019  …  -0.112941   -0.336483   -0.100477  \n",
       " -0.00767884  -0.0173881  -0.0287067     -0.0365268  -0.100477   -0.299956  "
      ]
     },
     "execution_count": 16,
     "metadata": {},
     "output_type": "execute_result"
    }
   ],
   "source": [
    "#Matriz inversa de A\n",
    "AI=inv(A)"
   ]
  },
  {
   "cell_type": "markdown",
   "metadata": {},
   "source": [
    "__ Solución del sistema de ecuaciones __"
   ]
  },
  {
   "cell_type": "code",
   "execution_count": 41,
   "metadata": {},
   "outputs": [
    {
     "data": {
      "text/plain": [
       "12-element Array{Float64,1}:\n",
       " 33.4087 \n",
       " 15.6772 \n",
       "  7.12903\n",
       "  2.75701\n",
       " 47.2471 \n",
       " 22.1708 \n",
       " 10.082  \n",
       "  3.899  \n",
       " 33.4087 \n",
       " 15.6772 \n",
       "  7.12903\n",
       "  2.75701"
      ]
     },
     "execution_count": 41,
     "metadata": {},
     "output_type": "execute_result"
    }
   ],
   "source": [
    "Sol=Float64.(-AI*b)"
   ]
  },
  {
   "cell_type": "code",
   "execution_count": 42,
   "metadata": {},
   "outputs": [
    {
     "data": {
      "text/plain": [
       "4×3 Array{Float64,2}:\n",
       " 33.4087   47.2471  33.4087 \n",
       " 15.6772   22.1708  15.6772 \n",
       "  7.12903  10.082    7.12903\n",
       "  2.75701   3.899    2.75701"
      ]
     },
     "execution_count": 42,
     "metadata": {},
     "output_type": "execute_result"
    }
   ],
   "source": [
    "Solucionf=reshape(Sol,(4,3))"
   ]
  },
  {
   "cell_type": "code",
   "execution_count": 78,
   "metadata": {},
   "outputs": [
    {
     "data": {
      "text/html": [
       "<img src=\"data:image/png;base64,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\" />"
      ]
     },
     "execution_count": 78,
     "metadata": {},
     "output_type": "execute_result"
    }
   ],
   "source": [
    "x=[\"1\",\"2\",\"3\"]\n",
    "y=[\"1\",\"2\",\"3\",\"4\"]\n",
    "heatmap(x,y,Solucionf,c=:black,aspect_ratio=1)"
   ]
  },
  {
   "cell_type": "markdown",
   "metadata": {},
   "source": [
    "__ Ejercicio 2 (Tarea 20):__ Resolver ecuación de Poisson unidimensional con $\\rho (x)=\\cos(x)$, en el dominio $[0,2 \\pi]$, utilizando una malla con 12 puntos. Aquí nuevamente hay 10 incognitas, sin embargo note que para el método es mas conveniente definir $\\vec f$ incluyendo las condiciones de frontera."
   ]
  },
  {
   "cell_type": "code",
   "execution_count": 90,
   "metadata": {},
   "outputs": [
    {
     "data": {
      "text/latex": [
       "\\begin{bmatrix}0&f_{1}&f_{2}&f_{3}&f_{4}&f_{5}&f_{6}&f_{7}&f_{8}&f_{9}&f_{10}&0\\end{bmatrix}"
      ],
      "text/plain": [
       "1×12 Array{SymPy.Sym,2}:\n",
       " 0  f_1  f_2  f_3  f_4  f_5  f_6  f_7  f_8  f_9  f_10  0"
      ]
     },
     "execution_count": 90,
     "metadata": {},
     "output_type": "execute_result"
    }
   ],
   "source": [
    "f=[0 f_1 f_2 f_3 f_4 f_5 f_6 f_7 f_8 f_9 f_10 0]"
   ]
  },
  {
   "cell_type": "markdown",
   "metadata": {},
   "source": [
    "De manera discreta tendrémos que \n",
    "\n",
    "\n",
    "$$f_{i+1}+f_{i-1}-2f_i-h_x\\rho_i=0$$\n",
    "\n",
    "si queremos una malla de 12 puntos entonces $h_x=\\frac{2\\pi}{11}$"
   ]
  },
  {
   "cell_type": "code",
   "execution_count": 95,
   "metadata": {},
   "outputs": [],
   "source": [
    "h=2*pi/11\n",
    "malla=linspace(0,2pi,12)\n",
    "PM=[]\n",
    "b=[]\n",
    "for i in 2:11\n",
    "    r=f[i+1]+f[i-1]-2f[i]-h*cos(malla[i])\n",
    "    push!(PM,r)\n",
    "end\n",
    "\n",
    "for i in 1:10\n",
    "    bP=PM[i](f_1=>0,f_2=>0,f_3=>0,f_4=>0,f_5=>0,f_6=>0,f_7=>0,f_8=>0,f_9=>0,f_10=>0)\n",
    "    push!(b,bP)\n",
    "end\n"
   ]
  },
  {
   "cell_type": "code",
   "execution_count": 92,
   "metadata": {},
   "outputs": [
    {
     "data": {
      "text/plain": [
       "10-element Array{Any,1}:\n",
       "       -2*f_1 + f_2 - 0.480522894281618\n",
       "  f_1 - 2*f_2 + f_3 - 0.237284500552297\n",
       "  f_2 - 2*f_3 + f_4 + 0.081290045530213\n",
       "  f_3 - 2*f_4 + f_5 + 0.374055576524896\n",
       "  f_4 - 2*f_5 + f_6 + 0.548061104923333\n",
       "  f_5 - 2*f_6 + f_7 + 0.548061104923333\n",
       "  f_6 - 2*f_7 + f_8 + 0.374055576524896\n",
       " f_7 - 2*f_8 + f_9 + 0.0812900455302132\n",
       " f_10 + f_8 - 2*f_9 - 0.237284500552297\n",
       "      -2*f_10 + f_9 - 0.480522894281618"
      ]
     },
     "execution_count": 92,
     "metadata": {},
     "output_type": "execute_result"
    }
   ],
   "source": [
    "PM"
   ]
  },
  {
   "cell_type": "code",
   "execution_count": 94,
   "metadata": {},
   "outputs": [
    {
     "data": {
      "text/plain": [
       "10×10 Array{Float64,2}:\n",
       " -2.0   1.0   0.0   0.0   0.0   0.0   0.0   0.0   0.0   0.0\n",
       "  1.0  -2.0   1.0   0.0   0.0   0.0   0.0   0.0   0.0   0.0\n",
       "  0.0   1.0  -2.0   1.0   0.0   0.0   0.0   0.0   0.0   0.0\n",
       "  0.0   0.0   1.0  -2.0   1.0   0.0   0.0   0.0   0.0   0.0\n",
       "  0.0   0.0   0.0   1.0  -2.0   1.0   0.0   0.0   0.0   0.0\n",
       "  0.0   0.0   0.0   0.0   1.0  -2.0   1.0   0.0   0.0   0.0\n",
       "  0.0   0.0   0.0   0.0   0.0   1.0  -2.0   1.0   0.0   0.0\n",
       "  0.0   0.0   0.0   0.0   0.0   0.0   1.0  -2.0   1.0   0.0\n",
       "  0.0   0.0   0.0   0.0   0.0   0.0   0.0   1.0  -2.0   1.0\n",
       "  0.0   0.0   0.0   0.0   0.0   0.0   0.0   0.0   1.0  -2.0"
      ]
     },
     "execution_count": 94,
     "metadata": {},
     "output_type": "execute_result"
    }
   ],
   "source": [
    "varP=[f_1,f_2,f_3,f_4,f_5,f_6,f_7,f_8,f_9,f_10]\n",
    "A=Jacobiano(PM,varP,10,10)"
   ]
  },
  {
   "cell_type": "code",
   "execution_count": 96,
   "metadata": {},
   "outputs": [
    {
     "data": {
      "text/plain": [
       "10-element Array{Any,1}:\n",
       " -0.480522894281618\n",
       " -0.237284500552297\n",
       " 0.0812900455302130\n",
       "  0.374055576524896\n",
       "  0.548061104923333\n",
       "  0.548061104923333\n",
       "  0.374055576524896\n",
       " 0.0812900455302132\n",
       " -0.237284500552297\n",
       " -0.480522894281618"
      ]
     },
     "execution_count": 96,
     "metadata": {},
     "output_type": "execute_result"
    }
   ],
   "source": [
    "b"
   ]
  },
  {
   "cell_type": "code",
   "execution_count": 97,
   "metadata": {},
   "outputs": [
    {
     "data": {
      "text/plain": [
       "10×10 Array{Float64,2}:\n",
       " -0.909091   -0.818182  -0.727273  …  -0.272727  -0.181818  -0.0909091\n",
       " -0.818182   -1.63636   -1.45455      -0.545455  -0.363636  -0.181818 \n",
       " -0.727273   -1.45455   -2.18182      -0.818182  -0.545455  -0.272727 \n",
       " -0.636364   -1.27273   -1.90909      -1.09091   -0.727273  -0.363636 \n",
       " -0.545455   -1.09091   -1.63636      -1.36364   -0.909091  -0.454545 \n",
       " -0.454545   -0.909091  -1.36364   …  -1.63636   -1.09091   -0.545455 \n",
       " -0.363636   -0.727273  -1.09091      -1.90909   -1.27273   -0.636364 \n",
       " -0.272727   -0.545455  -0.818182     -2.18182   -1.45455   -0.727273 \n",
       " -0.181818   -0.363636  -0.545455     -1.45455   -1.63636   -0.818182 \n",
       " -0.0909091  -0.181818  -0.272727     -0.727273  -0.818182  -0.909091 "
      ]
     },
     "execution_count": 97,
     "metadata": {},
     "output_type": "execute_result"
    }
   ],
   "source": [
    "AIP=inv(A)"
   ]
  },
  {
   "cell_type": "code",
   "execution_count": 99,
   "metadata": {},
   "outputs": [
    {
     "data": {
      "text/plain": [
       "10-element Array{Float64,1}:\n",
       " 0.285599\n",
       " 1.05172 \n",
       " 2.05513 \n",
       " 2.97724 \n",
       " 3.52531 \n",
       " 3.52531 \n",
       " 2.97724 \n",
       " 2.05513 \n",
       " 1.05172 \n",
       " 0.285599"
      ]
     },
     "execution_count": 99,
     "metadata": {},
     "output_type": "execute_result"
    }
   ],
   "source": [
    "Sol=Float64.(-AIP*b)"
   ]
  },
  {
   "cell_type": "code",
   "execution_count": 118,
   "metadata": {},
   "outputs": [
    {
     "data": {
      "text/plain": [
       "1×10 Array{Float64,2}:\n",
       " 0.285599  1.05172  2.05513  2.97724  …  2.97724  2.05513  1.05172  0.285599"
      ]
     },
     "execution_count": 118,
     "metadata": {},
     "output_type": "execute_result"
    }
   ],
   "source": [
    "Poisson=reshape(Sol,(1,10))\n",
    "\n",
    "P=zeros(3,10)\n",
    "P[1,:]=Poisson"
   ]
  },
  {
   "cell_type": "markdown",
   "metadata": {},
   "source": [
    "__ Aquí no era necesario hacer el mapeo, sin embargo podemos definir una matriz con el primer reglon igual a la solucion de f y todos las demás entradas iguales a 0 para poder visualizar la barra de valores de f en la malla__"
   ]
  },
  {
   "cell_type": "code",
   "execution_count": 119,
   "metadata": {},
   "outputs": [
    {
     "data": {
      "text/html": [
       "<img src=\"data:image/png;base64,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\" />"
      ]
     },
     "execution_count": 119,
     "metadata": {},
     "output_type": "execute_result"
    }
   ],
   "source": [
    "heatmap(P,aspect_ratio=1)   "
   ]
  },
  {
   "cell_type": "markdown",
   "metadata": {},
   "source": [
    "__Ejercicio 3 (Subir mínimo un avance el Jueves 9 de Noviembre, dentro de la Tarea 20):__ Resolver ecuación de calor en una dimensión, en el dominio $[0,1]$, con $f(0)=10$, $f(1)=0$, en una malla con 12 puntos. Aqui obviamente habrá 10 incognitas: $f_1, \\dots, f_{10}$. La condición inicial que deberán usar es $\\vec f^{[0]}=(5,4,3,2,1,3,5,7,7,8)^{\\text{T}}$.\n",
    "* Utilizando método de Euler.\n",
    "* Utilizando Runge-Kutta de orden 4.\n",
    "* Puede hacer este ejercicio construyendo $A$ y $\\vec b$, para así utilizar las rutinas que ya tienen de RK4 y Euler, noten que aqui $A\\vec f +\\vec b$ define la función del sistema dinámico de $n=10$ dimensiones.\n",
    "* La otra opción es implementar una rutina que aplique el laplaciano discreto a $\\vec f$, digamos $\\vec r= D_{h_x}[\\vec f]$, de esta forma es facil construir la función que define el sistema dinámico en cada paso.\n",
    "* Graficar en varios tiempos (no en todos en caso de que hagan una partición grande, solo los primeros tiempos y los últimos)."
   ]
  },
  {
   "cell_type": "markdown",
   "metadata": {},
   "source": [
    "Discretizando tenemos que $$f_{i+1}+f_{i-1}-2f_i-h_x\\frac{df_i}{dt}=0$$ \n",
    "\n",
    "\n",
    "todas funciones de t que definen un sistema de ecuaciones differenciales que resolveremos usando el método de Runge Kutta o el de Euler."
   ]
  },
  {
   "cell_type": "code",
   "execution_count": 150,
   "metadata": {},
   "outputs": [],
   "source": [
    "h=1/11\n",
    "malla=linspace(0,1,12)\n",
    "PM=[]\n",
    "b=[]\n",
    "df_1,df_2,df_3,df_4,df_5,df_6,df_7,df_8,df_9,df_10=Sym(\"df_1,df_2,df_3,df_4,df_5,df_6,df_7,df_8,df_9,df_10\")\n",
    "#df=[df_1 df_2 df_3 df_4 df_5 df_6 df_7 df_8 df_9 df_10]\n",
    "f=[10 f_1 f_2 f_3 f_4 f_5 f_6 f_7 f_8 f_9 f_10 0]\n",
    "\n",
    "for i in 2:11\n",
    "    r=(f[i+1]+f[i-1]-2f[i])/h\n",
    "    push!(PM,r)\n",
    "end\n",
    "\n",
    "for i in 1:10\n",
    "    bP=PM[i](f_1=>0,f_2=>0,f_3=>0,f_4=>0,f_5=>0,f_6=>0,f_7=>0,f_8=>0,f_9=>0,f_10=>0)\n",
    "    push!(b,bP)\n",
    "end\n",
    "\n",
    "\n",
    "    \n",
    "    "
   ]
  },
  {
   "cell_type": "markdown",
   "metadata": {},
   "source": [
    "__ Primero obtenemos el sistema de ecuaciones diferenciales para despues usar Runge Kutta__"
   ]
  },
  {
   "cell_type": "code",
   "execution_count": 213,
   "metadata": {},
   "outputs": [
    {
     "data": {
      "text/plain": [
       "10-element Array{Any,1}:\n",
       "    -22.0*f_1 + 11.0*f_2 + 110.0\n",
       "  11.0*f_1 - 22.0*f_2 + 11.0*f_3\n",
       "  11.0*f_2 - 22.0*f_3 + 11.0*f_4\n",
       "  11.0*f_3 - 22.0*f_4 + 11.0*f_5\n",
       "  11.0*f_4 - 22.0*f_5 + 11.0*f_6\n",
       "  11.0*f_5 - 22.0*f_6 + 11.0*f_7\n",
       "  11.0*f_6 - 22.0*f_7 + 11.0*f_8\n",
       "  11.0*f_7 - 22.0*f_8 + 11.0*f_9\n",
       " 11.0*f_10 + 11.0*f_8 - 22.0*f_9\n",
       "           -22.0*f_10 + 11.0*f_9"
      ]
     },
     "execution_count": 213,
     "metadata": {},
     "output_type": "execute_result"
    }
   ],
   "source": [
    "varP=[f_1,f_2,f_3,f_4,f_5,f_6,f_7,f_8,f_9,f_10];\n",
    "PM"
   ]
  },
  {
   "cell_type": "code",
   "execution_count": 198,
   "metadata": {},
   "outputs": [
    {
     "data": {
      "text/plain": [
       "S (generic function with 1 method)"
      ]
     },
     "execution_count": 198,
     "metadata": {},
     "output_type": "execute_result"
    }
   ],
   "source": [
    "XI=[5.0,4.0,3.0,2.0,1.0,3.0,5.0,7.0,7.0,8.0]\n",
    "S(x,t)=[-22.0*x[1]+11.0*x[2]+110.0,11.0*x[1]-22.0*x[2]+11.0*x[3],\n",
    "    11.0*x[2] - 22.0*x[3] + 11.0*x[4],11.0*x[3] - 22.0*x[4] + 11.0*x[5],\n",
    "    11.0*x[4] - 22.0*x[5] + 11.0*x[6],11.0*x[5] - 22.0*x[6] + 11.0*x[7],\n",
    "    11.0*x[6] - 22.0*x[7] + 11.0*x[8],11.0*x[7] - 22.0*x[8] + 11.0*x[9],\n",
    "    11.0*x[10] + 11.0*x[8] - 22.0*x[9],-22.0*x[10] + 11.0*x[9]]"
   ]
  },
  {
   "cell_type": "markdown",
   "metadata": {},
   "source": [
    "__ Una vez definida la funcion e importadas las herramientas aplicamos el método, la salida de datos se puede interpretar como un arreglo de arreglos, la primera salida del arreglo el el intervalo t, la segunda salida es un arreglo de arreglos en el cada arreglo contiene el valor de cada variable a un tiempo dado t. Es decir, el primer arreglo de la segunda salida tiene los valores de cada funcion f al tiempo t=0. Así que a cada arreglo de la segunda salida le corresponde un tiempo dado y un heatmap. :) __"
   ]
  },
  {
   "cell_type": "code",
   "execution_count": 199,
   "metadata": {},
   "outputs": [
    {
     "name": "stderr",
     "output_type": "stream",
     "text": [
      "WARNING: replacing module herramientas\n"
     ]
    },
    {
     "data": {
      "text/plain": [
       "herramientas"
      ]
     },
     "execution_count": 199,
     "metadata": {},
     "output_type": "execute_result"
    }
   ],
   "source": [
    "include(\"herramientas.jl\")"
   ]
  },
  {
   "cell_type": "code",
   "execution_count": 294,
   "metadata": {},
   "outputs": [],
   "source": [
    "CALOR=herramientas.RungeKutta4th(S,XI,0.0,2*pi,0.01);"
   ]
  },
  {
   "cell_type": "code",
   "execution_count": 278,
   "metadata": {},
   "outputs": [
    {
     "data": {
      "text/plain": [
       "10-element Array{Float64,1}:\n",
       " 5.0\n",
       " 4.0\n",
       " 3.0\n",
       " 2.0\n",
       " 1.0\n",
       " 3.0\n",
       " 5.0\n",
       " 7.0\n",
       " 7.0\n",
       " 8.0"
      ]
     },
     "execution_count": 278,
     "metadata": {},
     "output_type": "execute_result"
    }
   ],
   "source": [
    "#por ejemplo, la segunda salida arreglo 1 es naturalmente la condicion inicial para cada variable\n",
    "CALOR[2][1]"
   ]
  },
  {
   "cell_type": "code",
   "execution_count": 279,
   "metadata": {},
   "outputs": [],
   "source": [
    "Mapeos=[]\n",
    "for i in 3:10:63\n",
    "    w=reshape(CALOR[2][i],(1,10))\n",
    "    wM=zeros(3,10)\n",
    "    wM[1,:]=w\n",
    "    push!(Mapeos,wM)\n",
    "end      "
   ]
  },
  {
   "cell_type": "markdown",
   "metadata": {},
   "source": [
    "__ Runge kutta cuarto orden __"
   ]
  },
  {
   "cell_type": "code",
   "execution_count": 280,
   "metadata": {},
   "outputs": [
    {
     "data": {
      "text/html": [
       "<img src=\"data:image/png;base64,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\" />"
      ]
     },
     "execution_count": 280,
     "metadata": {},
     "output_type": "execute_result"
    }
   ],
   "source": [
    "heatmap(Mapeos[1],c=:heat)"
   ]
  },
  {
   "cell_type": "code",
   "execution_count": 281,
   "metadata": {},
   "outputs": [
    {
     "data": {
      "text/html": [
       "<img src=\"data:image/png;base64,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\" />"
      ]
     },
     "execution_count": 281,
     "metadata": {},
     "output_type": "execute_result"
    }
   ],
   "source": [
    "heatmap(Mapeos[2],c=:heat)"
   ]
  },
  {
   "cell_type": "code",
   "execution_count": 282,
   "metadata": {},
   "outputs": [
    {
     "data": {
      "text/html": [
       "<img src=\"data:image/png;base64,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\" />"
      ]
     },
     "execution_count": 282,
     "metadata": {},
     "output_type": "execute_result"
    }
   ],
   "source": [
    "heatmap(Mapeos[5],c=:heat)"
   ]
  },
  {
   "cell_type": "code",
   "execution_count": 283,
   "metadata": {},
   "outputs": [
    {
     "data": {
      "text/html": [
       "<img src=\"data:image/png;base64,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\" />"
      ]
     },
     "execution_count": 283,
     "metadata": {},
     "output_type": "execute_result"
    }
   ],
   "source": [
    "heatmap(Mapeos[7],c=:heat)"
   ]
  },
  {
   "cell_type": "markdown",
   "metadata": {},
   "source": [
    "__ Metodo de Euler __"
   ]
  },
  {
   "cell_type": "code",
   "execution_count": 292,
   "metadata": {},
   "outputs": [],
   "source": [
    "CALOR=herramientas.MetodoEuler(S,XI,0,2pi,0.01);\n",
    "\n",
    "Mapeos=[]\n",
    "for i in 3:10:63\n",
    "    w=reshape(CALOR[2][i],(1,10))\n",
    "    wM=zeros(3,10)\n",
    "    wM[1,:]=w\n",
    "    push!(Mapeos,wM)\n",
    "end      "
   ]
  },
  {
   "cell_type": "code",
   "execution_count": 299,
   "metadata": {},
   "outputs": [
    {
     "data": {
      "text/html": [
       "<img src=\"data:image/png;base64,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\" />"
      ]
     },
     "execution_count": 299,
     "metadata": {},
     "output_type": "execute_result"
    }
   ],
   "source": [
    "heatmap(Mapeos[1],c=:black)"
   ]
  },
  {
   "cell_type": "code",
   "execution_count": 300,
   "metadata": {},
   "outputs": [
    {
     "data": {
      "text/html": [
       "<img src=\"data:image/png;base64,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\" />"
      ]
     },
     "execution_count": 300,
     "metadata": {},
     "output_type": "execute_result"
    }
   ],
   "source": [
    "heatmap(Mapeos[2],c=:black)"
   ]
  },
  {
   "cell_type": "code",
   "execution_count": 298,
   "metadata": {},
   "outputs": [
    {
     "data": {
      "text/html": [
       "<img src=\"data:image/png;base64,iVBORw0KGgoAAAANSUhEUgAAAlgAAAGQCAYAAAByNR6YAAAABHNCSVQICAgIfAhkiAAAAAlwSFlzAAAPYQAAD2EBqD+naQAAIABJREFUeJzt3X9wVPW9//HXSQIb0OwCkUhyCQQFmioCgTLij9JSRcRfpFypdvD6kwKK13rxXpXLGLBUojPKaGsF/DHIHWss3xpppWKvMCIyHTQK8WJvRUJZWBBML5QsRFlMzuf7R2RlzS64Jwd28+nzwXxm2LPnc/JZd8A37/fnh2OMMZJ02WWXae/evcrJyVFBQYF+8YtfqKKiQscKh8M6++yzdd5558Wvvfzyyzr77LMFAACANs7RAOvAgQPq0aOHJOmVV17RvHnz9MEHHyTcHA6HNXz4cB04cODUjxQAAKCTyDn6m6PBlSQ1NTXJcZyMDAgAAKCzyzv2xY033qg333xTkvTaa68l7dDc3KyRI0fKGKPKykrNmTNHubm5Se+NxWKKxWLx167rav/+/SosLCSAAwAAaTHG6ODBgyopKVFOTs6JO2SSSeL55583EyZMaHf98OHD5tNPPzXGGLNv3z5z6aWXmkceeSTZI4wxxsydO9dIotFoNBqNRvOtRSKRlLFHtojPwfq6bt26adeuXSosLEz2tiSppqZGL774ol599dWk7389g9XU1KR+/fqprTJJBgsAAKTDSHJ14MABhUKhTA/muPKktgnun332mUpKSiRJK1asUGFhoXr16pVwc2Njo3r27KkuXbooFouptra23UrDYwUCAQUCgSTvOCLAAgAAXnSGaUZ5UltmafLkyfr888+Vk5Oj3r17a+XKlXIcR1VVVSopKdGMGTO0fv16VVVVKTc3Vy0tLfrBD36gOXPmZPozAAAASJIOHz6sI0eOeO7ftWtX5efnd3gcKUuEJ0M0Gv0ypZcrMlgAACA9RlKrmpqaFAwG2717+PBhDRjQR3v3Nnn+CX369NH27ds7HGTlnfgWAACA7HfkyBHt3dukcOQJBYPd0u4fjX6ustKf6siRIwRYAAAAxyo4vasKTu+adj/jtvo2BgIsAABgFWNaZUz6wZKXPqlk+S5dAAAAnQ8ZLAAAYBVjWmRMi6d+fiHAAgAAVsmGAIsSIQAAgAetra164IEHNGDAAHXr1k1nn3225s+fL2MMGSwAAGAX122V66afjXLTXEX4yCOPaNGiRVq2bJnOPfdcvffee7rlllsUCoUIsAAAgF1OVYnwT3/6kyZOnKgrr7xSklRWVqaamhq9++67lAgBAAC8uPDCC7VmzRp9/PHHkqQPPvhA69ev14QJE8hgAQAAu3Q0gxWNRhOuBwIBBQKBdvfff//9ikajKi8vV25urlpbW/XQQw9pypQpBFgAAMAuHQ2wSktLE67PnTtX8+bNa3f/8uXL9etf/1ovvviizj33XNXX1+vuu+9WSUkJARYAAMCxIpFIwmHSybJXkvQf//Efuu+++3T99ddLks477zzt2LFD1dXVBFgAAMAuxm2R8bCK8GifYDCYEGCl8tlnnykvLzGUys3Nleu6BFgAAMAybqvkIcBSmts0XH311fr5z3+u0tJSnXvuudq0aZMWLlyoW2+9lQALAADAi1/+8pd64IEHdMcdd6ixsVElJSWaPn26qqqqCLAAAIBlzBeS8bATlfkirdsLCgr0+OOP6/HHH2/3HgEWAACwi9siubne+vmEjUYBAAB8RgYLAADYxXjMYHnYOysVAiwAAGAX0+otWDLprSI8HkqEAAAAPiODBQAA7OK2SK6HHJKPk9wJsAAAgFUct0WOhwDLYRUhAABA9iKDBQAA7GJaPG40SokQAAAguSyYg0WJEAAAwGdksAAAgF1cV3I97Gnlur4NgQALAABYxXFbPa4iZKNRAACArEUGCwAA2MW0elxF6F8GiwALAABYhRIhAACAhchgAQAAu7itHvfBokQIAACQnPEYYPk4B4sSIQAAgM/IYAEAAKs4xpXjIRvlGDYaBQAASM5tlVzHWz+fUCIEAADwGRksAABglbZ9sNLPYPm5DxYBFgAAsAslQgAAAPuQwQIAAHbJggwWARYAALCK47py3PS3XPDSJxVKhAAAAD4jgwUAAOziut7KfT5msAiwAACAVdq2afDWzy+UCAEAAHxGBgsAANjFtEpeqn0ezi9MhQALAADYxXU9btPAKkIAAICsRQYLAABYhUnuAAAAfnNd7y0NZWVlchynXZs5c+ZXAdZll12moUOHavjw4frud7+rTZs2JX3YypUrVV5erkGDBmnSpEmKRqMd+48AAADQCdXV1WnPnj3x9sYbb0iSJk+e/FWAtXz5cv3P//yP6uvrNWvWLN18883tHnTo0CHddtttWrFihbZu3aqSkhLNnz//lH0QAACAE3Jbvbc09O7dW3369Im3lStX6uyzz9b3vve9rwKsHj16xDs0NTXJcdrPvl+1apUqKipUXl4uSbrjjjtUU1Pj9eMDAAD4zzUeS4RGkhSNRhNaLBY74Y88cuSIXnjhBd16661yHCdxkvuNN96oN998U5L02muvteu8c+dO9e/fP/66rKxMe/bsUUtLi/Ly2s+Xj8ViCYOinAgAALJdaWlpwuu5c+dq3rx5x+2zYsUKHThwIF4BTIiK/uu//kuStGzZMt13331Jg6x0VFdX68EHH+zQMwAAANLhuK7HVYRtnSKRiILBYPx6IBA4Yd/nnntOEyZMUElJiaQUqwhvuukmvfnmm9q3b1/C9X79+mnHjh3x1+FwWMXFxUmzV5I0e/ZsNTU1xVskEjnhAAEAADqkg3OwgsFgQjtRgLVjxw6tXr1aU6dOjV/LkaQDBw7ok08+iV9csWKFCgsL1atXr4QHXH755dq4caM++ugjSdJTTz2l66+/PuUPDAQC7QYJAABgk6VLl6qoqEhXXnll/Fqe1DapffLkyfr888+Vk5Oj3r17a+XKlXIcR1VVVSopKdGMGTNUUFCgZ599VpWVlWppadGQIUO0bNmyjH0gAACAdlzX21mEHo7KcV1XS5cu1U033ZRQ0XOMMcbDEDyJRqMKhUKSciV5OCMIAAD8AzOSWtXU1JS0KnY0ztj322IFu6e/l3r0M1eF1+5J+fxk/vu//1vjx4/Xli1bNHjw4Ph1jsoBAADw6LLLLlOyXBUBFgAAsEpHVxH6gQALAADYxW2NbxqaXj//AiwOewYAAPAZGSwAAGAX13jMYPm37o8ACwAA2OUUbtOQCiVCAAAAn5HBAgAAdnGNt2wUJUIAAIAUXOOxROhfgEWJEAAAwGdksAAAgF1cV3I9HMlHiRAAACCFLAiwKBECAAD4jAwWAACwSxZMcifAAgAAdjEeS4SGEiEAAEDWIoMFAADsQokQAADAX8Zta176+YUSIQAAgM/IYAEAALuYL5uXfj4hwAIAAHZx5XEOln9DoEQIAADgMzJYAADALlmQwSLAAgAAdsmCAIsSIQAAgM/IYAEAAKtkwz5YBFgAAMAulAgBAADsQwYLAADYxchbNoqNRgEAAFKgRAgAAGAfMlgAAMAqxuTIGMdDP/9qhARYAADALq7T1tLu598QKBECAAD4jAwWAACwSxZksAiwAACAVYxxPM7B8m8MlAgBAAA82r17t2644QYVFhaqW7duOu+88/Tee++RwQIAAJY5RSXCv//977rooos0duxYrVq1Sr1799bWrVvVs2dPAiwAAGAZ47S1tPuld/sjjzyi0tJSLV26NH5twIABkigRAgAAePL73/9e3/nOdzR58mQVFRWpoqJCzzzzjCQmuQMAAMsY15HxUCI0X5YIo9FowvVAIKBAINDu/r/+9a9atGiRZs2apf/8z/9UXV2d7rrrLnXt2pUACwAAWKaDc7BKS0sTLs+dO1fz5s1rf7vr6jvf+Y4WLFggSaqoqNCHH36oxYsXE2ABAAAcKxKJKBgMxl8ny15JUnFxsc4555yEa9/+9rf18ssvE2ABAAC7dHQfrGAwmBBgpXLRRRdpy5YtCdc+/vhj9e/fnwALAABYxjiS62Edn0lvn4Z/+7d/04UXXqgFCxboRz/6kd599109/fTTevrpp1lFCAAA4MWoUaP0yiuvqKamRkOGDNH8+fP1+OOPa8qUKWSwAACAXbyvIky/z1VXXaWrrrqq3XUCLAAAYBfPqwg99EmBEiEAAIDPyGABAACrGJMjY9LPIZk0j8o5HgIsAABglVM5BysVSoQAAAA+I4MFAADs4uZ42wcrvW2wjosACwAAWMX7Tu4+lwgPHz6syspKDR48WMOGDdO4cePU0NDQ7uZwOKzc3FwNHz483rZt2+bbYAAAAGwQz2BNmzZNEyZMkOM4evLJJzV16lStXbu2XYeCggLV19efyjECAAB8c9myD1Z+fr6uuOIKOU7bg0ePHq1wOOzbDwEAADhVjJvjufkl6RysJ554QhMnTkzaobm5WSNHjpQxRpWVlZozZ45yc3OT3huLxRSLxeKvo9GoD0MGAADIbu1CtQULFqihoUHV1dXtbi4uLtbu3bv1/vvva/Xq1Xr77bf12GOPpXx4dXW1QqFQvJWWlvo7egAAgK85OsndS/NLQoD16KOPqra2VqtWrVL37t3b3RwIBFRUVCRJ6tWrl2699Va9/fbbKR8+e/ZsNTU1xVskEvFt4AAAAMkc3WjUS/NLvES4cOFC1dTUaPXq1erRo0fSmxsbG9WzZ0916dJFsVhMtbW1qqioSPnwQCCgQCDg22ABAAA6gxxJ2rVrl+655x4dOHBAY8eO1fDhw3X++edLkqqqqrR48WJJ0vr161VRUaFhw4ZpxIgR6tOnj+bMmZO50QMAAHyNMR4zWD6WCB1j/Dza8Pii0ahCoZCkXEn+fQgAAPCPwEhqVVNTk4LBYLt3j8YZ4Z+cpWDX9FcERo+4Knvmrymfnw7OIgQAAPAZR+UAAACrGFeeJqwbziIEAABIweuKQL93cgcAAIB/yGABAACrGJMjY9LPIfm57o8ACwAA2CVbDnsGAACAf8hgAQAAq3g9V9DPjUYJsAAAgFW8nivo51mElAgBAAB8RgYLAABYhVWEAAAAPqNECAAAYCEyWAAAwCqsIgQAAPCZMR5LhD4GWJQIAQAAfEYGCwAAWIVVhAAAAD5jFSEAAICFyGABAACrZMMqQjJYAADAKkcDLC8tHfPmzZPjOAmtvLxcEhksAAAAz84991ytXr06/jovry20IsACAABWcV1HrocJ61765OXlqU+fPu2uUyIEAABWaSv35XhobQFWNBpNaLFYLOXP2rp1q0pKSnTWWWdpypQp2rlzpyQCLAAAgASlpaUKhULxVl1dnfS+888/X88//7xef/11LVq0SNu3b9d3v/tdHTx4kBIhAACwS0dXEUYiEQWDwfj1QCCQ9P4JEybEfz906FCdf/756t+/v5YvX06ABQAA7NLRjUaDwWBCgPVN9ejRQ4MHD1ZDQwMlQgAAAD8cOnRIDQ0NKi4uJsACAAB2OVX7YP37v/+73nrrLYXDYf3pT3/SD3/4Q+Xl5enHP/4xJUIAAGAZj3OwlGafXbt26cc//rH27dun3r176+KLL9aGDRvUu3dvAiwAAAAvXnrppZTvEWABAACrHN3Xyks/vxBgAQAAq5zKndxTYZI7AACAz8hgAQAAq3R0o1E/EGABAACrZEOARYkQAADAZ2SwAACAVYw8ZrBEiRAAACApSoQAAAAWIoMFAACskg0ZLAIsAABgFdc4cj0ES176pEKJEAAAwGdksAAAgFUoEQIAAPgsGwIsSoQAAAA+I4MFAACskg0ZLAIsAABgFdd4WxHoGv/GQIkQAADAZ2SwAACAVSgRAgAA+CwbAixKhAAAAD4jgwUAAKxiPB6V43sG6/Dhw6qsrNTgwYM1bNgwjRs3Tg0NDUk7rFy5UuXl5Ro0aJAmTZqkaDTq22AAAAA66miJ0EvzS7xEOG3aNG3ZskUffPCBJk6cqKlTp7a7+dChQ7rtttu0YsUKbd26VSUlJZo/f75vgwEAALBBjiTl5+friiuukOO0RW6jR49WOBxud/OqVatUUVGh8vJySdIdd9yhmpqaUzdaAACAE3C/LBF6aX5JOgfriSee0MSJE9td37lzp/r37x9/XVZWpj179qilpUV5ee0fFYvFFIvF4q8pJwIAgJMtG1YRtouKFixYoIaGBq1Zs6bDD6+urtaDDz7Y4ecAAAB0JgnbNDz66KOqra3VqlWr1L1793Y39+vXTzt27Ii/DofDKi4uTpq9kqTZs2erqakp3iKRiM/DBwAASGTkeG5+iQdYCxcuVE1Njd544w316NEj6c2XX365Nm7cqI8++kiS9NRTT+n6669P+fBAIKBgMJjQAAAATqasmYO1a9cu3XPPPTrrrLM0duxYSW3B0TvvvKOqqiqVlJRoxowZKigo0LPPPqvKykq1tLRoyJAhWrZsmW+DAQAAsIFjjPHx7Ojji0ajCoVCknIlH9NwAADgH4GR1KqmpqakVbGjccbKUVfrtLwuaT+9ueULXVX3asrnp4Od3AEAgFW8lvv8LBFyFiEAAIDPyGABAACrZOU+WAAAAJ2ZK48lwpOxTQMAAAC8efjhh+U4ju6++25JZLAAAIBlvG4a6nWj0bq6Oi1ZskRDhw6NXyODBQAA4NGhQ4c0ZcoUPfPMM+rZs2f8OgEWAACwyqncyX3mzJm68sordemllyZcp0QIAADs4nEVob7sE41GEy4HAgEFAoF2t7/00kvauHGj6urq2r1HBgsAAOAYpaWlCoVC8VZdXd3unkgkop/+9Kf69a9/rfz8/Hbvk8ECAABW6ehO7pFIJOGonGTZq/fff1+NjY0aMWJE/Fpra6vWrVunJ598kgALAADYpaMBVjAYPOFZhJdccok2b96ccO2WW25ReXm57rvvPgIsAACAdBUUFGjIkCEJ10477TQVFhZqyJAhBFgAAMAu5svmpZ9fCLAAAIBVOloi9Grt2rXx37OKEAAAwGdksAAAgFWMkad9sIyPNUICLAAAYBVXjlwP5wp66ZMKJUIAAACfkcECAABWMR6PyvF0vE4KBFgAAMAqrmlrXvr5hRIhAACAz8hgAQAAq2RqH6xjEWABAACrGDkyHlYEeumTCiVCAAAAn5HBAgAAVqFECAAAcBL4eXCzF5QIAQAAfEYGCwAAWIWNRgEAAHzmftm89PMLJUIAAACfkcECAABWoUQIAADgM84iBAAAsBAZLAAAYJVsOCqHAAsAAFglG3Zyp0QIAADgMzJYAADAKkbejsrx83gdAiwAAGAVSoQAAAAWIoMFAACsQokQAADAZ5QIAQAALEQGCwAAWCUbjsohwAIAAJbxtpO7fNzJnRIhAACAz8hgAQAAq7jyWCL0cQwEWAAAwCrZcNgzJUIAAACfkcECAABWYRUhAACAz1w5cj2U+7z0SYUSIQAAgAeLFi3S0KFDFQwGFQwGdcEFF2jVqlWSyGABAADLGNPWvPRLR9++ffXwww9r0KBBMsZo2bJlmjhxojZt2kSABQAA7HKq5mBdffXVCa8feughLVq0SBs2bPiqRHjXXXeprKxMjuOovr4+6YPC4bByc3M1fPjweNu2bVv6nwAAAMAira2teumll9Tc3KwLLrjgqwzWtddeq3vvvVcXX3zxcR9QUFCQMgADAADItI5Oco9GownXA4GAAoFA0j6bN2/WBRdcoMOHD+v000/XK6+8onPOOeerDNaYMWPUt2/ftAcDAACQTY7OwfLSJKm0tFShUCjeqqurU/6sb33rW6qvr9c777yj22+/XTfddJP+93//N/05WM3NzRo5cqSMMaqsrNScOXOUm5ub9N5YLKZYLBZ//fWIEAAAINtEIhEFg8H461TZK0nq2rWrBg4cKEkaOXKk6urq9MQTT6QXYBUXF2v37t0qKirS/v37dd111+mxxx7Tvffem/T+6upqPfjgg+2u729apGCwezo/Orv9vzszPQLfHVhTlOkh+O6T7f0yPQTf/S0ayvQQfHfoSOq/yDqrgxZ+pr8dtu8zbYl2zfQQfLfh0L5MD8FXreYLbf58+Qnvc+XtXMGjfY5uu+CF67qKxWLp7YMVCARUVNT2P95evXrp1ltv1dtvv53y/tmzZ6upqSneIpGIp8ECAAB8U8Y4nls6Zs+erXXr1ikcDmvz5s2aPXu21q5dqylTpqSXwWpsbFTPnj3VpUsXxWIx1dbWqqKiIuX9x5sUBgAA0Jk1Njbqxhtv1J49exQKhTR06FD98Y9/1Lhx474KsKZPn64//OEP2rt3r8aPH6+CggI1NDSoqqpKJSUlmjFjhtavX6+qqirl5uaqpaVFP/jBDzRnzpxMfjYAAIAExuM+WOluNPrcc8+lfC8eYC1ZsiTpDT/72c/iv580aZImTZqU3k8HAAA4hTo6B8sPnEUIAADgM47KAQAAVvEyYf1oP78QYAEAAKtQIgQAALAQGSwAAGAV1+MqQi99UiHAAgAAVjFfNi/9/EKJEAAAwGdksAAAgFUoEQIAAPjMGG9bLqS7k/vxUCIEAADwGRksAABglWzYB4sACwAAWCUb5mBRIgQAAPAZGSwAAGCVbNgHiwALAABYxXgsEbKKEAAAIIuRwQIAAFbJhknuBFgAAMAq2TAHixIhAACAz8hgAQAAq1AiBAAA8BklQgAAAAuRwQIAAFahRAgAAOCzbAiwKBECAAD4jAwWAACwSjZMcifAAgAAVqFECAAAYCEyWAAAwCqUCAEAAHzmymOJ0McxUCIEAADwGRksAABgFUqEAAAAPjPGW7nPsIoQAAAge5HBAgAAVsmGEiEZLAAAYJW2jUaNh5bez6murtaoUaNUUFCgoqIiVVZWasuWLZIIsAAAADx56623NHPmTG3YsEFvvPGGvvjiC1122WVqbm6mRAgAAOxyqkqEr7/+esLr559/XkVFRXr//fcJsAAAgF2M8RhgfdkpGo0mXA8EAgoEAifs39TUJEnq1asXJUIAAIBjlZaWKhQKxVt1dfUJ+7iuq7vvvlsXXXSRhgwZQgYLAADYxfW4D9bRSe6RSETBYDB+/Ztkr2bOnKkPP/xQ69evl8Q2DQAAwDKujFwPRcKjfYLBYEKAdSJ33nmnVq5cqXXr1qlv376SCLAAAAA8McboX//1X/XKK69o7dq1GjBgQPw9AiwAAGCVjk5y/6ZmzpypF198Ub/73e9UUFCgvXv3SpJCoRABFgAAsEtHS4Tf1KJFiyRJ3//+9xOuL126lAALAADAC3OclBcBFgAAsIorj6sIfRwDARYAALDKqZqDdTxsNAoAAOAzMlgAAMAqp2qS+/EQYAEAAKsYjzu5UyIEAADIYmSwAACAVcyXv7z080s8g3XXXXeprKxMjuOovr4+ZYeVK1eqvLxcgwYN0qRJkxSNRn0bDAAAQEe5xnhufokHWNdee63Wr1+v/v37p7z50KFDuu2227RixQpt3bpVJSUlmj9/vm+DAQAAsEE8wBozZkz8BOhUVq1apYqKCpWXl0uS7rjjDtXU1JzcEQIAAKTh6CpCL80vac3B2rlzZ0KGq6ysTHv27FFLS4vy8to/KhaLKRaLxV9TTgQAACdbNmzTcFJXEVZXVysUCsVbaWnpyfxxAAAAWSGtAKtfv37asWNH/HU4HFZxcXHS7JUkzZ49W01NTfEWiUQ6NloAAIATMB345Ze0AqzLL79cGzdu1EcffSRJeuqpp3T99denvD8QCCgYDCY0AACAkykb5mDFA6zp06erb9++2rVrl8aPH6+BAwdKkqqqqrR48WJJUkFBgZ599llVVlZq4MCB2rVrlx544AHfBgMAAGCDeG1vyZIlSW/42c9+lvD6mmuu0TXXXHNyRwUAAOBRNkxyZyd3AABgFVfeziL00icVziIEAADwGRksAABglWw4i5AACwAAWMUYb3OwzMk4ixAAAAD+IIMFAACs4jquHCf9Keuuj9PcCbAAAIBVXLlyPARLfgZYlAgBAAB8RgYLAABYxZXxmMFiFSEAAEBSR08W9NLPL5QIAQAAfEYGCwAAWMV1jByHswgBAAB8wypCAAAAC5HBAgAAVsmGDBYBFgAAsAqrCAEAACxEBgsAAFiFswgBAAB8ZuR6CpYoEQIAAGTYunXrdPXVV6ukpESO42jFihXx9wiwAACAVdwO/EpHc3Ozhg0bpl/96lft3qNECAAArGLUKuMhh2TUmtb9EyZM0IQJE5K+RwYLAADAZ2SwAACAVdrOFPSyirDtLMJoNJpwPRAIKBAIpPUsMlgAAMAqbSVCb02SSktLFQqF4q26ujrtMZDBAgAAOEYkElEwGIy/Tjd7JRFgAQAAy7StBvS+0WgwGEwIsLwgwAIAAFbpaID1TR06dEgNDQ3x19u3b1d9fb169epFgAUAAODFe++9p7Fjx8Zfz5o1S5J00003EWABAAC7tE1Ydzz1S8f3v/99GWOSvkeABQAArOIajyVCw1mEAAAAWYsMFgAAsIqRK+Mhg+WlTyoEWAAAwCrZEGBRIgQAAPAZGSwAAGAVY9y0VwQe7ecXAiwAAGAVI1eup20aKBECAABkLTJYAADAKm2ZqMxmsAiwAACAVdrmUnkIsNhoFAAAIHuRwQIAAFahRAgAAOAzSoQAAAAWIoMFAACs4mWT0Y70S4YACwAAWIUSIQAAgIXIYAEAAKsYGcnDisC2fv4gwAIAAFYxplXyECxRIgQAAMhiZLAAAIBVvG4YykajAAAAKbjG9bCGkBIhAABAViODBQAArJINJcJ4Bmvr1q268MILNXjwYI0aNUp//vOf290cDoeVm5ur4cOHx9u2bdt8GwwAAEBHGdPqufklnsGaPn26pk2bpptvvlm//e1vdfPNN6uurq5dh4KCAtXX1/s2AAAAANvkSFJjY6Pee+893XDDDZKkf/7nf1YkElFDQ0NGBwcAAJAuY1zPzS95khSJRFRcXKy8vLaEluM46tevn3bu3KmBAwcmdGhubtbIkSNljFFlZaXmzJmj3NzcpA+PxWKKxWLx101NTZKkaPRz3z5AVvjMv51fs8XBI/6lSbPFoZaWTA/Bd80tX2R6CL4wtzkBAAAHA0lEQVT7rNW+tTeftXpZz5TdDrv2faYjrn1/l7cau/6OOPp5jDnRd+U1UMrQNg3FxcXavXu3ioqKtH//fl133XV67LHHdO+99ya9v7q6Wg8++GC762WlP/U2WpxCTZkewEnAfEEAsMHBgwcVCoUyPYzjcowxprGxUQMHDtT+/fuVl5cnY4yKi4u1fv36dhmsY9XU1OjFF1/Uq6++mvT9r2ewXNfV/v37VVhYKMex718/J1s0GlVpaakikYiCwWCmh4MU+J46B76nzoHvqXM4Vd+TMUYHDx5USUmJcnLaZ7uj0ahCoZBycnp4ijOMMXLdA2pqaurw58iTpKKiIo0YMUIvvPCCbr75Zr388svq27dvu+CqsbFRPXv2VJcuXRSLxVRbW6uKioqUDw8EAgoEAgnXevTo0aEBQwoGg/xF0wnwPXUOfE+dA99T53AqvqdvlLkyruRlq9ETlh6/uXj4t2TJEi1ZskSDBw/Www8/rKVLl0qSqqqqtHjxYknS+vXrVVFRoWHDhmnEiBHq06eP5syZ49tgAAAAbOCYE88UQ5Y4mvr0I3WJk4fvqXPge+oc+J46h2z5nuIlQud07yVCc8i/EiE6h0AgoLlz57YruyK78D11DnxPnQPfU+eQbd9T247sHgIs+ZdzIoMFAACscDSD5TjdPWewjPmMDBYAAEA72TTJHQAAwAZGrufmxa9+9SuVlZUpPz9f559/vt59910CLAAAAK9+85vfaNasWZo7d642btyoYcOGafz48QRYncHhw4dVWVmpwYMHa9iwYRo3bhznRGa5pUuXynEcrVixItNDQRKxWEx33nmnBg0apPPOOy9+Diuyy2uvvaYRI0Zo+PDhGjJkiJYtW5bpIUHSXXfdpbKyMjmOo/r6+vj1xsZGXX755Ro0aJCGDBmidevWZXCUbluZMN3mIYO1cOFC/eQnP9Ett9yic845R4sXL1b37t2Zg9VZTJs2TRMmTJDjOHryySc1depUrV27NtPDQhLhcFjPPPOMRo8enemhIIX7779fjuPo448/luM42rt3b6aHhK8xxuiGG27Q2rVrNXToUIXDYZWXl2vSpEkqKCjI9PD+oV177bW69957dfHFFydcv//++zV69Gi9/vrrqqur0w9/+ENt375dXbp0ycAoTYdWBEaj0YTXyTZOl6QjR47o/fff1+zZs+PXcnJydOmll5LB6gzy8/N1xRVXxFdEjB49WuFwOLODQlKu62rq1Kn65S9/mTXLlZGoublZzz33nB566KH4n6k+ffpkeFRIxnEcHThwQFLb//AKCwv5c5UFxowZo759+7a7vnz5cs2YMUOSNGrUKJWUlOitt946pWPr2rXrl3+eWz23008/XaWlpQqFQvFWXV2d9Of93//9n1pbW3XmmWcmXD/zzDPJYHVGTzzxhCZOnJjpYSCJhQsX6qKLLtLIkSMzPRSksG3bNvXq1UsLFizQ6tWr1a1bN82bN0+XXHJJpoeGYziOo9/85jeaNGmSTjvtNP39739XbW2tunbtmumhIYl9+/bpiy++SPjHSllZmXbu3HlKx5Gfn6/t27fryJEjnp9hjGm3xYOXwJ4Aq5NZsGCBGhoatGbNmkwPBV/z4Ycf6uWXX87wvAOcSEtLi3bs2KFzzjlHDz/8sDZt2qRx48bpz3/+c7t/hSJzWlpa9POf/1y1tbUaM2aM6urqdM0112jz5s0644wzMj08ZLH8/Hzl5+efkp91xhlnKDc3V59++mnC9U8//ZQSYWfy6KOPqra2VqtWrVL37t0zPRx8zdtvv61wOKxBgwaprKxMGzZs0LRp07Ro0aJMDw3H6Nevn3JycjRlyhRJUkVFhQYMGKDNmzdneGQ4Vn19vT755BONGTNGUlvJqW/fvtq0aVOGR4ZkCgsLlZeXlzCfMRwOq1+/fhkc1cnXtWtXjRw5MiHp4bqu1qxZQ4DVWSxcuFA1NTV644031KNHj0wPB0ncfvvt2rNnj8LhsMLhsEaPHq2nn35at99+e6aHhmOcccYZuuSSS/THP/5RkrR9+3Zt375d3/72tzM8MhyrtLRUe/bs0V/+8hdJUkNDg7Zt26ZvfetbGR4ZUpk8ebIWL14sSaqrq9Pu3bv1ve99L8OjOvlmzZqlZ555RsuWLdNf/vIX3X777WpubqZE2Bns2rVL99xzj8466yyNHTtWUls9+J133snwyIDOafHixbrtttt03333KScnR0uWLNE//dM/ZXpYOMaZZ56pp59+Wj/60Y+Uk5Mj13X15JNPWp8R6QymT5+uP/zhD9q7d6/Gjx+vgoICNTQ06JFHHtG//Mu/aNCgQeratateeOGFDK0gPLWuu+46/e1vf1NVVZX27t2r4cOH6/XXX+csQgAAAL9RIgQAAPDZ/wcEk6bmBia/eAAAAABJRU5ErkJggg==\" />"
      ]
     },
     "execution_count": 298,
     "metadata": {},
     "output_type": "execute_result"
    }
   ],
   "source": [
    "heatmap(Mapeos[5],c=:black)"
   ]
  },
  {
   "cell_type": "code",
   "execution_count": 297,
   "metadata": {},
   "outputs": [
    {
     "data": {
      "text/html": [
       "<img src=\"data:image/png;base64,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\" />"
      ]
     },
     "execution_count": 297,
     "metadata": {},
     "output_type": "execute_result"
    }
   ],
   "source": [
    "heatmap(Mapeos[7],c=:black)"
   ]
  },
  {
   "cell_type": "code",
   "execution_count": null,
   "metadata": {},
   "outputs": [],
   "source": []
  },
  {
   "cell_type": "code",
   "execution_count": null,
   "metadata": {
    "collapsed": true
   },
   "outputs": [],
   "source": []
  }
 ],
 "metadata": {
  "kernelspec": {
   "display_name": "Julia 0.6.0",
   "language": "julia",
   "name": "julia-0.6"
  },
  "language_info": {
   "file_extension": ".jl",
   "mimetype": "application/julia",
   "name": "julia",
   "version": "0.6.0"
  }
 },
 "nbformat": 4,
 "nbformat_minor": 2
}
