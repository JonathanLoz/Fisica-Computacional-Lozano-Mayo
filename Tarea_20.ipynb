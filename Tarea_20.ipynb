{
 "cells": [
  {
   "cell_type": "markdown",
   "metadata": {},
   "source": [
    "## Formación del sistema de ecuaciones\n",
    "\n",
    "Como recuerda, su tarea básicamente consistió en encontrar el sistema de ecuaciones proveniente de la discretización de una ecuación de Laplace, con problemas a la frontera de Dirichlet y von Neumann. El siguiente ejemplo es lo mismo, pero en esta ocasión para un sistema bidimensional. \n",
    "\n",
    "### Ejemplo \n",
    "\n",
    "Para una malla de 5 por 6 resolver la ecuación de Laplace utilizando las condiciones  a la frontera siguiente: en la parte superior, toma los valores\n",
    "$\\{0, 70.7107, 100., 70.7107, 0\\}$ y en el resto de bordes es cero. El sistema\n",
    "de ecuaciones es el siguiente\n",
    "\n",
    "\n",
    "\\begin{align*}\n",
    "-4 f_{2,2}+f_{2,3}+f_{3,2}=0,\\\\f_{2,2}-4 f_{2,3}+f_{2,4}+f_{3,3}=0,\\\\f_{2,3}-4 f_{2,4}+f_{2,5}+f_{3,4}=0,\\\\f_{2,4}-4\n",
    "   f_{2,5}+f_{2,6}+f_{3,5}=0,\\\\f_{2,5}-4 f_{2,6}+f_{3,6}+70.7107=0,\\\\f_{2,2}-4 f_{3,2}+f_{3,3}+f_{4,2}=0,\\\\f_{2,3}+f_{3,2}-4\n",
    "   f_{3,3}+f_{3,4}+f_{4,3}=0,\\\\f_{2,4}+f_{3,3}-4 f_{3,4}+f_{3,5}+f_{4,4}=0,\\\\f_{2,5}+f_{3,4}-4 f_{3,5}+f_{3,6}+f_{4,5}=0,\\\\f_{2,6}+f_{3,5}-4\n",
    "   f_{3,6}+f_{4,6}+100.=0,\\\\f_{3,2}-4 f_{4,2}+f_{4,3}=0,\\\\f_{3,3}+f_{4,2}-4 f_{4,3}+f_{4,4}=0,\\\\f_{3,4}+f_{4,3}-4 f_{4,4}+f_{4,5}=0,\\\\f_{3,5}+f_{4,4}-4\n",
    "   f_{4,5}+f_{4,6}=0,\\\\f_{3,6}+f_{4,5}-4 f_{4,6}+70.7107=0.\n",
    "\\end{align*}\n",
    "\n",
    "El sistema de ecuaciones resultante es $A \\vec f +\\vec b= \\vec 0$ con $A$ igual a la siguiente matriz\n",
    "\n",
    "$$\n",
    "\\left(\n",
    "\\begin{array}{ccccccccccccccc}\n",
    " -4. & 1. & 0 & 0 & 0 & 1. & 0 & 0 & 0 & 0 & 0 & 0 & 0 & 0 & 0 \\\\\n",
    " 1. & -4. & 1. & 0 & 0 & 0 & 1. & 0 & 0 & 0 & 0 & 0 & 0 & 0 & 0 \\\\\n",
    " 0 & 1. & -4. & 1. & 0 & 0 & 0 & 1. & 0 & 0 & 0 & 0 & 0 & 0 & 0 \\\\\n",
    " 0 & 0 & 1. & -4. & 1. & 0 & 0 & 0 & 1. & 0 & 0 & 0 & 0 & 0 & 0 \\\\\n",
    " 0 & 0 & 0 & 1. & -4. & 0 & 0 & 0 & 0 & 1. & 0 & 0 & 0 & 0 & 0 \\\\\n",
    " 1. & 0 & 0 & 0 & 0 & -4. & 1. & 0 & 0 & 0 & 1. & 0 & 0 & 0 & 0 \\\\\n",
    " 0 & 1. & 0 & 0 & 0 & 1. & -4. & 1. & 0 & 0 & 0 & 1. & 0 & 0 & 0 \\\\\n",
    " 0 & 0 & 1. & 0 & 0 & 0 & 1. & -4. & 1. & 0 & 0 & 0 & 1. & 0 & 0 \\\\\n",
    " 0 & 0 & 0 & 1. & 0 & 0 & 0 & 1. & -4. & 1. & 0 & 0 & 0 & 1. & 0 \\\\\n",
    " 0 & 0 & 0 & 0 & 1. & 0 & 0 & 0 & 1. & -4. & 0 & 0 & 0 & 0 & 1. \\\\\n",
    " 0 & 0 & 0 & 0 & 0 & 1. & 0 & 0 & 0 & 0 & -4. & 1. & 0 & 0 & 0 \\\\\n",
    " 0 & 0 & 0 & 0 & 0 & 0 & 1. & 0 & 0 & 0 & 1. & -4. & 1. & 0 & 0 \\\\\n",
    " 0 & 0 & 0 & 0 & 0 & 0 & 0 & 1. & 0 & 0 & 0 & 1. & -4. & 1. & 0 \\\\\n",
    " 0 & 0 & 0 & 0 & 0 & 0 & 0 & 0 & 1. & 0 & 0 & 0 & 1. & -4. & 1. \\\\\n",
    " 0 & 0 & 0 & 0 & 0 & 0 & 0 & 0 & 0 & 1. & 0 & 0 & 0 & 1. & -4. \\\\\n",
    "\\end{array}\n",
    "\\right)\n",
    "$$\n",
    "y $b$ de la forma\n",
    "\n",
    "$$\n",
    "(0.,0.,0.,0.,70.7107,0.,0.,0.,0.,100.,0.,0.,0.,0.,70.7107)^T.\n",
    "$$\n",
    "\n",
    "La solución a este sistema es $\\vec f=-A^{-1}\\vec b$.\n",
    "\n",
    "\n",
    "__Tarea 20: Ejercicio 1 (Jueves 9 de Noviembre):__ Crear una rutina que construya $A$ y $\\vec b$ para este sistema. Resuelvalo utilizando la función `inv` y grafique $\\vec f$ utilizando la funcion `pcolormesh`. Recuerde que aqui $\\vec f$ es un vector, para volverlo de nuevo una matriz con entradas $f_{i,j}$ pueden usar la función `reshape`.\n",
    "\n",
    "\n",
    "\n",
    "tenemos \n",
    "$$\\nabla^2=\\frac{f_{i+1,j}+f_{i-1,j}-2f_{i,j}}{h_x^2}+\\frac{f_{i,j+1}+f_{i,j-1}-2f_{i,j}}{h_y^2}=0\n",
    "$$\n",
    "\n",
    "asumiré que los dominios son tales que $h_x=h_y$ y entonces tenemos \n",
    "\n",
    "$$\\nabla^2=f_{i+1,j}+f_{i-1,j}+f_{i,j+1}+f_{i,j-1}-4f_{i,j}$$"
   ]
  },
  {
   "cell_type": "code",
   "execution_count": 6,
   "metadata": {},
   "outputs": [],
   "source": [
    "using Plots\n",
    "using SymPy"
   ]
  },
  {
   "cell_type": "markdown",
   "metadata": {},
   "source": [
    "__ Primero defino la malla donde vamos a trabajar__"
   ]
  },
  {
   "cell_type": "code",
   "execution_count": 7,
   "metadata": {},
   "outputs": [
    {
     "data": {
      "text/latex": [
       "\\begin{bmatrix}0&70.7107&100.0&70.7107&0\\\\0&f_{1}&f_{5}&f_{9}&0\\\\0&f_{2}&f_{6}&f_{10}&0\\\\0&f_{3}&f_{7}&f_{11}&0\\\\0&f_{4}&f_{8}&f_{12}&0\\\\0&0&0&0&0\\end{bmatrix}"
      ],
      "text/plain": [
       "6×5 Array{SymPy.Sym,2}:\n",
       " 0  70.7107000000000  100.000000000000  70.7107000000000  0\n",
       " 0               f_1               f_5               f_9  0\n",
       " 0               f_2               f_6              f_10  0\n",
       " 0               f_3               f_7              f_11  0\n",
       " 0               f_4               f_8              f_12  0\n",
       " 0                 0                 0                 0  0"
      ]
     },
     "execution_count": 7,
     "metadata": {},
     "output_type": "execute_result"
    },
    {
     "name": "stderr",
     "output_type": "stream",
     "text": [
      "WARNING: Compat.UTF8String is deprecated, use String instead.\n",
      "  likely near /Users/jonathanlozano/.julia/v0.6/IJulia/src/kernel.jl:31\n",
      "WARNING: Compat.UTF8String is deprecated, use String instead.\n",
      "  likely near /Users/jonathanlozano/.julia/v0.6/IJulia/src/kernel.jl:31\n",
      "WARNING: Compat.UTF8String is deprecated, use String instead.\n",
      "  likely near /Users/jonathanlozano/.julia/v0.6/IJulia/src/kernel.jl:31\n",
      "in jprint at /Users/jonathanlozano/.julia/v0.6/SymPy/src/display.jl\n"
     ]
    }
   ],
   "source": [
    "f=[0 70.7107 100.0 70.7107  0  ; 0 Sym(\"f_1\") Sym(\"f_5\") Sym(\"f_9\") 0  ; 0 Sym(\"f_2\") Sym(\"f_6\") Sym(\"f_10\") 0;0 Sym(\"f_3\") Sym(\"f_7\") Sym(\"f_11\") 0 ;0 Sym(\"f_4\") Sym(\"f_8\") Sym(\"f_12\") 0 ;0 0 0 0 0]"
   ]
  },
  {
   "cell_type": "markdown",
   "metadata": {},
   "source": [
    "__ Ahora uso mi función que reduce un par de indices i,j a uno k.__\n",
    "\n",
    "__ Luego implemento una rutina que calcula el sistema de ecuaciones __"
   ]
  },
  {
   "cell_type": "code",
   "execution_count": 11,
   "metadata": {},
   "outputs": [],
   "source": [
    "Mvar=[]\n",
    "M=[]\n",
    "K=[]\n",
    "b=[]\n",
    "f_1,f_2,f_3,f_4,f_5,f_6,f_7,f_8,f_9,f_10,f_11,f_12=Sym(\"f_1,f_2,f_3,f_4,f_5,f_6,f_7,f_8,f_9,f_10,f_11,f_12\")\n",
    "function phi(i,j,n) #n es la dimension de los renglones\n",
    "k=i+n*(j-1)\n",
    "end    \n",
    "\n",
    "for i in 2:5\n",
    "        for j in 2:4\n",
    "            \n",
    "        push!(K,phi(i,j,6))\n",
    "        end\n",
    "    end                  #convertiré los puntos i,j en un sólo índice\n",
    "    \n",
    "for k in sort(K)                         #aquí se crea el sistema de ecuaciones\n",
    "    d=f[k+6]+f[k+1]-4f[k]+f[k-1]+f[k-6]\n",
    "     push!(Mvar,d)\n",
    "end\n",
    "#aquí definimos\n",
    "for i in 1:12                         \n",
    "    bb=Mvar[i](f_1=>0,f_2=>0,f_3=>0,f_4=>0,f_5=>0,f_6=>0,f_7=>0,f_8=>0,f_9=>0,f_10=>0,f_11=>0,f_12=>0)\n",
    "    \n",
    "     push!(b,bb)\n",
    "end"
   ]
  },
  {
   "cell_type": "code",
   "execution_count": 12,
   "metadata": {},
   "outputs": [
    {
     "data": {
      "text/plain": [
       "12-element Array{Any,1}:\n",
       "    -4*f_1 + f_2 + f_5 + 70.7107\n",
       "         f_1 - 4*f_2 + f_3 + f_6\n",
       "         f_2 - 4*f_3 + f_4 + f_7\n",
       "               f_3 - 4*f_4 + f_8\n",
       " f_1 - 4*f_5 + f_6 + f_9 + 100.0\n",
       "  f_10 + f_2 + f_5 - 4*f_6 + f_7\n",
       "  f_11 + f_3 + f_6 - 4*f_7 + f_8\n",
       "        f_12 + f_4 + f_7 - 4*f_8\n",
       "    f_10 + f_5 - 4*f_9 + 70.7107\n",
       "      -4*f_10 + f_11 + f_6 + f_9\n",
       "      f_10 - 4*f_11 + f_12 + f_7\n",
       "             f_11 - 4*f_12 + f_8"
      ]
     },
     "execution_count": 12,
     "metadata": {},
     "output_type": "execute_result"
    }
   ],
   "source": [
    "Mvar"
   ]
  },
  {
   "cell_type": "code",
   "execution_count": 13,
   "metadata": {},
   "outputs": [
    {
     "data": {
      "text/plain": [
       "12-element Array{Any,1}:\n",
       " 70.7107000000000\n",
       "                0\n",
       "                0\n",
       "                0\n",
       " 100.000000000000\n",
       "                0\n",
       "                0\n",
       "                0\n",
       " 70.7107000000000\n",
       "                0\n",
       "                0\n",
       "                0"
      ]
     },
     "execution_count": 13,
     "metadata": {},
     "output_type": "execute_result"
    }
   ],
   "source": [
    "b"
   ]
  },
  {
   "cell_type": "markdown",
   "metadata": {},
   "source": [
    "__ Para facilitar la obtencion de la matriz A, creo una función que saque el jacobiano de una funcion vectorial de $R^n \\rightarrow R^m $__"
   ]
  },
  {
   "cell_type": "code",
   "execution_count": 14,
   "metadata": {},
   "outputs": [
    {
     "data": {
      "text/plain": [
       "Jacobiano (generic function with 1 method)"
      ]
     },
     "execution_count": 14,
     "metadata": {},
     "output_type": "execute_result"
    }
   ],
   "source": [
    "function Jacobiano(f,var,n,m)\n",
    "J=zeros(n,m)\n",
    "    \n",
    "    for i in 1:n\n",
    "        for j in 1:m\n",
    "        J[i,j]=diff(f[i],var[j])\n",
    "        end\n",
    "    end\n",
    "    J\n",
    "end"
   ]
  },
  {
   "cell_type": "markdown",
   "metadata": {},
   "source": [
    "__ MATRIZ A__"
   ]
  },
  {
   "cell_type": "code",
   "execution_count": 15,
   "metadata": {
    "scrolled": true
   },
   "outputs": [
    {
     "data": {
      "text/plain": [
       "12×12 Array{Float64,2}:\n",
       " -4.0   1.0   0.0   0.0   1.0   0.0   0.0   0.0   0.0   0.0   0.0   0.0\n",
       "  1.0  -4.0   1.0   0.0   0.0   1.0   0.0   0.0   0.0   0.0   0.0   0.0\n",
       "  0.0   1.0  -4.0   1.0   0.0   0.0   1.0   0.0   0.0   0.0   0.0   0.0\n",
       "  0.0   0.0   1.0  -4.0   0.0   0.0   0.0   1.0   0.0   0.0   0.0   0.0\n",
       "  1.0   0.0   0.0   0.0  -4.0   1.0   0.0   0.0   1.0   0.0   0.0   0.0\n",
       "  0.0   1.0   0.0   0.0   1.0  -4.0   1.0   0.0   0.0   1.0   0.0   0.0\n",
       "  0.0   0.0   1.0   0.0   0.0   1.0  -4.0   1.0   0.0   0.0   1.0   0.0\n",
       "  0.0   0.0   0.0   1.0   0.0   0.0   1.0  -4.0   0.0   0.0   0.0   1.0\n",
       "  0.0   0.0   0.0   0.0   1.0   0.0   0.0   0.0  -4.0   1.0   0.0   0.0\n",
       "  0.0   0.0   0.0   0.0   0.0   1.0   0.0   0.0   1.0  -4.0   1.0   0.0\n",
       "  0.0   0.0   0.0   0.0   0.0   0.0   1.0   0.0   0.0   1.0  -4.0   1.0\n",
       "  0.0   0.0   0.0   0.0   0.0   0.0   0.0   1.0   0.0   0.0   1.0  -4.0"
      ]
     },
     "execution_count": 15,
     "metadata": {},
     "output_type": "execute_result"
    }
   ],
   "source": [
    "var=[f_1,f_2,f_3,f_4,f_5,f_6,f_7,f_8,f_9,f_10,f_11,f_12]\n",
    "A=Jacobiano(Mvar,var,12,12)"
   ]
  },
  {
   "cell_type": "code",
   "execution_count": 16,
   "metadata": {},
   "outputs": [
    {
     "data": {
      "text/plain": [
       "12×12 Array{Float64,2}:\n",
       " -0.299956    -0.100477   -0.0365268  …  -0.0287067  -0.0173881  -0.00767884\n",
       " -0.100477    -0.336483   -0.112941      -0.0494019  -0.0363855  -0.0173881 \n",
       " -0.0365268   -0.112941   -0.336483      -0.0363855  -0.0494019  -0.0287067 \n",
       " -0.0124635   -0.0365268  -0.100477      -0.0173881  -0.0287067  -0.0320139 \n",
       " -0.0993488   -0.0654248  -0.0331667     -0.0654248  -0.0331667  -0.0133273 \n",
       " -0.0654248   -0.132516   -0.0787521  …  -0.132516   -0.0787521  -0.0331667 \n",
       " -0.0331667   -0.0787521  -0.132516      -0.0787521  -0.132516   -0.0654248 \n",
       " -0.0133273   -0.0331667  -0.0654248     -0.0331667  -0.0654248  -0.0993488 \n",
       " -0.0320139   -0.0287067  -0.0173881     -0.100477   -0.0365268  -0.0124635 \n",
       " -0.0287067   -0.0494019  -0.0363855     -0.336483   -0.112941   -0.0365268 \n",
       " -0.0173881   -0.0363855  -0.0494019  …  -0.112941   -0.336483   -0.100477  \n",
       " -0.00767884  -0.0173881  -0.0287067     -0.0365268  -0.100477   -0.299956  "
      ]
     },
     "execution_count": 16,
     "metadata": {},
     "output_type": "execute_result"
    }
   ],
   "source": [
    "#Matriz inversa de A\n",
    "AI=inv(A)"
   ]
  },
  {
   "cell_type": "markdown",
   "metadata": {},
   "source": [
    "__ Solución del sistema de ecuaciones __"
   ]
  },
  {
   "cell_type": "code",
   "execution_count": 41,
   "metadata": {},
   "outputs": [
    {
     "data": {
      "text/plain": [
       "12-element Array{Float64,1}:\n",
       " 33.4087 \n",
       " 15.6772 \n",
       "  7.12903\n",
       "  2.75701\n",
       " 47.2471 \n",
       " 22.1708 \n",
       " 10.082  \n",
       "  3.899  \n",
       " 33.4087 \n",
       " 15.6772 \n",
       "  7.12903\n",
       "  2.75701"
      ]
     },
     "execution_count": 41,
     "metadata": {},
     "output_type": "execute_result"
    }
   ],
   "source": [
    "Sol=Float64.(-AI*b)"
   ]
  },
  {
   "cell_type": "code",
   "execution_count": 42,
   "metadata": {},
   "outputs": [
    {
     "data": {
      "text/plain": [
       "4×3 Array{Float64,2}:\n",
       " 33.4087   47.2471  33.4087 \n",
       " 15.6772   22.1708  15.6772 \n",
       "  7.12903  10.082    7.12903\n",
       "  2.75701   3.899    2.75701"
      ]
     },
     "execution_count": 42,
     "metadata": {},
     "output_type": "execute_result"
    }
   ],
   "source": [
    "Solucionf=reshape(Sol,(4,3))"
   ]
  },
  {
   "cell_type": "code",
   "execution_count": 78,
   "metadata": {},
   "outputs": [
    {
     "data": {
      "text/html": [
       "<img src=\"data:image/png;base64,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\" />"
      ]
     },
     "execution_count": 78,
     "metadata": {},
     "output_type": "execute_result"
    }
   ],
   "source": [
    "x=[\"1\",\"2\",\"3\"]\n",
    "y=[\"1\",\"2\",\"3\",\"4\"]\n",
    "heatmap(x,y,Solucionf,c=:black,aspect_ratio=1)"
   ]
  },
  {
   "cell_type": "markdown",
   "metadata": {},
   "source": [
    "__ Ejercicio 2 (Tarea 20):__ Resolver ecuación de Poisson unidimensional con $\\rho (x)=\\cos(x)$, en el dominio $[0,2 \\pi]$, utilizando una malla con 12 puntos. Aquí nuevamente hay 10 incognitas, sin embargo note que para el método es mas conveniente definir $\\vec f$ incluyendo las condiciones de frontera."
   ]
  },
  {
   "cell_type": "code",
   "execution_count": 90,
   "metadata": {},
   "outputs": [
    {
     "data": {
      "text/latex": [
       "\\begin{bmatrix}0&f_{1}&f_{2}&f_{3}&f_{4}&f_{5}&f_{6}&f_{7}&f_{8}&f_{9}&f_{10}&0\\end{bmatrix}"
      ],
      "text/plain": [
       "1×12 Array{SymPy.Sym,2}:\n",
       " 0  f_1  f_2  f_3  f_4  f_5  f_6  f_7  f_8  f_9  f_10  0"
      ]
     },
     "execution_count": 90,
     "metadata": {},
     "output_type": "execute_result"
    }
   ],
   "source": [
    "f=[0 f_1 f_2 f_3 f_4 f_5 f_6 f_7 f_8 f_9 f_10 0]"
   ]
  },
  {
   "cell_type": "markdown",
   "metadata": {},
   "source": [
    "De manera discreta tendrémos que \n",
    "\n",
    "\n",
    "$$f_{i+1}+f_{i-1}-2f_i-h_x\\rho_i=0$$\n",
    "\n",
    "si queremos una malla de 12 puntos entonces $h_x=\\frac{2\\pi}{11}$"
   ]
  },
  {
   "cell_type": "code",
   "execution_count": 95,
   "metadata": {},
   "outputs": [],
   "source": [
    "h=2*pi/11\n",
    "malla=linspace(0,2pi,12)\n",
    "PM=[]\n",
    "b=[]\n",
    "for i in 2:11\n",
    "    r=f[i+1]+f[i-1]-2f[i]-h*cos(malla[i])\n",
    "    push!(PM,r)\n",
    "end\n",
    "\n",
    "for i in 1:10\n",
    "    bP=PM[i](f_1=>0,f_2=>0,f_3=>0,f_4=>0,f_5=>0,f_6=>0,f_7=>0,f_8=>0,f_9=>0,f_10=>0)\n",
    "    push!(b,bP)\n",
    "end\n"
   ]
  },
  {
   "cell_type": "code",
   "execution_count": 92,
   "metadata": {},
   "outputs": [
    {
     "data": {
      "text/plain": [
       "10-element Array{Any,1}:\n",
       "       -2*f_1 + f_2 - 0.480522894281618\n",
       "  f_1 - 2*f_2 + f_3 - 0.237284500552297\n",
       "  f_2 - 2*f_3 + f_4 + 0.081290045530213\n",
       "  f_3 - 2*f_4 + f_5 + 0.374055576524896\n",
       "  f_4 - 2*f_5 + f_6 + 0.548061104923333\n",
       "  f_5 - 2*f_6 + f_7 + 0.548061104923333\n",
       "  f_6 - 2*f_7 + f_8 + 0.374055576524896\n",
       " f_7 - 2*f_8 + f_9 + 0.0812900455302132\n",
       " f_10 + f_8 - 2*f_9 - 0.237284500552297\n",
       "      -2*f_10 + f_9 - 0.480522894281618"
      ]
     },
     "execution_count": 92,
     "metadata": {},
     "output_type": "execute_result"
    }
   ],
   "source": [
    "PM"
   ]
  },
  {
   "cell_type": "code",
   "execution_count": 94,
   "metadata": {},
   "outputs": [
    {
     "data": {
      "text/plain": [
       "10×10 Array{Float64,2}:\n",
       " -2.0   1.0   0.0   0.0   0.0   0.0   0.0   0.0   0.0   0.0\n",
       "  1.0  -2.0   1.0   0.0   0.0   0.0   0.0   0.0   0.0   0.0\n",
       "  0.0   1.0  -2.0   1.0   0.0   0.0   0.0   0.0   0.0   0.0\n",
       "  0.0   0.0   1.0  -2.0   1.0   0.0   0.0   0.0   0.0   0.0\n",
       "  0.0   0.0   0.0   1.0  -2.0   1.0   0.0   0.0   0.0   0.0\n",
       "  0.0   0.0   0.0   0.0   1.0  -2.0   1.0   0.0   0.0   0.0\n",
       "  0.0   0.0   0.0   0.0   0.0   1.0  -2.0   1.0   0.0   0.0\n",
       "  0.0   0.0   0.0   0.0   0.0   0.0   1.0  -2.0   1.0   0.0\n",
       "  0.0   0.0   0.0   0.0   0.0   0.0   0.0   1.0  -2.0   1.0\n",
       "  0.0   0.0   0.0   0.0   0.0   0.0   0.0   0.0   1.0  -2.0"
      ]
     },
     "execution_count": 94,
     "metadata": {},
     "output_type": "execute_result"
    }
   ],
   "source": [
    "varP=[f_1,f_2,f_3,f_4,f_5,f_6,f_7,f_8,f_9,f_10]\n",
    "A=Jacobiano(PM,varP,10,10)"
   ]
  },
  {
   "cell_type": "code",
   "execution_count": 96,
   "metadata": {},
   "outputs": [
    {
     "data": {
      "text/plain": [
       "10-element Array{Any,1}:\n",
       " -0.480522894281618\n",
       " -0.237284500552297\n",
       " 0.0812900455302130\n",
       "  0.374055576524896\n",
       "  0.548061104923333\n",
       "  0.548061104923333\n",
       "  0.374055576524896\n",
       " 0.0812900455302132\n",
       " -0.237284500552297\n",
       " -0.480522894281618"
      ]
     },
     "execution_count": 96,
     "metadata": {},
     "output_type": "execute_result"
    }
   ],
   "source": [
    "b"
   ]
  },
  {
   "cell_type": "code",
   "execution_count": 97,
   "metadata": {},
   "outputs": [
    {
     "data": {
      "text/plain": [
       "10×10 Array{Float64,2}:\n",
       " -0.909091   -0.818182  -0.727273  …  -0.272727  -0.181818  -0.0909091\n",
       " -0.818182   -1.63636   -1.45455      -0.545455  -0.363636  -0.181818 \n",
       " -0.727273   -1.45455   -2.18182      -0.818182  -0.545455  -0.272727 \n",
       " -0.636364   -1.27273   -1.90909      -1.09091   -0.727273  -0.363636 \n",
       " -0.545455   -1.09091   -1.63636      -1.36364   -0.909091  -0.454545 \n",
       " -0.454545   -0.909091  -1.36364   …  -1.63636   -1.09091   -0.545455 \n",
       " -0.363636   -0.727273  -1.09091      -1.90909   -1.27273   -0.636364 \n",
       " -0.272727   -0.545455  -0.818182     -2.18182   -1.45455   -0.727273 \n",
       " -0.181818   -0.363636  -0.545455     -1.45455   -1.63636   -0.818182 \n",
       " -0.0909091  -0.181818  -0.272727     -0.727273  -0.818182  -0.909091 "
      ]
     },
     "execution_count": 97,
     "metadata": {},
     "output_type": "execute_result"
    }
   ],
   "source": [
    "AIP=inv(A)"
   ]
  },
  {
   "cell_type": "code",
   "execution_count": 99,
   "metadata": {},
   "outputs": [
    {
     "data": {
      "text/plain": [
       "10-element Array{Float64,1}:\n",
       " 0.285599\n",
       " 1.05172 \n",
       " 2.05513 \n",
       " 2.97724 \n",
       " 3.52531 \n",
       " 3.52531 \n",
       " 2.97724 \n",
       " 2.05513 \n",
       " 1.05172 \n",
       " 0.285599"
      ]
     },
     "execution_count": 99,
     "metadata": {},
     "output_type": "execute_result"
    }
   ],
   "source": [
    "Sol=Float64.(-AIP*b)"
   ]
  },
  {
   "cell_type": "code",
   "execution_count": 118,
   "metadata": {},
   "outputs": [
    {
     "data": {
      "text/plain": [
       "1×10 Array{Float64,2}:\n",
       " 0.285599  1.05172  2.05513  2.97724  …  2.97724  2.05513  1.05172  0.285599"
      ]
     },
     "execution_count": 118,
     "metadata": {},
     "output_type": "execute_result"
    }
   ],
   "source": [
    "Poisson=reshape(Sol,(1,10))\n",
    "\n",
    "P=zeros(3,10)\n",
    "P[1,:]=Poisson"
   ]
  },
  {
   "cell_type": "markdown",
   "metadata": {},
   "source": [
    "__ Aquí no era necesario hacer el mapeo, sin embargo podemos definir una matriz con el primer reglon igual a la solucion de f y todos las demás entradas iguales a 0 para poder visualizar la barra de valores de f en la malla__"
   ]
  },
  {
   "cell_type": "code",
   "execution_count": 119,
   "metadata": {},
   "outputs": [
    {
     "data": {
      "text/html": [
       "<img src=\"data:image/png;base64,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\" />"
      ]
     },
     "execution_count": 119,
     "metadata": {},
     "output_type": "execute_result"
    }
   ],
   "source": [
    "heatmap(P,aspect_ratio=1)   "
   ]
  },
  {
   "cell_type": "markdown",
   "metadata": {},
   "source": [
    "__Ejercicio 3 (Subir mínimo un avance el Jueves 9 de Noviembre, dentro de la Tarea 20):__ Resolver ecuación de calor en una dimensión, en el dominio $[0,1]$, con $f(0)=10$, $f(1)=0$, en una malla con 12 puntos. Aqui obviamente habrá 10 incognitas: $f_1, \\dots, f_{10}$. La condición inicial que deberán usar es $\\vec f^{[0]}=(5,4,3,2,1,3,5,7,7,8)^{\\text{T}}$.\n",
    "* Utilizando método de Euler.\n",
    "* Utilizando Runge-Kutta de orden 4.\n",
    "* Puede hacer este ejercicio construyendo $A$ y $\\vec b$, para así utilizar las rutinas que ya tienen de RK4 y Euler, noten que aqui $A\\vec f +\\vec b$ define la función del sistema dinámico de $n=10$ dimensiones.\n",
    "* La otra opción es implementar una rutina que aplique el laplaciano discreto a $\\vec f$, digamos $\\vec r= D_{h_x}[\\vec f]$, de esta forma es facil construir la función que define el sistema dinámico en cada paso.\n",
    "* Graficar en varios tiempos (no en todos en caso de que hagan una partición grande, solo los primeros tiempos y los últimos)."
   ]
  },
  {
   "cell_type": "markdown",
   "metadata": {},
   "source": [
    "Discretizando tenemos que $$f_{i+1}+f_{i-1}-2f_i-h_x\\frac{df_i}{dt}=0$$ \n",
    "\n",
    "\n",
    "todas funciones de t que definen un sistema de ecuaciones differenciales que resolveremos usando el método de Runge Kutta o el de Euler."
   ]
  },
  {
   "cell_type": "code",
   "execution_count": 150,
   "metadata": {},
   "outputs": [],
   "source": [
    "h=1/11\n",
    "malla=linspace(0,1,12)\n",
    "PM=[]\n",
    "b=[]\n",
    "df_1,df_2,df_3,df_4,df_5,df_6,df_7,df_8,df_9,df_10=Sym(\"df_1,df_2,df_3,df_4,df_5,df_6,df_7,df_8,df_9,df_10\")\n",
    "#df=[df_1 df_2 df_3 df_4 df_5 df_6 df_7 df_8 df_9 df_10]\n",
    "f=[10 f_1 f_2 f_3 f_4 f_5 f_6 f_7 f_8 f_9 f_10 0]\n",
    "\n",
    "for i in 2:11\n",
    "    r=(f[i+1]+f[i-1]-2f[i])/h\n",
    "    push!(PM,r)\n",
    "end\n",
    "\n",
    "for i in 1:10\n",
    "    bP=PM[i](f_1=>0,f_2=>0,f_3=>0,f_4=>0,f_5=>0,f_6=>0,f_7=>0,f_8=>0,f_9=>0,f_10=>0)\n",
    "    push!(b,bP)\n",
    "end\n",
    "\n",
    "\n",
    "    \n",
    "    "
   ]
  },
  {
   "cell_type": "markdown",
   "metadata": {},
   "source": [
    "__ Primero obtenemos el sistema de ecuaciones diferenciales para despues usar Runge Kutta__"
   ]
  },
  {
   "cell_type": "code",
   "execution_count": 213,
   "metadata": {},
   "outputs": [
    {
     "data": {
      "text/plain": [
       "10-element Array{Any,1}:\n",
       "    -22.0*f_1 + 11.0*f_2 + 110.0\n",
       "  11.0*f_1 - 22.0*f_2 + 11.0*f_3\n",
       "  11.0*f_2 - 22.0*f_3 + 11.0*f_4\n",
       "  11.0*f_3 - 22.0*f_4 + 11.0*f_5\n",
       "  11.0*f_4 - 22.0*f_5 + 11.0*f_6\n",
       "  11.0*f_5 - 22.0*f_6 + 11.0*f_7\n",
       "  11.0*f_6 - 22.0*f_7 + 11.0*f_8\n",
       "  11.0*f_7 - 22.0*f_8 + 11.0*f_9\n",
       " 11.0*f_10 + 11.0*f_8 - 22.0*f_9\n",
       "           -22.0*f_10 + 11.0*f_9"
      ]
     },
     "execution_count": 213,
     "metadata": {},
     "output_type": "execute_result"
    }
   ],
   "source": [
    "varP=[f_1,f_2,f_3,f_4,f_5,f_6,f_7,f_8,f_9,f_10];\n",
    "PM"
   ]
  },
  {
   "cell_type": "code",
   "execution_count": 198,
   "metadata": {},
   "outputs": [
    {
     "data": {
      "text/plain": [
       "S (generic function with 1 method)"
      ]
     },
     "execution_count": 198,
     "metadata": {},
     "output_type": "execute_result"
    }
   ],
   "source": [
    "XI=[5.0,4.0,3.0,2.0,1.0,3.0,5.0,7.0,7.0,8.0]\n",
    "S(x,t)=[-22.0*x[1]+11.0*x[2]+110.0,11.0*x[1]-22.0*x[2]+11.0*x[3],\n",
    "    11.0*x[2] - 22.0*x[3] + 11.0*x[4],11.0*x[3] - 22.0*x[4] + 11.0*x[5],\n",
    "    11.0*x[4] - 22.0*x[5] + 11.0*x[6],11.0*x[5] - 22.0*x[6] + 11.0*x[7],\n",
    "    11.0*x[6] - 22.0*x[7] + 11.0*x[8],11.0*x[7] - 22.0*x[8] + 11.0*x[9],\n",
    "    11.0*x[10] + 11.0*x[8] - 22.0*x[9],-22.0*x[10] + 11.0*x[9]]"
   ]
  },
  {
   "cell_type": "markdown",
   "metadata": {},
   "source": [
    "__ Una vez definida la funcion e importadas las herramientas aplicamos el método, la salida de datos se puede interpretar como un arreglo de arreglos, la primera salida del arreglo el el intervalo t, la segunda salida es un arreglo de arreglos en el cada arreglo contiene el valor de cada variable a un tiempo dado t. Es decir, el primer arreglo de la segunda salida tiene los valores de cada funcion f al tiempo t=0. Así que a cada arreglo de la segunda salida le corresponde un tiempo dado y un heatmap. :) __"
   ]
  },
  {
   "cell_type": "code",
   "execution_count": 199,
   "metadata": {},
   "outputs": [
    {
     "name": "stderr",
     "output_type": "stream",
     "text": [
      "WARNING: replacing module herramientas\n"
     ]
    },
    {
     "data": {
      "text/plain": [
       "herramientas"
      ]
     },
     "execution_count": 199,
     "metadata": {},
     "output_type": "execute_result"
    }
   ],
   "source": [
    "include(\"herramientas.jl\")"
   ]
  },
  {
   "cell_type": "code",
   "execution_count": 294,
   "metadata": {},
   "outputs": [],
   "source": [
    "CALOR=herramientas.RungeKutta4th(S,XI,0.0,2*pi,0.01);"
   ]
  },
  {
   "cell_type": "code",
   "execution_count": 278,
   "metadata": {},
   "outputs": [
    {
     "data": {
      "text/plain": [
       "10-element Array{Float64,1}:\n",
       " 5.0\n",
       " 4.0\n",
       " 3.0\n",
       " 2.0\n",
       " 1.0\n",
       " 3.0\n",
       " 5.0\n",
       " 7.0\n",
       " 7.0\n",
       " 8.0"
      ]
     },
     "execution_count": 278,
     "metadata": {},
     "output_type": "execute_result"
    }
   ],
   "source": [
    "#por ejemplo, la segunda salida arreglo 1 es naturalmente la condicion inicial para cada variable\n",
    "CALOR[2][1]"
   ]
  },
  {
   "cell_type": "code",
   "execution_count": 279,
   "metadata": {},
   "outputs": [],
   "source": [
    "Mapeos=[]\n",
    "for i in 3:10:63\n",
    "    w=reshape(CALOR[2][i],(1,10))\n",
    "    wM=zeros(3,10)\n",
    "    wM[1,:]=w\n",
    "    push!(Mapeos,wM)\n",
    "end      "
   ]
  },
  {
   "cell_type": "markdown",
   "metadata": {},
   "source": [
    "__ Runge kutta cuarto orden __"
   ]
  },
  {
   "cell_type": "code",
   "execution_count": 280,
   "metadata": {},
   "outputs": [
    {
     "data": {
      "text/html": [
       "<img src=\"data:image/png;base64,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\" />"
      ]
     },
     "execution_count": 280,
     "metadata": {},
     "output_type": "execute_result"
    }
   ],
   "source": [
    "heatmap(Mapeos[1],c=:heat)"
   ]
  },
  {
   "cell_type": "code",
   "execution_count": 281,
   "metadata": {},
   "outputs": [
    {
     "data": {
      "text/html": [
       "<img src=\"data:image/png;base64,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\" />"
      ]
     },
     "execution_count": 281,
     "metadata": {},
     "output_type": "execute_result"
    }
   ],
   "source": [
    "heatmap(Mapeos[2],c=:heat)"
   ]
  },
  {
   "cell_type": "code",
   "execution_count": 282,
   "metadata": {},
   "outputs": [
    {
     "data": {
      "text/html": [
       "<img src=\"data:image/png;base64,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\" />"
      ]
     },
     "execution_count": 282,
     "metadata": {},
     "output_type": "execute_result"
    }
   ],
   "source": [
    "heatmap(Mapeos[5],c=:heat)"
   ]
  },
  {
   "cell_type": "code",
   "execution_count": 283,
   "metadata": {},
   "outputs": [
    {
     "data": {
      "text/html": [
       "<img src=\"data:image/png;base64,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\" />"
      ]
     },
     "execution_count": 283,
     "metadata": {},
     "output_type": "execute_result"
    }
   ],
   "source": [
    "heatmap(Mapeos[7],c=:heat)"
   ]
  },
  {
   "cell_type": "markdown",
   "metadata": {},
   "source": [
    "__ Metodo de Euler __"
   ]
  },
  {
   "cell_type": "code",
   "execution_count": 292,
   "metadata": {},
   "outputs": [],
   "source": [
    "CALOR=herramientas.MetodoEuler(S,XI,0,2pi,0.01);\n",
    "\n",
    "Mapeos=[]\n",
    "for i in 3:10:63\n",
    "    w=reshape(CALOR[2][i],(1,10))\n",
    "    wM=zeros(3,10)\n",
    "    wM[1,:]=w\n",
    "    push!(Mapeos,wM)\n",
    "end      "
   ]
  },
  {
   "cell_type": "code",
   "execution_count": 285,
   "metadata": {},
   "outputs": [
    {
     "data": {
      "text/html": [
       "<img src=\"data:image/png;base64,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\" />"
      ]
     },
     "execution_count": 285,
     "metadata": {},
     "output_type": "execute_result"
    }
   ],
   "source": [
    "heatmap(Mapeos[1],c=:heat)"
   ]
  },
  {
   "cell_type": "code",
   "execution_count": 286,
   "metadata": {},
   "outputs": [
    {
     "data": {
      "text/html": [
       "<img src=\"data:image/png;base64,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\" />"
      ]
     },
     "execution_count": 286,
     "metadata": {},
     "output_type": "execute_result"
    }
   ],
   "source": [
    "heatmap(Mapeos[2],c=:heat)"
   ]
  },
  {
   "cell_type": "code",
   "execution_count": 287,
   "metadata": {},
   "outputs": [
    {
     "data": {
      "text/html": [
       "<img src=\"data:image/png;base64,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\" />"
      ]
     },
     "execution_count": 287,
     "metadata": {},
     "output_type": "execute_result"
    }
   ],
   "source": [
    "heatmap(Mapeos[5],c=:heat)"
   ]
  },
  {
   "cell_type": "code",
   "execution_count": 288,
   "metadata": {},
   "outputs": [
    {
     "data": {
      "text/html": [
       "<img src=\"data:image/png;base64,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\" />"
      ]
     },
     "execution_count": 288,
     "metadata": {},
     "output_type": "execute_result"
    }
   ],
   "source": [
    "heatmap(Mapeos[7],c=:heat)"
   ]
  },
  {
   "cell_type": "code",
   "execution_count": null,
   "metadata": {},
   "outputs": [],
   "source": []
  },
  {
   "cell_type": "code",
   "execution_count": null,
   "metadata": {
    "collapsed": true
   },
   "outputs": [],
   "source": []
  }
 ],
 "metadata": {
  "kernelspec": {
   "display_name": "Julia 0.6.0",
   "language": "julia",
   "name": "julia-0.6"
  },
  "language_info": {
   "file_extension": ".jl",
   "mimetype": "application/julia",
   "name": "julia",
   "version": "0.6.0"
  }
 },
 "nbformat": 4,
 "nbformat_minor": 2
}
