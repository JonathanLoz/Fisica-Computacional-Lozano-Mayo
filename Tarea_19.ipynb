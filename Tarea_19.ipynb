{
 "cells": [
  {
   "cell_type": "markdown",
   "metadata": {},
   "source": [
    "## Tarea 19"
   ]
  },
  {
   "cell_type": "code",
   "execution_count": 2,
   "metadata": {
    "collapsed": true
   },
   "outputs": [],
   "source": [
    "using Plots"
   ]
  },
  {
   "cell_type": "markdown",
   "metadata": {},
   "source": [
    "__Ejercicio1__: Escriba la forma del operador laplaciano utilizando diferencias finitas simétricas. Es decir, discretice: $\\nabla^2=\\frac{\\partial^2 f}{\\partial x^2}+\\frac{\\partial^2 f}{\\partial y^2}+\\frac{\\partial^2 f}{\\partial z^2}$\n",
    "\n",
    "\n",
    "\n",
    "Sabemos que la discretización simétrica de la primera derivada es la siguiente\n",
    "\n",
    "\n",
    "haciendo una expansión en taylor de f entonces tenemos \n",
    "\n",
    "$$ f(x+\\Delta x)=f(x)+f^{(1)}(x)\\Delta x+\\frac{1}{2}f^{(2)}\\Delta x^2+O(3)$$\n",
    "\n",
    "\n",
    "$$ f(x-\\Delta x)=f(x)-f^{(1)}(x)\\Delta x+\\frac{1}{2}f^{(2)}\\Delta x^2+O(3)$$\n",
    "\n",
    "\n",
    "$$ f(x+\\Delta x)+f(x-\\Delta x)=2f(x)+f^{(2)}\\Delta x^2$$\n",
    "\n",
    "y entonces se tiene \n",
    "\n",
    "$$f^{(2)}=\\frac{f(x+\\Delta x)+f(x-\\Delta x)-2f(x)}{\\Delta x^2}$$\n",
    "\n",
    "\n",
    "Usando este resultado entonces tenemos que el laplaciano discretizado es\n",
    "$$\\nabla^2=\\frac{f(x_{i+1},y,z)+f(x_{i-1},y,z)-2f(x_i,y,z)}{h_x}+\\frac{f(x,y_{j+1},z)+f(x,y_{j-1},z)-2f(x,y_j,z)}{h_y}+\\frac{f(x,y,z_{k+1})+f(x,y,z_{k-1})-2f(x,y,z_i)}{h_z}\n",
    "$$\n"
   ]
  },
  {
   "cell_type": "markdown",
   "metadata": {},
   "source": [
    "__Ejercicio 2 (condiciones a la frontera de Dirichlet)__. Discretice la ecuación \n",
    "$$ \\frac{d^2f}{dx^2}, $$\n",
    "en el intervalo $[0,1]$, y aplicando el operador laplaciano discretizado obtenga el sistema de ecuaciones algebraicas lineales correspondientes al problema de _Dirichlet_:\n",
    "$f(0) = a$ y $f(1) = b$ dividiendo el intervalo $[0,1]$ en $5$ puntos separados por $h$.\n",
    "\n",
    "* Escriba el sistema lineal de ecuaciones que surge, usando $\\LaTeX$ en el _notebook_ de la tarea que sigue."
   ]
  },
  {
   "cell_type": "markdown",
   "metadata": {},
   "source": [
    "Tengo que  $$ \\frac{d^2f}{dx^2}=\\frac{f(x_{i+1})+f(x_{i-1})-2f(x_i)}{h_x} $$\n",
    "\n",
    "\n",
    "donde el intervlo $[0,1]$ queda partido de tal manera que haya 5 puntos con espacio h en el intervalo de modo que $h$=$\\frac{1}{4}$ y también tenemos que usando se debe cumplir la siguiente ecuación\n",
    "\n",
    "$$f(x_{i+1})+f(x_{i-1})-2f(x_i)=0$$\n",
    "\n",
    "De modo que \n",
    "\n",
    "\n",
    "\\begin{align}\n",
    "b+f_2-2f_3&=0\\\\\n",
    "f_3+f_1-2f_2&=0\\\\\n",
    "f_2+a-2f_1&=0\\\\\n",
    "\\end{align}"
   ]
  },
  {
   "cell_type": "markdown",
   "metadata": {},
   "source": [
    "__Ejercicio 3 (condiciones a la frontera de Neumann)__. Hacer lo mismo para condiciones de _Neumann_, es decir, fijando en los extremos el valor de la primera derivada de la función. Para esto utilice la derivada _hacia adeltante_ en las orillas, es decir, si $f'(0)=a$ y $f'(1)=b$, entonces $(f_1-f_0)/h=a$, etc. No olvide que debe resultar un sistema de ecuación cuya dimensión sea el número de incognitas.\n",
    "\n",
    "* Escriba el sistema lineal de ecuaciones que surge, usando $\\LaTeX$ en el _notebook_ de la tarea que sigue."
   ]
  },
  {
   "cell_type": "markdown",
   "metadata": {},
   "source": [
    "Esta vez tenemos el sistema \n",
    "\n",
    "\\begin{align}\n",
    "f_4+f_2-2f_3&=0\\\\\n",
    "f_3+f_1-2f_2&=0\\\\\n",
    "f_2+f_0-2f_1&=0\\\\\n",
    "\\end{align}\n",
    "\n",
    "con las condiciones de frontera $f'(1)=b$ y $f'(0)=a$ además de que usando la derivada hacia\n",
    "adelante tenemos la derivada adelante y hacia atrás \n",
    "\n",
    "$$ f'_i=\\frac{f_{i+1}-f_i}{h}$$ \n",
    "\n",
    "$$ f'_i=\\frac{f_{i-1}-f_i}{h}$$\n",
    "\n",
    "\n",
    "así debe cumplirse \n",
    "\n",
    "$$b=\\frac{f_3-f_4}{h}$$\n",
    "\n",
    "$$a=\\frac{f_1-f_0}{h}$$\n",
    "\n",
    "despejando se tiene que\n",
    "\n",
    "$$bh+f_4=f_3$$\n",
    "\n",
    "$$ah+f_0=f_1$$\n",
    "\n",
    "sustituyendo en el sistema de ecuaiones tenemos los siguiente\n",
    "\n",
    "\\begin{align}\n",
    "f_4+f_2-2(bh+f_4)&=0\\\\\n",
    "bh+f_4+ah+f_0-2f_2&=0\\\\\n",
    "f_2+f_0-2(ah+f_0)&=0\\\\\n",
    "\\end{align}\n",
    "\n"
   ]
  },
  {
   "cell_type": "markdown",
   "metadata": {},
   "source": [
    "__Ejercicio 4 (indexación)__. `Julia` es más eficiente\n",
    "si se utiliza un único índice para acceder a los elementos\n",
    "de una matriz, además que puede simplificar algunos problemas. Escribe una función $\\phi$ que traduzca un par de\n",
    "índices $i,j$ a un único índice $k$, es decir:\n",
    "$$\\phi: (i,j) \\mapsto k.$$\n",
    "También encuentren $\\phi^{-1}$. Note que $\\phi$ deberá depender de las dimensiones del arreglo, por lo menos de una de ellas."
   ]
  },
  {
   "cell_type": "code",
   "execution_count": 1,
   "metadata": {
    "scrolled": true
   },
   "outputs": [
    {
     "data": {
      "text/plain": [
       "4×4 Array{Float64,2}:\n",
       " 0.984776  0.18425    0.172309   0.68044 \n",
       " 0.577392  0.0241853  0.0956906  0.122035\n",
       " 0.928905  0.101753   0.0513366  0.700503\n",
       " 0.412805  0.400213   0.33076    0.294671"
      ]
     },
     "execution_count": 1,
     "metadata": {},
     "output_type": "execute_result"
    }
   ],
   "source": [
    "A=rand(4,4)"
   ]
  },
  {
   "cell_type": "markdown",
   "metadata": {},
   "source": [
    "La función $\\phi$ que defino a continuación hace lo mismo que Julia al usar un sólo indice en los arreglos, es decir, lee las columas de arriba hacia abajo numerando los elementos luego salta de columna y continua numerando.\n"
   ]
  },
  {
   "cell_type": "code",
   "execution_count": 2,
   "metadata": {},
   "outputs": [
    {
     "data": {
      "text/plain": [
       "phi (generic function with 1 method)"
      ]
     },
     "execution_count": 2,
     "metadata": {},
     "output_type": "execute_result"
    }
   ],
   "source": [
    "function phi(i,j,n) #n es la dimension de los renglones\n",
    "k=i+n*(j-1)\n",
    "end    "
   ]
  },
  {
   "cell_type": "code",
   "execution_count": 26,
   "metadata": {},
   "outputs": [
    {
     "data": {
      "text/plain": [
       "phi_inversa (generic function with 1 method)"
      ]
     },
     "execution_count": 26,
     "metadata": {},
     "output_type": "execute_result"
    }
   ],
   "source": [
    "function phi_inversa(k,n) #n es la dimesion de los renglones\n",
    "   if k%n==0\n",
    "        j=k/n\n",
    "        i=k-n*(j-1)\n",
    "    end\n",
    "    if k%n != 0 && k>n\n",
    "        s=k\n",
    "        while s%n != 0 \n",
    "            s=s-1\n",
    "        end\n",
    "        j=s/n+1\n",
    "        i=k-n*(j-1)\n",
    "        end\n",
    "        if k<=n\n",
    "        j=1\n",
    "        i=k\n",
    "    end\n",
    "    return Int(i),Int(j)\n",
    "end"
   ]
  },
  {
   "cell_type": "code",
   "execution_count": 33,
   "metadata": {},
   "outputs": [
    {
     "data": {
      "text/plain": [
       "47"
      ]
     },
     "execution_count": 33,
     "metadata": {},
     "output_type": "execute_result"
    }
   ],
   "source": [
    "phi(3,12,4)"
   ]
  },
  {
   "cell_type": "code",
   "execution_count": 34,
   "metadata": {},
   "outputs": [
    {
     "data": {
      "text/plain": [
       "(3, 12)"
      ]
     },
     "execution_count": 34,
     "metadata": {},
     "output_type": "execute_result"
    }
   ],
   "source": [
    "phi_inversa(47,4)"
   ]
  },
  {
   "cell_type": "code",
   "execution_count": null,
   "metadata": {},
   "outputs": [],
   "source": []
  },
  {
   "cell_type": "code",
   "execution_count": null,
   "metadata": {},
   "outputs": [],
   "source": []
  },
  {
   "cell_type": "code",
   "execution_count": null,
   "metadata": {
    "collapsed": true
   },
   "outputs": [],
   "source": []
  }
 ],
 "metadata": {
  "kernelspec": {
   "display_name": "Julia 0.6.0",
   "language": "julia",
   "name": "julia-0.6"
  },
  "language_info": {
   "file_extension": ".jl",
   "mimetype": "application/julia",
   "name": "julia",
   "version": "0.6.0"
  }
 },
 "nbformat": 4,
 "nbformat_minor": 2
}
