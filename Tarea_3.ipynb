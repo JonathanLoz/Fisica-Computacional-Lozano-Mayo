{
 "cells": [
  {
   "cell_type": "code",
   "execution_count": 1,
   "metadata": {},
   "outputs": [
    {
     "data": {
      "text/plain": [
       "Newtonwhile (generic function with 1 method)"
      ]
     },
     "execution_count": 1,
     "metadata": {},
     "output_type": "execute_result"
    }
   ],
   "source": [
    "\n",
    "df(x,y0)=tan(x)+x*sec(x)^2+x/sqrt(y0-x^2)\n",
    "f(x,y0)=x*tan(x)-sqrt(y0-x^2)\n",
    "Aprox=[]\n",
    "\n",
    "function Newtonwhile(y0,x,f,df,tolerancia)\n",
    "    while abs(f(x,y0))>tolerancia\n",
    "        x=x-f(x,y0)/df(x,y0)\n",
    "        push!(Aprox,x)\n",
    "        end\n",
    "    Aprox,x,f(x,y0) \n",
    "    x\n",
    "end        "
   ]
  },
  {
   "cell_type": "code",
   "execution_count": 2,
   "metadata": {},
   "outputs": [
    {
     "data": {
      "text/plain": [
       "3.8913897228883787"
      ]
     },
     "execution_count": 2,
     "metadata": {},
     "output_type": "execute_result"
    }
   ],
   "source": [
    "Newtonwhile(9*pi,1,f,df,1e-5)"
   ]
  },
  {
   "cell_type": "code",
   "execution_count": null,
   "metadata": {
    "collapsed": true
   },
   "outputs": [],
   "source": []
  }
 ],
 "metadata": {
  "kernelspec": {
   "display_name": "Julia 0.5.2",
   "language": "julia",
   "name": "julia-0.5"
  },
  "language_info": {
   "file_extension": ".jl",
   "mimetype": "application/julia",
   "name": "julia",
   "version": "0.5.2"
  }
 },
 "nbformat": 4,
 "nbformat_minor": 2
}
