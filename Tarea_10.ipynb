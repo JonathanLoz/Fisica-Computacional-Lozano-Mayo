{
 "cells": [
  {
   "cell_type": "markdown",
   "metadata": {},
   "source": [
    "## Tarea 10"
   ]
  },
  {
   "cell_type": "code",
   "execution_count": 2,
   "metadata": {
    "scrolled": true
   },
   "outputs": [
    {
     "name": "stderr",
     "output_type": "stream",
     "text": [
      "WARNING: Compat.UTF8String is deprecated, use String instead.\n",
      "  likely near /Users/jonathanlozano/.julia/v0.6/Plots/src/series.jl:91\n",
      "WARNING: Compat.UTF8String is deprecated, use String instead.\n",
      "  likely near /Users/jonathanlozano/.julia/v0.6/Plots/src/series.jl:91\n"
     ]
    }
   ],
   "source": [
    "using SymPy\n",
    "using Plots"
   ]
  },
  {
   "cell_type": "markdown",
   "metadata": {},
   "source": [
    "Como vamos a usar la expansión en Taylor del operador derivada primero crearemos funciones que nos den los coeficientes correspondientes de cada termino de la serie así como funciones auxiliares que nos facilitaran implementar la derivada. Asímismo usaremos tanto valores simbolicos como flotantes de Julia para poder detectar como es la serie que obtenemos y ver el error."
   ]
  },
  {
   "cell_type": "code",
   "execution_count": 62,
   "metadata": {},
   "outputs": [
    {
     "data": {
      "text/plain": [
       "diferencia_finita_simetrica (generic function with 1 method)"
      ]
     },
     "execution_count": 62,
     "metadata": {},
     "output_type": "execute_result"
    }
   ],
   "source": [
    "function coeficiente_taylor_asinh(i)\n",
    "x=Sym(\"x\");\n",
    "h=Sym(\"h\");\n",
    "N(subs(diff(asinh(x/2),x,i)/factorial(Float64(i)),x=>0))\n",
    "end\n",
    "function coeficiente_taylor_asinh_simbolico(i)\n",
    "x=Sym(\"x\");\n",
    "h=Sym(\"h\");\n",
    "subs(diff(asinh(x/2),x,i)/factorial(i),x=>0)\n",
    "end\n",
    "\n",
    "function diferencia_finita_simetrica(f)\n",
    "    return (x,h)->f(x+h,h)-f(x-h,h)\n",
    "end\n",
    "#Aquí usé practicamente el código del notebook, N es una función que nos permite evaluar numericamente una funcion simbolica mientras que subs nos permite sustituir una variable en la función dada\n"
   ]
  },
  {
   "cell_type": "code",
   "execution_count": 63,
   "metadata": {},
   "outputs": [
    {
     "data": {
      "text/plain": [
       "f"
      ]
     },
     "execution_count": 63,
     "metadata": {},
     "output_type": "execute_result"
    }
   ],
   "source": [
    "f=SymFunction(\"f\")"
   ]
  },
  {
   "cell_type": "code",
   "execution_count": 64,
   "metadata": {},
   "outputs": [
    {
     "data": {
      "text/plain": [
       "derivada_orden_simbolico (generic function with 1 method)"
      ]
     },
     "execution_count": 64,
     "metadata": {},
     "output_type": "execute_result"
    }
   ],
   "source": [
    "function derivada_orden(f,x,h,orden)\n",
    "    F(x,h)=f(x)\n",
    "    df=0\n",
    "    for i in 1:orden\n",
    "        F=diferencia_finita_simetrica(F)\n",
    "        df=df+coeficiente_taylor_asinh(i)*F(x,h)\n",
    "    end\n",
    "    return df/h\n",
    "end\n",
    "\n",
    "function derivada_orden_simbolico(f,x,h,orden)\n",
    "    F(x,h)=f(x)\n",
    "    df=0\n",
    "    for i in 1:orden\n",
    "        F=diferencia_finita_simetrica(F)\n",
    "        df=df+coeficiente_taylor_asinh_simbolico(i)*F(x,h)\n",
    "    end\n",
    "    return df/h\n",
    "end"
   ]
  },
  {
   "cell_type": "markdown",
   "metadata": {},
   "source": [
    "$Test$"
   ]
  },
  {
   "cell_type": "code",
   "execution_count": 92,
   "metadata": {},
   "outputs": [
    {
     "data": {
      "text/plain": [
       "0.5440211108893371"
      ]
     },
     "execution_count": 92,
     "metadata": {},
     "output_type": "execute_result"
    }
   ],
   "source": [
    "derivada_orden(cos,10,0.01,6)"
   ]
  },
  {
   "cell_type": "code",
   "execution_count": 93,
   "metadata": {},
   "outputs": [
    {
     "data": {
      "text/plain": [
       "0.5440211108893698"
      ]
     },
     "execution_count": 93,
     "metadata": {},
     "output_type": "execute_result"
    }
   ],
   "source": [
    "-sin(10.0)"
   ]
  },
  {
   "cell_type": "code",
   "execution_count": 94,
   "metadata": {},
   "outputs": [
    {
     "data": {
      "text/latex": [
       "$$\\frac{1}{h} \\left(- \\frac{1}{2} f{\\left (- h + x \\right )} + \\frac{1}{2} f{\\left (h + x \\right )}\\right)$$"
      ],
      "text/plain": [
       "  f(-h + x)   f(h + x)\n",
       "- --------- + --------\n",
       "      2          2    \n",
       "----------------------\n",
       "          h           "
      ]
     },
     "execution_count": 94,
     "metadata": {},
     "output_type": "execute_result"
    }
   ],
   "source": [
    "aprox=derivada_orden_simbolico(SymFunction(\"f\"),Sym(\"x\"),Sym(\"h\"),2)"
   ]
  },
  {
   "cell_type": "code",
   "execution_count": 95,
   "metadata": {},
   "outputs": [
    {
     "data": {
      "text/latex": [
       "$$\\left. \\frac{d}{d \\xi_{1}} f{\\left (\\xi_{1} \\right )} \\right|_{\\substack{ \\xi_{1}=x }} + \\frac{h^{2}}{6} \\left. \\frac{d^{3}}{d \\xi_{1}^{3}}  f{\\left (\\xi_{1} \\right )} \\right|_{\\substack{ \\xi_{1}=x }} + \\frac{h^{4}}{120} \\left. \\frac{d^{5}}{d \\xi_{1}^{5}}  f{\\left (\\xi_{1} \\right )} \\right|_{\\substack{ \\xi_{1}=x }} + \\mathcal{O}\\left(h^{6}\\right)$$"
      ],
      "text/plain": [
       "                             /   3           \\|            /   5           \\| \n",
       "                           2 |  d            ||          4 |  d            || \n",
       "                          h *|------(f(xi_1))||         h *|------(f(xi_1))|| \n",
       "                             |     3         ||            |     5         || \n",
       "/  d           \\|            \\dxi_1          /|xi_1=x      \\dxi_1          /|x\n",
       "|-----(f(xi_1))||       + --------------------------- + ----------------------\n",
       "\\dxi_1         /|xi_1=x                6                            120       \n",
       "\n",
       "             \n",
       "             \n",
       "             \n",
       "             \n",
       "i_1=x    / 6\\\n",
       "----- + O\\h /\n",
       "             "
      ]
     },
     "execution_count": 95,
     "metadata": {},
     "output_type": "execute_result"
    }
   ],
   "source": [
    "series(aprox,Sym(\"h\"),0,6)"
   ]
  },
  {
   "cell_type": "markdown",
   "metadata": {},
   "source": [
    "Esto coincide con la expansión en Taylor que obtuvimos en la tarea 8 para la derivada simetrica. Veamos que el error es efectivamente de orden 2 :)\n",
    "\n",
    "Si tomamos un orden mayor para la derivada obtenemos lo siguiente"
   ]
  },
  {
   "cell_type": "code",
   "execution_count": 96,
   "metadata": {},
   "outputs": [
    {
     "data": {
      "text/latex": [
       "$$\\frac{1}{h} \\left(\\frac{1}{48} f{\\left (- 3 h + x \\right )} - \\frac{9}{16} f{\\left (- h + x \\right )} + \\frac{9}{16} f{\\left (h + x \\right )} - \\frac{1}{48} f{\\left (3 h + x \\right )}\\right)$$"
      ],
      "text/plain": [
       "f(-3*h + x)   9*f(-h + x)   9*f(h + x)   f(3*h + x)\n",
       "----------- - ----------- + ---------- - ----------\n",
       "     48            16           16           48    \n",
       "---------------------------------------------------\n",
       "                         h                         "
      ]
     },
     "execution_count": 96,
     "metadata": {},
     "output_type": "execute_result"
    }
   ],
   "source": [
    "aprox=derivada_orden_simbolico(SymFunction(\"f\"),Sym(\"x\"),Sym(\"h\"),3)"
   ]
  },
  {
   "cell_type": "code",
   "execution_count": 97,
   "metadata": {},
   "outputs": [
    {
     "data": {
      "text/latex": [
       "$$\\left. \\frac{d}{d \\xi_{1}} f{\\left (\\xi_{1} \\right )} \\right|_{\\substack{ \\xi_{1}=x }} - \\frac{3 h^{4}}{40} \\left. \\frac{d^{5}}{d \\xi_{1}^{5}}  f{\\left (\\xi_{1} \\right )} \\right|_{\\substack{ \\xi_{1}=x }} - \\frac{h^{6}}{56} \\left. \\frac{d^{7}}{d \\xi_{1}^{7}}  f{\\left (\\xi_{1} \\right )} \\right|_{\\substack{ \\xi_{1}=x }} + \\mathcal{O}\\left(h^{7}\\right)$$"
      ],
      "text/plain": [
       "                               /   5           \\|            /   7           \\\n",
       "                             4 |  d            ||          6 |  d            |\n",
       "                          3*h *|------(f(xi_1))||         h *|------(f(xi_1))|\n",
       "                               |     5         ||            |     7         |\n",
       "/  d           \\|              \\dxi_1          /|xi_1=x      \\dxi_1          /\n",
       "|-----(f(xi_1))||       - ----------------------------- - --------------------\n",
       "\\dxi_1         /|xi_1=x                 40                             56     \n",
       "\n",
       "|              \n",
       "|              \n",
       "|              \n",
       "|              \n",
       "|xi_1=x    / 7\\\n",
       "------- + O\\h /\n",
       "               "
      ]
     },
     "execution_count": 97,
     "metadata": {},
     "output_type": "execute_result"
    }
   ],
   "source": [
    "series(aprox,Sym(\"h\"),0,7)"
   ]
  },
  {
   "cell_type": "markdown",
   "metadata": {},
   "source": [
    ":)"
   ]
  }
 ],
 "metadata": {
  "kernelspec": {
   "display_name": "Julia 0.6.0",
   "language": "julia",
   "name": "julia-0.6"
  },
  "language_info": {
   "file_extension": ".jl",
   "mimetype": "application/julia",
   "name": "julia",
   "version": "0.6.0"
  }
 },
 "nbformat": 4,
 "nbformat_minor": 2
}
